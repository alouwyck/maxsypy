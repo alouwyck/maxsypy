{
  "nbformat": 4,
  "nbformat_minor": 0,
  "metadata": {
    "colab": {
      "provenance": [],
      "toc_visible": true,
      "authorship_tag": "ABX9TyOdgKwaEcIHcy1XnCxH5R7V",
      "include_colab_link": true
    },
    "kernelspec": {
      "name": "python3",
      "display_name": "Python 3"
    },
    "language_info": {
      "name": "python"
    }
  },
  "cells": [
    {
      "cell_type": "markdown",
      "metadata": {
        "id": "view-in-github",
        "colab_type": "text"
      },
      "source": [
        "<a href=\"https://colab.research.google.com/github/alouwyck/maxsypy/blob/main/seminaries/UM6P_jan_2025/Seminary_UM6P_Jan_2025_Part_7_Aquifer_tests.ipynb\" target=\"_parent\"><img src=\"https://colab.research.google.com/assets/colab-badge.svg\" alt=\"Open In Colab\"/></a>"
      ]
    },
    {
      "cell_type": "markdown",
      "source": [
        "<img src=\"data:image/png;base64,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\" align=\"right\" /><br>\n",
        "\n",
        "\n",
        "**Axisymmetric Flow in Multilayer Aquifer Systems**<br>\n",
        "Seminary on Groundwater Modeling<br>\n",
        "University Mohammed VI Polytechnic<br>\n",
        "January 6, 2025<br>\n",
        "Dr. Andy Louwyck\n",
        "\n",
        "---\n",
        "\n",
        "\n",
        "\n",
        "---"
      ],
      "metadata": {
        "id": "9Swt1i8gtQr_"
      }
    },
    {
      "cell_type": "markdown",
      "source": [
        "# **Part 7 - Aquifer tests**"
      ],
      "metadata": {
        "id": "yswE9hdQSUcb"
      }
    },
    {
      "cell_type": "markdown",
      "source": [
        "This notebook discusses the interpretation of two aquifer tests performed in the field. The first is a pumping test in a leaky aquifer, and the second is a slug test conducted in a partially penetrating well. The explanation provided with each example is relatively concise. To gain a good understanding of what's going on, I recommend reading the notebook side by side with the slides. For a full comprehension of the discussed models, I refer to [my PhD thesis](https://github.com/alouwyck/PhD) (Louwyck, 2023)."
      ],
      "metadata": {
        "id": "EFvYz3KykdTm"
      }
    },
    {
      "cell_type": "markdown",
      "source": [
        "## 0. Import statements"
      ],
      "metadata": {
        "id": "sBmtYhet-NLJ"
      }
    },
    {
      "cell_type": "markdown",
      "source": [
        "We need the following libraries:\n",
        "- [NumPy](https://numpy.org/)\n",
        "- [Pandas](https://pandas.pydata.org/)\n",
        "- [Matplotlib](https://matplotlib.org/)\n",
        "\n",
        "Importing module `inspect` will allow us to print the source code of the functions implemented in the `maxsypy` package."
      ],
      "metadata": {
        "id": "yO57RJnu-SwK"
      }
    },
    {
      "cell_type": "code",
      "source": [
        "import numpy as np\n",
        "import pandas as pd\n",
        "import matplotlib.pyplot as plt\n",
        "import inspect"
      ],
      "metadata": {
        "id": "J7PGsbbv-kK8"
      },
      "execution_count": 1,
      "outputs": []
    },
    {
      "cell_type": "markdown",
      "source": [
        "We also clone the MAxSyPy package from GitHub for simulating axisymmetric groundwater flow:"
      ],
      "metadata": {
        "id": "Uduin5Lb-oOh"
      }
    },
    {
      "cell_type": "code",
      "source": [
        "import os, shutil\n",
        "\n",
        "# remove directory 'maxsypy' first if it already exists\n",
        "path = \"maxsypy\"\n",
        "if os.path.exists(path):\n",
        "    shutil.rmtree(path)\n",
        "\n",
        "# clone maxsypy repository from Github\n",
        "!git clone https://github.com/alouwyck/maxsypy\n",
        "\n",
        "# copy data files to current working directory\n",
        "data_folder = './data'\n",
        "if os.path.exists(data_folder):\n",
        "    shutil.rmtree(data_folder)\n",
        "shutil.copytree(\"./maxsypy/seminaries/UM6P_jan_2025/data\", data_folder)\n",
        "\n",
        "# put maxsypy package directory in the current working directory\n",
        "os.rename(path, 'temp')\n",
        "shutil.copytree(os.path.join('temp', path), path);\n",
        "shutil.rmtree('temp')"
      ],
      "metadata": {
        "colab": {
          "base_uri": "https://localhost:8080/"
        },
        "id": "y0Y-YtP9oT_J",
        "outputId": "0880932a-9ce8-46f3-b066-d9fa8aca2e67"
      },
      "execution_count": 2,
      "outputs": [
        {
          "output_type": "stream",
          "name": "stdout",
          "text": [
            "Cloning into 'maxsypy'...\n",
            "remote: Enumerating objects: 209, done.\u001b[K\n",
            "remote: Counting objects: 100% (149/149), done.\u001b[K\n",
            "remote: Compressing objects: 100% (141/141), done.\u001b[K\n",
            "remote: Total 209 (delta 62), reused 0 (delta 0), pack-reused 60 (from 1)\u001b[K\n",
            "Receiving objects: 100% (209/209), 7.19 MiB | 8.68 MiB/s, done.\n",
            "Resolving deltas: 100% (96/96), done.\n"
          ]
        }
      ]
    },
    {
      "cell_type": "markdown",
      "source": [
        "The [MAxSyPy](https://github.com/alouwyck/maxsypy) package implements several analytical and semi-analytical solutions discussed in my PhD thesis (Louwyck, 2023)."
      ],
      "metadata": {
        "id": "THKmzKd8-2rS"
      }
    },
    {
      "cell_type": "markdown",
      "source": [
        "## 1. Pumping test in a leaky aquifer"
      ],
      "metadata": {
        "id": "UAAtYz9QwOHS"
      }
    },
    {
      "cell_type": "markdown",
      "source": [
        "This section shows how to interpret a pumping test performed in a leaky aquifer. Two methods are applied to fit the pumping test data and derive the optimal values for the hydraulic parameters:\n",
        "1. the [Levenberg-Marquardt algorithm](https://en.wikipedia.org/wiki/Levenberg%E2%80%93Marquardt_algorithm);\n",
        "2. the [Nelder-Mead method](https://en.wikipedia.org/wiki/Nelder%E2%80%93Mead_method)."
      ],
      "metadata": {
        "id": "fk9gcz9crZ_v"
      }
    },
    {
      "cell_type": "markdown",
      "source": [
        "### Pumping test data"
      ],
      "metadata": {
        "id": "sSlWyAub1z5X"
      }
    },
    {
      "cell_type": "markdown",
      "source": [
        "Consider the pumping test data stored in file `'./data/pumping_test_data.txt'`:"
      ],
      "metadata": {
        "id": "7idfRxiJ17TL"
      }
    },
    {
      "cell_type": "code",
      "source": [
        "!head ./data/pumping_test_data.txt"
      ],
      "metadata": {
        "colab": {
          "base_uri": "https://localhost:8080/"
        },
        "id": "ccsSrxp54L7O",
        "outputId": "fd040ef0-de0d-40bd-b960-90df8fdb5374"
      },
      "execution_count": 3,
      "outputs": [
        {
          "output_type": "stream",
          "name": "stdout",
          "text": [
            "Observation well at 197 m from pumping well\r\n",
            "Pumping well has discharge equal to 69.1 m³/h\r\n",
            "Reference: Jiang Hui, Zeng Buo, Pan Hongyu, 2009. Groundwater Dynamics. Beijing, Geological Publishing House.\r\n",
            "\r\n",
            "time (min)\tdrawdown (m)\r\n",
            "1\t0.05\r\n",
            "4\t0.054\r\n",
            "7\t0.12\r\n",
            "10\t0.175\r\n",
            "15\t0.26\r\n"
          ]
        }
      ]
    },
    {
      "cell_type": "markdown",
      "source": [
        "Using Pandas to read the text-file as a `DataFrame`:"
      ],
      "metadata": {
        "id": "bs7j6Oukp0T2"
      }
    },
    {
      "cell_type": "code",
      "source": [
        "df = pd.read_csv('./data/pumping_test_data.txt',\n",
        "                 sep='\\t', skiprows=4)  # use tab as separator and skip first 4 rows\n",
        "df.head()"
      ],
      "metadata": {
        "colab": {
          "base_uri": "https://localhost:8080/",
          "height": 206
        },
        "id": "3SvGTHmjV1oG",
        "outputId": "db0eb549-4b74-4c94-bea1-a2d75abb33b6"
      },
      "execution_count": 4,
      "outputs": [
        {
          "output_type": "execute_result",
          "data": {
            "text/plain": [
              "   time (min)  drawdown (m)\n",
              "0           1         0.050\n",
              "1           4         0.054\n",
              "2           7         0.120\n",
              "3          10         0.175\n",
              "4          15         0.260"
            ],
            "text/html": [
              "\n",
              "  <div id=\"df-21c2bca5-67ff-4be7-a018-8cb07bd81dc6\" class=\"colab-df-container\">\n",
              "    <div>\n",
              "<style scoped>\n",
              "    .dataframe tbody tr th:only-of-type {\n",
              "        vertical-align: middle;\n",
              "    }\n",
              "\n",
              "    .dataframe tbody tr th {\n",
              "        vertical-align: top;\n",
              "    }\n",
              "\n",
              "    .dataframe thead th {\n",
              "        text-align: right;\n",
              "    }\n",
              "</style>\n",
              "<table border=\"1\" class=\"dataframe\">\n",
              "  <thead>\n",
              "    <tr style=\"text-align: right;\">\n",
              "      <th></th>\n",
              "      <th>time (min)</th>\n",
              "      <th>drawdown (m)</th>\n",
              "    </tr>\n",
              "  </thead>\n",
              "  <tbody>\n",
              "    <tr>\n",
              "      <th>0</th>\n",
              "      <td>1</td>\n",
              "      <td>0.050</td>\n",
              "    </tr>\n",
              "    <tr>\n",
              "      <th>1</th>\n",
              "      <td>4</td>\n",
              "      <td>0.054</td>\n",
              "    </tr>\n",
              "    <tr>\n",
              "      <th>2</th>\n",
              "      <td>7</td>\n",
              "      <td>0.120</td>\n",
              "    </tr>\n",
              "    <tr>\n",
              "      <th>3</th>\n",
              "      <td>10</td>\n",
              "      <td>0.175</td>\n",
              "    </tr>\n",
              "    <tr>\n",
              "      <th>4</th>\n",
              "      <td>15</td>\n",
              "      <td>0.260</td>\n",
              "    </tr>\n",
              "  </tbody>\n",
              "</table>\n",
              "</div>\n",
              "    <div class=\"colab-df-buttons\">\n",
              "\n",
              "  <div class=\"colab-df-container\">\n",
              "    <button class=\"colab-df-convert\" onclick=\"convertToInteractive('df-21c2bca5-67ff-4be7-a018-8cb07bd81dc6')\"\n",
              "            title=\"Convert this dataframe to an interactive table.\"\n",
              "            style=\"display:none;\">\n",
              "\n",
              "  <svg xmlns=\"http://www.w3.org/2000/svg\" height=\"24px\" viewBox=\"0 -960 960 960\">\n",
              "    <path d=\"M120-120v-720h720v720H120Zm60-500h600v-160H180v160Zm220 220h160v-160H400v160Zm0 220h160v-160H400v160ZM180-400h160v-160H180v160Zm440 0h160v-160H620v160ZM180-180h160v-160H180v160Zm440 0h160v-160H620v160Z\"/>\n",
              "  </svg>\n",
              "    </button>\n",
              "\n",
              "  <style>\n",
              "    .colab-df-container {\n",
              "      display:flex;\n",
              "      gap: 12px;\n",
              "    }\n",
              "\n",
              "    .colab-df-convert {\n",
              "      background-color: #E8F0FE;\n",
              "      border: none;\n",
              "      border-radius: 50%;\n",
              "      cursor: pointer;\n",
              "      display: none;\n",
              "      fill: #1967D2;\n",
              "      height: 32px;\n",
              "      padding: 0 0 0 0;\n",
              "      width: 32px;\n",
              "    }\n",
              "\n",
              "    .colab-df-convert:hover {\n",
              "      background-color: #E2EBFA;\n",
              "      box-shadow: 0px 1px 2px rgba(60, 64, 67, 0.3), 0px 1px 3px 1px rgba(60, 64, 67, 0.15);\n",
              "      fill: #174EA6;\n",
              "    }\n",
              "\n",
              "    .colab-df-buttons div {\n",
              "      margin-bottom: 4px;\n",
              "    }\n",
              "\n",
              "    [theme=dark] .colab-df-convert {\n",
              "      background-color: #3B4455;\n",
              "      fill: #D2E3FC;\n",
              "    }\n",
              "\n",
              "    [theme=dark] .colab-df-convert:hover {\n",
              "      background-color: #434B5C;\n",
              "      box-shadow: 0px 1px 3px 1px rgba(0, 0, 0, 0.15);\n",
              "      filter: drop-shadow(0px 1px 2px rgba(0, 0, 0, 0.3));\n",
              "      fill: #FFFFFF;\n",
              "    }\n",
              "  </style>\n",
              "\n",
              "    <script>\n",
              "      const buttonEl =\n",
              "        document.querySelector('#df-21c2bca5-67ff-4be7-a018-8cb07bd81dc6 button.colab-df-convert');\n",
              "      buttonEl.style.display =\n",
              "        google.colab.kernel.accessAllowed ? 'block' : 'none';\n",
              "\n",
              "      async function convertToInteractive(key) {\n",
              "        const element = document.querySelector('#df-21c2bca5-67ff-4be7-a018-8cb07bd81dc6');\n",
              "        const dataTable =\n",
              "          await google.colab.kernel.invokeFunction('convertToInteractive',\n",
              "                                                    [key], {});\n",
              "        if (!dataTable) return;\n",
              "\n",
              "        const docLinkHtml = 'Like what you see? Visit the ' +\n",
              "          '<a target=\"_blank\" href=https://colab.research.google.com/notebooks/data_table.ipynb>data table notebook</a>'\n",
              "          + ' to learn more about interactive tables.';\n",
              "        element.innerHTML = '';\n",
              "        dataTable['output_type'] = 'display_data';\n",
              "        await google.colab.output.renderOutput(dataTable, element);\n",
              "        const docLink = document.createElement('div');\n",
              "        docLink.innerHTML = docLinkHtml;\n",
              "        element.appendChild(docLink);\n",
              "      }\n",
              "    </script>\n",
              "  </div>\n",
              "\n",
              "\n",
              "<div id=\"df-3dd70ff2-9516-4f78-9a65-dbadba7502fd\">\n",
              "  <button class=\"colab-df-quickchart\" onclick=\"quickchart('df-3dd70ff2-9516-4f78-9a65-dbadba7502fd')\"\n",
              "            title=\"Suggest charts\"\n",
              "            style=\"display:none;\">\n",
              "\n",
              "<svg xmlns=\"http://www.w3.org/2000/svg\" height=\"24px\"viewBox=\"0 0 24 24\"\n",
              "     width=\"24px\">\n",
              "    <g>\n",
              "        <path d=\"M19 3H5c-1.1 0-2 .9-2 2v14c0 1.1.9 2 2 2h14c1.1 0 2-.9 2-2V5c0-1.1-.9-2-2-2zM9 17H7v-7h2v7zm4 0h-2V7h2v10zm4 0h-2v-4h2v4z\"/>\n",
              "    </g>\n",
              "</svg>\n",
              "  </button>\n",
              "\n",
              "<style>\n",
              "  .colab-df-quickchart {\n",
              "      --bg-color: #E8F0FE;\n",
              "      --fill-color: #1967D2;\n",
              "      --hover-bg-color: #E2EBFA;\n",
              "      --hover-fill-color: #174EA6;\n",
              "      --disabled-fill-color: #AAA;\n",
              "      --disabled-bg-color: #DDD;\n",
              "  }\n",
              "\n",
              "  [theme=dark] .colab-df-quickchart {\n",
              "      --bg-color: #3B4455;\n",
              "      --fill-color: #D2E3FC;\n",
              "      --hover-bg-color: #434B5C;\n",
              "      --hover-fill-color: #FFFFFF;\n",
              "      --disabled-bg-color: #3B4455;\n",
              "      --disabled-fill-color: #666;\n",
              "  }\n",
              "\n",
              "  .colab-df-quickchart {\n",
              "    background-color: var(--bg-color);\n",
              "    border: none;\n",
              "    border-radius: 50%;\n",
              "    cursor: pointer;\n",
              "    display: none;\n",
              "    fill: var(--fill-color);\n",
              "    height: 32px;\n",
              "    padding: 0;\n",
              "    width: 32px;\n",
              "  }\n",
              "\n",
              "  .colab-df-quickchart:hover {\n",
              "    background-color: var(--hover-bg-color);\n",
              "    box-shadow: 0 1px 2px rgba(60, 64, 67, 0.3), 0 1px 3px 1px rgba(60, 64, 67, 0.15);\n",
              "    fill: var(--button-hover-fill-color);\n",
              "  }\n",
              "\n",
              "  .colab-df-quickchart-complete:disabled,\n",
              "  .colab-df-quickchart-complete:disabled:hover {\n",
              "    background-color: var(--disabled-bg-color);\n",
              "    fill: var(--disabled-fill-color);\n",
              "    box-shadow: none;\n",
              "  }\n",
              "\n",
              "  .colab-df-spinner {\n",
              "    border: 2px solid var(--fill-color);\n",
              "    border-color: transparent;\n",
              "    border-bottom-color: var(--fill-color);\n",
              "    animation:\n",
              "      spin 1s steps(1) infinite;\n",
              "  }\n",
              "\n",
              "  @keyframes spin {\n",
              "    0% {\n",
              "      border-color: transparent;\n",
              "      border-bottom-color: var(--fill-color);\n",
              "      border-left-color: var(--fill-color);\n",
              "    }\n",
              "    20% {\n",
              "      border-color: transparent;\n",
              "      border-left-color: var(--fill-color);\n",
              "      border-top-color: var(--fill-color);\n",
              "    }\n",
              "    30% {\n",
              "      border-color: transparent;\n",
              "      border-left-color: var(--fill-color);\n",
              "      border-top-color: var(--fill-color);\n",
              "      border-right-color: var(--fill-color);\n",
              "    }\n",
              "    40% {\n",
              "      border-color: transparent;\n",
              "      border-right-color: var(--fill-color);\n",
              "      border-top-color: var(--fill-color);\n",
              "    }\n",
              "    60% {\n",
              "      border-color: transparent;\n",
              "      border-right-color: var(--fill-color);\n",
              "    }\n",
              "    80% {\n",
              "      border-color: transparent;\n",
              "      border-right-color: var(--fill-color);\n",
              "      border-bottom-color: var(--fill-color);\n",
              "    }\n",
              "    90% {\n",
              "      border-color: transparent;\n",
              "      border-bottom-color: var(--fill-color);\n",
              "    }\n",
              "  }\n",
              "</style>\n",
              "\n",
              "  <script>\n",
              "    async function quickchart(key) {\n",
              "      const quickchartButtonEl =\n",
              "        document.querySelector('#' + key + ' button');\n",
              "      quickchartButtonEl.disabled = true;  // To prevent multiple clicks.\n",
              "      quickchartButtonEl.classList.add('colab-df-spinner');\n",
              "      try {\n",
              "        const charts = await google.colab.kernel.invokeFunction(\n",
              "            'suggestCharts', [key], {});\n",
              "      } catch (error) {\n",
              "        console.error('Error during call to suggestCharts:', error);\n",
              "      }\n",
              "      quickchartButtonEl.classList.remove('colab-df-spinner');\n",
              "      quickchartButtonEl.classList.add('colab-df-quickchart-complete');\n",
              "    }\n",
              "    (() => {\n",
              "      let quickchartButtonEl =\n",
              "        document.querySelector('#df-3dd70ff2-9516-4f78-9a65-dbadba7502fd button');\n",
              "      quickchartButtonEl.style.display =\n",
              "        google.colab.kernel.accessAllowed ? 'block' : 'none';\n",
              "    })();\n",
              "  </script>\n",
              "</div>\n",
              "\n",
              "    </div>\n",
              "  </div>\n"
            ],
            "application/vnd.google.colaboratory.intrinsic+json": {
              "type": "dataframe",
              "variable_name": "df",
              "summary": "{\n  \"name\": \"df\",\n  \"rows\": 30,\n  \"fields\": [\n    {\n      \"column\": \"time (min)\",\n      \"properties\": {\n        \"dtype\": \"number\",\n        \"std\": 213,\n        \"min\": 1,\n        \"max\": 660,\n        \"num_unique_values\": 30,\n        \"samples\": [\n          570,\n          210,\n          450\n        ],\n        \"semantic_type\": \"\",\n        \"description\": \"\"\n      }\n    },\n    {\n      \"column\": \"drawdown (m)\",\n      \"properties\": {\n        \"dtype\": \"number\",\n        \"std\": 0.25103185675019074,\n        \"min\": 0.05,\n        \"max\": 0.8,\n        \"num_unique_values\": 29,\n        \"samples\": [\n          0.798,\n          0.76,\n          0.685\n        ],\n        \"semantic_type\": \"\",\n        \"description\": \"\"\n      }\n    }\n  ]\n}"
            }
          },
          "metadata": {},
          "execution_count": 4
        }
      ]
    },
    {
      "cell_type": "markdown",
      "source": [
        "Plotting the data:"
      ],
      "metadata": {
        "id": "_fFVU-oP460E"
      }
    },
    {
      "cell_type": "code",
      "source": [
        "df.plot(x='time (min)', y='drawdown (m)',\n",
        "        style='b.-', grid=True);"
      ],
      "metadata": {
        "colab": {
          "base_uri": "https://localhost:8080/",
          "height": 449
        },
        "id": "1NPvnTvu4VjJ",
        "outputId": "542f31db-5426-4feb-cfd4-8acfd9bb7bb9"
      },
      "execution_count": 5,
      "outputs": [
        {
          "output_type": "display_data",
          "data": {
            "text/plain": [
              "<Figure size 640x480 with 1 Axes>"
            ],
            "image/png": "[encoded data removed]"
          },
          "metadata": {}
        }
      ]
    },
    {
      "cell_type": "markdown",
      "source": [
        "These data were observed during a pumping test conducted in a leaky aquifer consisting of gravel (Jiang Hui et al., 2009). The leakage came from an upper unconfined aquifer, which was separated from the extracted aquifer by an aquitard of silty sand. The fully penetrating pumping well extracted water at a constant rate equal to 69.1 m³/h. The observed drawdowns were measured in an observation well at a distance of 197 m from the pumping well:"
      ],
      "metadata": {
        "id": "pQr0aIxP4AM-"
      }
    },
    {
      "cell_type": "code",
      "source": [
        "Q = 69.1 * 24  # pumping rate in m³/d\n",
        "r_obs = 197    # observation well distance in m\n",
        "\n",
        "t_obs = df['time (min)'].values / 60 / 24  # observation times in days\n",
        "s_obs = df['drawdown (m)'].values          # observed drawdowns in m"
      ],
      "metadata": {
        "id": "e4I67jF75MJS"
      },
      "execution_count": 6,
      "outputs": []
    },
    {
      "cell_type": "markdown",
      "source": [
        "### Hantush-Jacob"
      ],
      "metadata": {
        "id": "ccPrzxsc0R0q"
      }
    },
    {
      "cell_type": "markdown",
      "source": [
        "Assuming the separating aquitard is incompressible and drawdown in the unconfined aquifer is negligibly small, the Hantush-Jacob (1955) model can be applied to simulate the pumping test. This model is used indeed to simulate transient one-dimensional axisymmetric flow to a pumping well in a leaky aquifer, as illustrated in the figure below:"
      ],
      "metadata": {
        "id": "Lfh5KgdPoPyR"
      }
    },
    {
      "cell_type": "markdown",
      "source": [
        "![image.png](data:image/png;base64,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)"
      ],
      "metadata": {
        "id": "mO59wcVgyNfV"
      }
    },
    {
      "cell_type": "markdown",
      "source": [
        "The Hantush-Jacob (1955) model can be simulated using function `hantush_jacob`, which implements two solution methods:\n",
        "\n",
        "1. the numerical inversion of the Laplace solution using the Stehfest (1970) algorihtm;\n",
        "2. a fast numerical approximation of the Hantush well function $W$  by Veling & Maas (2010)."
      ],
      "metadata": {
        "id": "3pJ8MagvJMG_"
      }
    },
    {
      "cell_type": "code",
      "source": [
        "from maxsypy.special import hantush_jacob\n",
        "\n",
        "print(inspect.getdoc(hantush_jacob))"
      ],
      "metadata": {
        "colab": {
          "base_uri": "https://localhost:8080/"
        },
        "id": "Uq9Y-FidmqsF",
        "outputId": "1e97b466-5644-40e3-9dd5-bfc5ef17357f"
      },
      "execution_count": 7,
      "outputs": [
        {
          "output_type": "stream",
          "name": "stdout",
          "text": [
            "Simulate transient flow to a pumping well in a leaky aquifer.\n",
            "The well has an infinitesimal radius and extracts water at a constant pumping rate.\n",
            "\n",
            "The solution is obtained from numerical inversion of the exact analytical solution in Laplace space.\n",
            "There is also the option to apply a fast approximation of the Hantush Well function W.\n",
            "See input parameter `ns`.\n",
            "\n",
            "Parameters\n",
            "----------\n",
            "r : array_like\n",
            "  One-dimensional array with the radial distances [L].\n",
            "t : array_like\n",
            "  One-dimensional array with the simulation times [T].\n",
            "T : float\n",
            "  Aquifer transmissivity [L²/T].\n",
            "S : float\n",
            "  Aquifer storativity [-].\n",
            "Q : float\n",
            "  Pumping rate [L³/T] of the well.\n",
            "c_top : float\n",
            "      Vertical resistance [T] of the aquitard overlying the aquifer.\n",
            "h_top : float, default: 0.0\n",
            "      Constant head [L] of the upper boundary condition, which is also the initial head in the aquifer.\n",
            "ns : int, default: 12\n",
            "   Stehfest number - must be a positive, even integer.\n",
            "   If `ns` is `None`, then a fast approximation of the Hantush Well function is applied.\n",
            "\n",
            "Returns\n",
            "-------\n",
            "h : ndarray\n",
            "  Hydraulic head [L] at distances `r` and times `t`.\n",
            "  Shape of `h` is `(nr, nt)`, with `nr` the length of `r`, and `nt` the length of `t`.\n"
          ]
        }
      ]
    },
    {
      "cell_type": "markdown",
      "source": [
        "The hydraulic parameters are adopted from a rejected paper in which a random weight particle swarm optimization algorithm (RandWPSO) was applied to interpret the pumping test data:"
      ],
      "metadata": {
        "id": "Z33Fn9zp6dax"
      }
    },
    {
      "cell_type": "code",
      "source": [
        "T_ai = 403.9988961794492     # aquifer transmissivity (m²/d)\n",
        "S_ai = 1.397843694485632E-4  # aquifer storativity (-)\n",
        "c_ai = 1 / 1.334002E-3       # aquifer resistance (d)\n",
        "c_ai"
      ],
      "metadata": {
        "colab": {
          "base_uri": "https://localhost:8080/"
        },
        "id": "Z1wYqSrC6Dfd",
        "outputId": "a5c7a69c-106b-422a-ad6f-5aba1ba4cc9c"
      },
      "execution_count": 8,
      "outputs": [
        {
          "output_type": "execute_result",
          "data": {
            "text/plain": [
              "749.6240635321386"
            ]
          },
          "metadata": {},
          "execution_count": 8
        }
      ]
    },
    {
      "cell_type": "markdown",
      "source": [
        "Simulating the Hantush-Jacob model using the parameters obtained from this AI method:"
      ],
      "metadata": {
        "id": "0AlKkOkf7K4D"
      }
    },
    {
      "cell_type": "code",
      "source": [
        "s_ai = hantush_jacob(r=r_obs, t=t_obs, Q=Q, T=T_ai, S=S_ai, c_top=c_ai)"
      ],
      "metadata": {
        "id": "5XDqZuhy7CHI"
      },
      "execution_count": 9,
      "outputs": []
    },
    {
      "cell_type": "markdown",
      "source": [
        "Adding the simulated drawdown curve to the time-drawdown plot:"
      ],
      "metadata": {
        "id": "hP9k9i0e66Vq"
      }
    },
    {
      "cell_type": "code",
      "source": [
        "import matplotlib.pyplot as plt\n",
        "\n",
        "plt.plot(t_obs, s_obs, 'b.', label='observed');\n",
        "plt.plot(t_obs, s_ai[0], 'r-', label='simulated');\n",
        "plt.grid();\n",
        "plt.xlabel('t (d)');\n",
        "plt.ylabel('s (m)');\n",
        "plt.legend();"
      ],
      "metadata": {
        "colab": {
          "base_uri": "https://localhost:8080/",
          "height": 449
        },
        "id": "diK6RhrZ7Wnp",
        "outputId": "0f1318ae-5e02-412c-a33c-9965ab885649"
      },
      "execution_count": 10,
      "outputs": [
        {
          "output_type": "display_data",
          "data": {
            "text/plain": [
              "<Figure size 640x480 with 1 Axes>"
            ],
            "image/png": "[encoded data removed]"
          },
          "metadata": {}
        }
      ]
    },
    {
      "cell_type": "markdown",
      "source": [
        "Indeed, there is a good correspondence between the observed and simulated drawdowns. However, the rejected paper states that the total computation time to derive the three hydraulic parameters was 4.5 minutes... So, this is not a computationally efficient method!"
      ],
      "metadata": {
        "id": "w7OCkpQv816W"
      }
    },
    {
      "cell_type": "markdown",
      "source": [
        "### Levenberg-Marquardt"
      ],
      "metadata": {
        "id": "40cHr10y8s4u"
      }
    },
    {
      "cell_type": "markdown",
      "source": [
        "This section shows how to use the traditional [Levenberg-Marquardt algorithm](https://en.wikipedia.org/wiki/Levenberg%E2%80%93Marquardt_algorithm) to interpret the pumping test data in a fraction of a second!"
      ],
      "metadata": {
        "id": "oKWyQwtz702C"
      }
    },
    {
      "cell_type": "markdown",
      "source": [
        "Just like in the rejected paper, the first observation is removed as it is not reliable:"
      ],
      "metadata": {
        "id": "TZcxubSnDMA1"
      }
    },
    {
      "cell_type": "code",
      "source": [
        "t_obs, s_obs = t_obs[1:], s_obs[1:]  # removing the first observation"
      ],
      "metadata": {
        "id": "nUvqnUKu7SkF"
      },
      "execution_count": 11,
      "outputs": []
    },
    {
      "cell_type": "markdown",
      "source": [
        "A function `residuals` is defined, where residual $\\eta_i$ of observation $i$ is defined as:\n",
        "\n",
        "> $\\eta_i = \\log_{10}{s_{obs, i}} - \\log_{10}{s_{i}}$\n",
        "\n",
        "with $s_{obs}$ the observed drawdown and $s$ the simulated drawdown.\n",
        "\n",
        "Note the data are normalized by taking the logarithm of the drawdowns."
      ],
      "metadata": {
        "id": "xDMvVDDtDcLp"
      }
    },
    {
      "cell_type": "code",
      "source": [
        "def residuals(logP):\n",
        "    '''\n",
        "    logP: array_like\n",
        "        Logarithm of the optimized hydraulic parameters\n",
        "        logP = [log10(T), log10(S), log10(c)]\n",
        "    returns: ndarray\n",
        "           Residuals of the observations\n",
        "    '''\n",
        "    T, S, c = tuple(10**logP)\n",
        "    s = hantush_jacob(r=r_obs, t=t_obs, Q=Q, T=T, S=S, c_top=c)\n",
        "    return np.log10(s_obs) - np.log10(s.flatten())"
      ],
      "metadata": {
        "id": "pFsRF00N8DVo"
      },
      "execution_count": 12,
      "outputs": []
    },
    {
      "cell_type": "markdown",
      "source": [
        "Using these residuals, the mean squared error (MSE) is calculated as:\n",
        "\n",
        "> $MSE = \\dfrac{1}{n}\\sum_i{\\eta_i^2}$\n",
        "\n",
        "with $n$ the number of observations."
      ],
      "metadata": {
        "id": "srjUSIrqGLvs"
      }
    },
    {
      "cell_type": "markdown",
      "source": [
        "Calculating the MSE for the RandWPSO optimization:"
      ],
      "metadata": {
        "id": "nFd8nPM0G9M4"
      }
    },
    {
      "cell_type": "code",
      "source": [
        "MSE = lambda logP: np.mean(np.square(residuals(logP)))\n",
        "\n",
        "print(f'MSE RandWPSO = {MSE(np.log10([T_ai, S_ai, c_ai]))}')"
      ],
      "metadata": {
        "colab": {
          "base_uri": "https://localhost:8080/"
        },
        "id": "VVk0ZFT1B1Lk",
        "outputId": "be86cb50-0957-4c34-f66c-6477b2cc7f0f"
      },
      "execution_count": 13,
      "outputs": [
        {
          "output_type": "stream",
          "name": "stdout",
          "text": [
            "MSE RandWPSO = 6.556205477882494e-05\n"
          ]
        }
      ]
    },
    {
      "cell_type": "markdown",
      "source": [
        "The Levenberg-Marquardt algorithm is available with SciPy function `least_squares`. Module `time` is used to time the computation."
      ],
      "metadata": {
        "id": "mfTxxtiHIz8_"
      }
    },
    {
      "cell_type": "code",
      "source": [
        "from time import time\n",
        "from scipy.optimize import least_squares\n",
        "\n",
        "x0 = np.array([1, -5, 2])  # starting values for logP\n",
        "start = time()\n",
        "result = least_squares(fun=residuals, x0=x0, method='lm',\n",
        "                       ftol=1e-12, xtol=1e-12, gtol=1e-12)\n",
        "print(f\"elapsed time: {time() - start} sec\")"
      ],
      "metadata": {
        "colab": {
          "base_uri": "https://localhost:8080/"
        },
        "id": "jX_0qxvg7irf",
        "outputId": "ad2e123d-afe4-40e0-e7ca-b8ba5fce6442"
      },
      "execution_count": 14,
      "outputs": [
        {
          "output_type": "stream",
          "name": "stdout",
          "text": [
            "elapsed time: 0.10034871101379395 sec\n"
          ]
        }
      ]
    },
    {
      "cell_type": "markdown",
      "source": [
        "Less than a tenth of a second is needed to perform the optimization! Let's check the result:"
      ],
      "metadata": {
        "id": "gq8Cv7VUJ8uX"
      }
    },
    {
      "cell_type": "code",
      "source": [
        "result"
      ],
      "metadata": {
        "colab": {
          "base_uri": "https://localhost:8080/"
        },
        "id": "249jh6BoIRhJ",
        "outputId": "0f0ae8ed-aa1d-4aab-c36c-390f4283099a"
      },
      "execution_count": 15,
      "outputs": [
        {
          "output_type": "execute_result",
          "data": {
            "text/plain": [
              "     message: `xtol` termination condition is satisfied.\n",
              "     success: True\n",
              "      status: 3\n",
              "         fun: [ 1.445e-02 -1.088e-02 ...  2.727e-03  3.484e-03]\n",
              "           x: [ 2.622e+00 -3.857e+00  2.905e+00]\n",
              "        cost: 0.000717604095003845\n",
              "         jac: [[-8.608e-01  1.843e+00 -1.729e-02]\n",
              "               [-2.910e-01  1.264e+00 -2.692e-02]\n",
              "               ...\n",
              "               [ 6.420e-01  9.516e-03 -3.485e-01]\n",
              "               [ 6.422e-01  6.539e-03 -3.512e-01]]\n",
              "        grad: [ 3.439e-05 -3.880e-05  9.276e-06]\n",
              "  optimality: 3.880061054759602e-05\n",
              " active_mask: [0 0 0]\n",
              "        nfev: 75\n",
              "        njev: None"
            ]
          },
          "metadata": {},
          "execution_count": 15
        }
      ]
    },
    {
      "cell_type": "markdown",
      "source": [
        "Printing the optimal values for the hydraulic parameters:"
      ],
      "metadata": {
        "id": "dPbGZJ6vKH0L"
      }
    },
    {
      "cell_type": "code",
      "source": [
        "T_lm, S_lm, c_lm = tuple(10**result.x)\n",
        "print(f\"r/B = {r_obs/np.sqrt(T_lm*c_lm)}\")\n",
        "print(f\"T = {T_lm}\")\n",
        "print(f\"S = {S_lm}\")\n",
        "print(f\"c = {c_lm}\")\n",
        "print(f\"K/M = {1/c_lm}\")"
      ],
      "metadata": {
        "colab": {
          "base_uri": "https://localhost:8080/"
        },
        "id": "ZxXET3_aADul",
        "outputId": "aa0f5a4a-3c84-4d97-d927-275ba7a09666"
      },
      "execution_count": 16,
      "outputs": [
        {
          "output_type": "stream",
          "name": "stdout",
          "text": [
            "r/B = 0.33966118442493454\n",
            "T = 418.38884431293474\n",
            "S = 0.0001391052948927095\n",
            "c = 804.0082714958618\n",
            "K/M = 0.0012437682987259504\n"
          ]
        }
      ]
    },
    {
      "cell_type": "markdown",
      "source": [
        "These values are very close to the optimal values obtained from the AI method, and actually, they may be considered more accurate as the MSE is smaller:"
      ],
      "metadata": {
        "id": "hw3aqd3jKXOT"
      }
    },
    {
      "cell_type": "code",
      "source": [
        "print(f'MSE Levenberg-Marquardt = {MSE(np.log10([T_lm, S_lm, c_lm]))}')"
      ],
      "metadata": {
        "colab": {
          "base_uri": "https://localhost:8080/"
        },
        "id": "ZPHPqaQfCJzL",
        "outputId": "590911cc-8e9c-4a21-8d19-6a89de5b1cc6"
      },
      "execution_count": 17,
      "outputs": [
        {
          "output_type": "stream",
          "name": "stdout",
          "text": [
            "MSE Levenberg-Marquardt = 4.9489937586472084e-05\n"
          ]
        }
      ]
    },
    {
      "cell_type": "markdown",
      "source": [
        "Simulating the Hantush-Jacob model using the optimal parameters obtained from the Levenberg-Marquardt regression:"
      ],
      "metadata": {
        "id": "l9DYNQlwLcdr"
      }
    },
    {
      "cell_type": "code",
      "source": [
        "s_lm = hantush_jacob(r=r_obs, t=t_obs, Q=Q, T=T_lm, S=S_lm, c_top=c_lm)"
      ],
      "metadata": {
        "id": "bL46Vo1qCImS"
      },
      "execution_count": 18,
      "outputs": []
    },
    {
      "cell_type": "markdown",
      "source": [
        "Plotting the results, this time using `semilogx`:"
      ],
      "metadata": {
        "id": "S1hb9DrzLp_O"
      }
    },
    {
      "cell_type": "code",
      "source": [
        "plt.semilogx(t_obs, s_obs, 'b.', label='observed');\n",
        "plt.semilogx(t_obs, s_ai[0, 1:], 'k-', label='RandWPSO');\n",
        "plt.semilogx(t_obs, s_lm[0], 'r--', label='Levenberg-Marquardt');\n",
        "plt.grid();\n",
        "plt.legend();\n",
        "plt.xlabel('t (d)');\n",
        "plt.ylabel('s (m)');"
      ],
      "metadata": {
        "colab": {
          "base_uri": "https://localhost:8080/",
          "height": 454
        },
        "id": "O6-j7_1m-nYB",
        "outputId": "d6a07da2-791c-4141-c2f8-130adee5101a"
      },
      "execution_count": 19,
      "outputs": [
        {
          "output_type": "display_data",
          "data": {
            "text/plain": [
              "<Figure size 640x480 with 1 Axes>"
            ],
            "image/png": "[encoded data removed]"
          },
          "metadata": {}
        }
      ]
    },
    {
      "cell_type": "markdown",
      "source": [
        "### Nelder-Mead"
      ],
      "metadata": {
        "id": "RQlv1m9AM2XY"
      }
    },
    {
      "cell_type": "markdown",
      "source": [
        "The Levenberg-Marquardt algorithm is a very efficient method for small unconstrained problems. As an alternative, the derivative-free [Nelder-Mead method](https://en.wikipedia.org/wiki/Nelder%E2%80%93Mead_method) can be applied, which is available with SciPy function `fmin`. Instead of the residuals, this function requires the objective function as input, which is the MSE."
      ],
      "metadata": {
        "id": "BF1dx5r7M7fG"
      }
    },
    {
      "cell_type": "code",
      "source": [
        "from scipy.optimize import fmin\n",
        "\n",
        "x0 = np.array([1, -5, 2])  # starting values for logP\n",
        "start = time()\n",
        "x = fmin(func=MSE, x0=x0)\n",
        "print(f'\\t MSE = {MSE(x)}')\n",
        "print(f\"elapsed time: {time() - start} sec\")"
      ],
      "metadata": {
        "colab": {
          "base_uri": "https://localhost:8080/"
        },
        "id": "GBDIYJ14CJI9",
        "outputId": "abd695fe-c44c-4abf-889d-acee2b2319d7"
      },
      "execution_count": 20,
      "outputs": [
        {
          "output_type": "stream",
          "name": "stdout",
          "text": [
            "Optimization terminated successfully.\n",
            "         Current function value: 0.000049\n",
            "         Iterations: 146\n",
            "         Function evaluations: 254\n",
            "\t MSE = 4.948986988651328e-05\n",
            "elapsed time: 0.4584951400756836 sec\n"
          ]
        }
      ]
    },
    {
      "cell_type": "code",
      "source": [
        "T_nm, S_nm, c_nm = tuple(10**x)\n",
        "print(f\"r/B = {r_obs/np.sqrt(T_nm*c_nm)}\")\n",
        "print(f\"T = {T_nm}\")\n",
        "print(f\"S = {S_nm}\")\n",
        "print(f\"c = {c_nm}\")\n",
        "print(f\"K/M = {1/c_nm}\")"
      ],
      "metadata": {
        "colab": {
          "base_uri": "https://localhost:8080/"
        },
        "id": "gKq8iH4hOJTs",
        "outputId": "cea49bf6-dcce-45ba-d07a-e329aae5ee8f"
      },
      "execution_count": 21,
      "outputs": [
        {
          "output_type": "stream",
          "name": "stdout",
          "text": [
            "r/B = 0.3396997421328106\n",
            "T = 418.36094406637955\n",
            "S = 0.00013910426019389012\n",
            "c = 803.8793701867394\n",
            "K/M = 0.0012439677358155145\n"
          ]
        }
      ]
    },
    {
      "cell_type": "markdown",
      "source": [
        "Virtually the same optimal values are obtained as with the Levenberg-Marquardt optimization. However, both the Levenberg-Marquardt and Nelder-Mead algorithms can get stuck in local minima, making it crucial to choose the 'right' initial values."
      ],
      "metadata": {
        "id": "8ygqQaTBUkdy"
      }
    },
    {
      "cell_type": "code",
      "source": [
        "x0 = np.array([1, -5, 0])  # starting values for logP\n",
        "x = fmin(func=MSE, x0=x0)\n",
        "print(f'\\t MSE = {MSE(x)}')"
      ],
      "metadata": {
        "colab": {
          "base_uri": "https://localhost:8080/"
        },
        "id": "E1BXqcuJUIUr",
        "outputId": "79757e22-f13a-44c8-d7da-f497a4f5af95"
      },
      "execution_count": 22,
      "outputs": [
        {
          "output_type": "stream",
          "name": "stderr",
          "text": [
            "<ipython-input-12-63eeb4f5b154>:11: RuntimeWarning: invalid value encountered in log10\n",
            "  return np.log10(s_obs) - np.log10(s.flatten())\n"
          ]
        },
        {
          "output_type": "stream",
          "name": "stdout",
          "text": [
            "Optimization terminated successfully.\n",
            "         Current function value: 0.078927\n",
            "         Iterations: 159\n",
            "         Function evaluations: 312\n",
            "\t MSE = 0.07892673918077135\n"
          ]
        }
      ]
    },
    {
      "cell_type": "markdown",
      "source": [
        "## 2. Slug test in a partially penetrating well"
      ],
      "metadata": {
        "id": "bFd2P-ewr1Ok"
      }
    },
    {
      "cell_type": "markdown",
      "source": [
        "This section shows how to interpret a slug test performed in a well partially penetrating a confined aquifer. The Nelder-Mead method is applied to fit the slug test data and derive the optimal values for the hydraulic parameters."
      ],
      "metadata": {
        "id": "0eWfoyAnOTy3"
      }
    },
    {
      "cell_type": "markdown",
      "source": [
        "### Slug test data"
      ],
      "metadata": {
        "id": "AQpKMqGifPEV"
      }
    },
    {
      "cell_type": "markdown",
      "source": [
        "The slug test data are stored in file `'./data/slug_test_data.csv'`:"
      ],
      "metadata": {
        "id": "eRXcLDlAOkDQ"
      }
    },
    {
      "cell_type": "code",
      "source": [
        "df = pd.read_csv('./data/slug_test_data.csv')\n",
        "df.head()"
      ],
      "metadata": {
        "colab": {
          "base_uri": "https://localhost:8080/",
          "height": 206
        },
        "id": "m90dYw38Pwj5",
        "outputId": "72e7d99d-d1a4-414f-ef11-a1e2a3815e2f"
      },
      "execution_count": 23,
      "outputs": [
        {
          "output_type": "execute_result",
          "data": {
            "text/plain": [
              "   dt(sec)    s(m)\n",
              "0    0.000 -0.7138\n",
              "1    0.125 -0.7131\n",
              "2    0.250 -0.7083\n",
              "3    0.375 -0.7048\n",
              "4    0.500 -0.7055"
            ],
            "text/html": [
              "\n",
              "  <div id=\"df-1a0f3e63-d518-4ddd-9627-8e9fb564ddab\" class=\"colab-df-container\">\n",
              "    <div>\n",
              "<style scoped>\n",
              "    .dataframe tbody tr th:only-of-type {\n",
              "        vertical-align: middle;\n",
              "    }\n",
              "\n",
              "    .dataframe tbody tr th {\n",
              "        vertical-align: top;\n",
              "    }\n",
              "\n",
              "    .dataframe thead th {\n",
              "        text-align: right;\n",
              "    }\n",
              "</style>\n",
              "<table border=\"1\" class=\"dataframe\">\n",
              "  <thead>\n",
              "    <tr style=\"text-align: right;\">\n",
              "      <th></th>\n",
              "      <th>dt(sec)</th>\n",
              "      <th>s(m)</th>\n",
              "    </tr>\n",
              "  </thead>\n",
              "  <tbody>\n",
              "    <tr>\n",
              "      <th>0</th>\n",
              "      <td>0.000</td>\n",
              "      <td>-0.7138</td>\n",
              "    </tr>\n",
              "    <tr>\n",
              "      <th>1</th>\n",
              "      <td>0.125</td>\n",
              "      <td>-0.7131</td>\n",
              "    </tr>\n",
              "    <tr>\n",
              "      <th>2</th>\n",
              "      <td>0.250</td>\n",
              "      <td>-0.7083</td>\n",
              "    </tr>\n",
              "    <tr>\n",
              "      <th>3</th>\n",
              "      <td>0.375</td>\n",
              "      <td>-0.7048</td>\n",
              "    </tr>\n",
              "    <tr>\n",
              "      <th>4</th>\n",
              "      <td>0.500</td>\n",
              "      <td>-0.7055</td>\n",
              "    </tr>\n",
              "  </tbody>\n",
              "</table>\n",
              "</div>\n",
              "    <div class=\"colab-df-buttons\">\n",
              "\n",
              "  <div class=\"colab-df-container\">\n",
              "    <button class=\"colab-df-convert\" onclick=\"convertToInteractive('df-1a0f3e63-d518-4ddd-9627-8e9fb564ddab')\"\n",
              "            title=\"Convert this dataframe to an interactive table.\"\n",
              "            style=\"display:none;\">\n",
              "\n",
              "  <svg xmlns=\"http://www.w3.org/2000/svg\" height=\"24px\" viewBox=\"0 -960 960 960\">\n",
              "    <path d=\"M120-120v-720h720v720H120Zm60-500h600v-160H180v160Zm220 220h160v-160H400v160Zm0 220h160v-160H400v160ZM180-400h160v-160H180v160Zm440 0h160v-160H620v160ZM180-180h160v-160H180v160Zm440 0h160v-160H620v160Z\"/>\n",
              "  </svg>\n",
              "    </button>\n",
              "\n",
              "  <style>\n",
              "    .colab-df-container {\n",
              "      display:flex;\n",
              "      gap: 12px;\n",
              "    }\n",
              "\n",
              "    .colab-df-convert {\n",
              "      background-color: #E8F0FE;\n",
              "      border: none;\n",
              "      border-radius: 50%;\n",
              "      cursor: pointer;\n",
              "      display: none;\n",
              "      fill: #1967D2;\n",
              "      height: 32px;\n",
              "      padding: 0 0 0 0;\n",
              "      width: 32px;\n",
              "    }\n",
              "\n",
              "    .colab-df-convert:hover {\n",
              "      background-color: #E2EBFA;\n",
              "      box-shadow: 0px 1px 2px rgba(60, 64, 67, 0.3), 0px 1px 3px 1px rgba(60, 64, 67, 0.15);\n",
              "      fill: #174EA6;\n",
              "    }\n",
              "\n",
              "    .colab-df-buttons div {\n",
              "      margin-bottom: 4px;\n",
              "    }\n",
              "\n",
              "    [theme=dark] .colab-df-convert {\n",
              "      background-color: #3B4455;\n",
              "      fill: #D2E3FC;\n",
              "    }\n",
              "\n",
              "    [theme=dark] .colab-df-convert:hover {\n",
              "      background-color: #434B5C;\n",
              "      box-shadow: 0px 1px 3px 1px rgba(0, 0, 0, 0.15);\n",
              "      filter: drop-shadow(0px 1px 2px rgba(0, 0, 0, 0.3));\n",
              "      fill: #FFFFFF;\n",
              "    }\n",
              "  </style>\n",
              "\n",
              "    <script>\n",
              "      const buttonEl =\n",
              "        document.querySelector('#df-1a0f3e63-d518-4ddd-9627-8e9fb564ddab button.colab-df-convert');\n",
              "      buttonEl.style.display =\n",
              "        google.colab.kernel.accessAllowed ? 'block' : 'none';\n",
              "\n",
              "      async function convertToInteractive(key) {\n",
              "        const element = document.querySelector('#df-1a0f3e63-d518-4ddd-9627-8e9fb564ddab');\n",
              "        const dataTable =\n",
              "          await google.colab.kernel.invokeFunction('convertToInteractive',\n",
              "                                                    [key], {});\n",
              "        if (!dataTable) return;\n",
              "\n",
              "        const docLinkHtml = 'Like what you see? Visit the ' +\n",
              "          '<a target=\"_blank\" href=https://colab.research.google.com/notebooks/data_table.ipynb>data table notebook</a>'\n",
              "          + ' to learn more about interactive tables.';\n",
              "        element.innerHTML = '';\n",
              "        dataTable['output_type'] = 'display_data';\n",
              "        await google.colab.output.renderOutput(dataTable, element);\n",
              "        const docLink = document.createElement('div');\n",
              "        docLink.innerHTML = docLinkHtml;\n",
              "        element.appendChild(docLink);\n",
              "      }\n",
              "    </script>\n",
              "  </div>\n",
              "\n",
              "\n",
              "<div id=\"df-35ef1f69-d0ea-481b-ad47-7aaa0b01b28e\">\n",
              "  <button class=\"colab-df-quickchart\" onclick=\"quickchart('df-35ef1f69-d0ea-481b-ad47-7aaa0b01b28e')\"\n",
              "            title=\"Suggest charts\"\n",
              "            style=\"display:none;\">\n",
              "\n",
              "<svg xmlns=\"http://www.w3.org/2000/svg\" height=\"24px\"viewBox=\"0 0 24 24\"\n",
              "     width=\"24px\">\n",
              "    <g>\n",
              "        <path d=\"M19 3H5c-1.1 0-2 .9-2 2v14c0 1.1.9 2 2 2h14c1.1 0 2-.9 2-2V5c0-1.1-.9-2-2-2zM9 17H7v-7h2v7zm4 0h-2V7h2v10zm4 0h-2v-4h2v4z\"/>\n",
              "    </g>\n",
              "</svg>\n",
              "  </button>\n",
              "\n",
              "<style>\n",
              "  .colab-df-quickchart {\n",
              "      --bg-color: #E8F0FE;\n",
              "      --fill-color: #1967D2;\n",
              "      --hover-bg-color: #E2EBFA;\n",
              "      --hover-fill-color: #174EA6;\n",
              "      --disabled-fill-color: #AAA;\n",
              "      --disabled-bg-color: #DDD;\n",
              "  }\n",
              "\n",
              "  [theme=dark] .colab-df-quickchart {\n",
              "      --bg-color: #3B4455;\n",
              "      --fill-color: #D2E3FC;\n",
              "      --hover-bg-color: #434B5C;\n",
              "      --hover-fill-color: #FFFFFF;\n",
              "      --disabled-bg-color: #3B4455;\n",
              "      --disabled-fill-color: #666;\n",
              "  }\n",
              "\n",
              "  .colab-df-quickchart {\n",
              "    background-color: var(--bg-color);\n",
              "    border: none;\n",
              "    border-radius: 50%;\n",
              "    cursor: pointer;\n",
              "    display: none;\n",
              "    fill: var(--fill-color);\n",
              "    height: 32px;\n",
              "    padding: 0;\n",
              "    width: 32px;\n",
              "  }\n",
              "\n",
              "  .colab-df-quickchart:hover {\n",
              "    background-color: var(--hover-bg-color);\n",
              "    box-shadow: 0 1px 2px rgba(60, 64, 67, 0.3), 0 1px 3px 1px rgba(60, 64, 67, 0.15);\n",
              "    fill: var(--button-hover-fill-color);\n",
              "  }\n",
              "\n",
              "  .colab-df-quickchart-complete:disabled,\n",
              "  .colab-df-quickchart-complete:disabled:hover {\n",
              "    background-color: var(--disabled-bg-color);\n",
              "    fill: var(--disabled-fill-color);\n",
              "    box-shadow: none;\n",
              "  }\n",
              "\n",
              "  .colab-df-spinner {\n",
              "    border: 2px solid var(--fill-color);\n",
              "    border-color: transparent;\n",
              "    border-bottom-color: var(--fill-color);\n",
              "    animation:\n",
              "      spin 1s steps(1) infinite;\n",
              "  }\n",
              "\n",
              "  @keyframes spin {\n",
              "    0% {\n",
              "      border-color: transparent;\n",
              "      border-bottom-color: var(--fill-color);\n",
              "      border-left-color: var(--fill-color);\n",
              "    }\n",
              "    20% {\n",
              "      border-color: transparent;\n",
              "      border-left-color: var(--fill-color);\n",
              "      border-top-color: var(--fill-color);\n",
              "    }\n",
              "    30% {\n",
              "      border-color: transparent;\n",
              "      border-left-color: var(--fill-color);\n",
              "      border-top-color: var(--fill-color);\n",
              "      border-right-color: var(--fill-color);\n",
              "    }\n",
              "    40% {\n",
              "      border-color: transparent;\n",
              "      border-right-color: var(--fill-color);\n",
              "      border-top-color: var(--fill-color);\n",
              "    }\n",
              "    60% {\n",
              "      border-color: transparent;\n",
              "      border-right-color: var(--fill-color);\n",
              "    }\n",
              "    80% {\n",
              "      border-color: transparent;\n",
              "      border-right-color: var(--fill-color);\n",
              "      border-bottom-color: var(--fill-color);\n",
              "    }\n",
              "    90% {\n",
              "      border-color: transparent;\n",
              "      border-bottom-color: var(--fill-color);\n",
              "    }\n",
              "  }\n",
              "</style>\n",
              "\n",
              "  <script>\n",
              "    async function quickchart(key) {\n",
              "      const quickchartButtonEl =\n",
              "        document.querySelector('#' + key + ' button');\n",
              "      quickchartButtonEl.disabled = true;  // To prevent multiple clicks.\n",
              "      quickchartButtonEl.classList.add('colab-df-spinner');\n",
              "      try {\n",
              "        const charts = await google.colab.kernel.invokeFunction(\n",
              "            'suggestCharts', [key], {});\n",
              "      } catch (error) {\n",
              "        console.error('Error during call to suggestCharts:', error);\n",
              "      }\n",
              "      quickchartButtonEl.classList.remove('colab-df-spinner');\n",
              "      quickchartButtonEl.classList.add('colab-df-quickchart-complete');\n",
              "    }\n",
              "    (() => {\n",
              "      let quickchartButtonEl =\n",
              "        document.querySelector('#df-35ef1f69-d0ea-481b-ad47-7aaa0b01b28e button');\n",
              "      quickchartButtonEl.style.display =\n",
              "        google.colab.kernel.accessAllowed ? 'block' : 'none';\n",
              "    })();\n",
              "  </script>\n",
              "</div>\n",
              "\n",
              "    </div>\n",
              "  </div>\n"
            ],
            "application/vnd.google.colaboratory.intrinsic+json": {
              "type": "dataframe",
              "variable_name": "df",
              "summary": "{\n  \"name\": \"df\",\n  \"rows\": 5612,\n  \"fields\": [\n    {\n      \"column\": \"dt(sec)\",\n      \"properties\": {\n        \"dtype\": \"number\",\n        \"std\": 202.5236483009382,\n        \"min\": 0.0,\n        \"max\": 701.375,\n        \"num_unique_values\": 5612,\n        \"samples\": [\n          644.375,\n          524.5,\n          247.25\n        ],\n        \"semantic_type\": \"\",\n        \"description\": \"\"\n      }\n    },\n    {\n      \"column\": \"s(m)\",\n      \"properties\": {\n        \"dtype\": \"number\",\n        \"std\": 0.10772450270537631,\n        \"min\": -0.7137999999999991,\n        \"max\": 0.0004000000000008,\n        \"num_unique_values\": 1320,\n        \"samples\": [\n          -0.0884,\n          -0.0848999999999993,\n          -0.1074999999999999\n        ],\n        \"semantic_type\": \"\",\n        \"description\": \"\"\n      }\n    }\n  ]\n}"
            }
          },
          "metadata": {},
          "execution_count": 23
        }
      ]
    },
    {
      "cell_type": "markdown",
      "source": [
        "The dataframe contains a column with the observation times and a column with the head changes. Let's further explore and visualize the data:"
      ],
      "metadata": {
        "id": "xVZk4zW0Osun"
      }
    },
    {
      "cell_type": "code",
      "source": [
        "df.info()"
      ],
      "metadata": {
        "colab": {
          "base_uri": "https://localhost:8080/"
        },
        "id": "Qmg7lAC6ViF3",
        "outputId": "b8895521-7068-4ad9-9f74-1d23b708a835"
      },
      "execution_count": 24,
      "outputs": [
        {
          "output_type": "stream",
          "name": "stdout",
          "text": [
            "<class 'pandas.core.frame.DataFrame'>\n",
            "RangeIndex: 5612 entries, 0 to 5611\n",
            "Data columns (total 2 columns):\n",
            " #   Column   Non-Null Count  Dtype  \n",
            "---  ------   --------------  -----  \n",
            " 0   dt(sec)  5612 non-null   float64\n",
            " 1   s(m)     5612 non-null   float64\n",
            "dtypes: float64(2)\n",
            "memory usage: 87.8 KB\n"
          ]
        }
      ]
    },
    {
      "cell_type": "code",
      "source": [
        "df.describe().T"
      ],
      "metadata": {
        "colab": {
          "base_uri": "https://localhost:8080/",
          "height": 112
        },
        "id": "WBYBK5obVlFt",
        "outputId": "57069967-0dd4-4bda-debe-6c2d1b10da3d"
      },
      "execution_count": 25,
      "outputs": [
        {
          "output_type": "execute_result",
          "data": {
            "text/plain": [
              "          count       mean         std     min        25%       50%  \\\n",
              "dt(sec)  5612.0  350.68750  202.523648  0.0000  175.34375  350.6875   \n",
              "s(m)     5612.0   -0.04386    0.107725 -0.7138   -0.02160   -0.0038   \n",
              "\n",
              "               75%       max  \n",
              "dt(sec)  526.03125  701.3750  \n",
              "s(m)      -0.00140    0.0004  "
            ],
            "text/html": [
              "\n",
              "  <div id=\"df-05e370a3-7360-43b8-a149-2b26931865af\" class=\"colab-df-container\">\n",
              "    <div>\n",
              "<style scoped>\n",
              "    .dataframe tbody tr th:only-of-type {\n",
              "        vertical-align: middle;\n",
              "    }\n",
              "\n",
              "    .dataframe tbody tr th {\n",
              "        vertical-align: top;\n",
              "    }\n",
              "\n",
              "    .dataframe thead th {\n",
              "        text-align: right;\n",
              "    }\n",
              "</style>\n",
              "<table border=\"1\" class=\"dataframe\">\n",
              "  <thead>\n",
              "    <tr style=\"text-align: right;\">\n",
              "      <th></th>\n",
              "      <th>count</th>\n",
              "      <th>mean</th>\n",
              "      <th>std</th>\n",
              "      <th>min</th>\n",
              "      <th>25%</th>\n",
              "      <th>50%</th>\n",
              "      <th>75%</th>\n",
              "      <th>max</th>\n",
              "    </tr>\n",
              "  </thead>\n",
              "  <tbody>\n",
              "    <tr>\n",
              "      <th>dt(sec)</th>\n",
              "      <td>5612.0</td>\n",
              "      <td>350.68750</td>\n",
              "      <td>202.523648</td>\n",
              "      <td>0.0000</td>\n",
              "      <td>175.34375</td>\n",
              "      <td>350.6875</td>\n",
              "      <td>526.03125</td>\n",
              "      <td>701.3750</td>\n",
              "    </tr>\n",
              "    <tr>\n",
              "      <th>s(m)</th>\n",
              "      <td>5612.0</td>\n",
              "      <td>-0.04386</td>\n",
              "      <td>0.107725</td>\n",
              "      <td>-0.7138</td>\n",
              "      <td>-0.02160</td>\n",
              "      <td>-0.0038</td>\n",
              "      <td>-0.00140</td>\n",
              "      <td>0.0004</td>\n",
              "    </tr>\n",
              "  </tbody>\n",
              "</table>\n",
              "</div>\n",
              "    <div class=\"colab-df-buttons\">\n",
              "\n",
              "  <div class=\"colab-df-container\">\n",
              "    <button class=\"colab-df-convert\" onclick=\"convertToInteractive('df-05e370a3-7360-43b8-a149-2b26931865af')\"\n",
              "            title=\"Convert this dataframe to an interactive table.\"\n",
              "            style=\"display:none;\">\n",
              "\n",
              "  <svg xmlns=\"http://www.w3.org/2000/svg\" height=\"24px\" viewBox=\"0 -960 960 960\">\n",
              "    <path d=\"M120-120v-720h720v720H120Zm60-500h600v-160H180v160Zm220 220h160v-160H400v160Zm0 220h160v-160H400v160ZM180-400h160v-160H180v160Zm440 0h160v-160H620v160ZM180-180h160v-160H180v160Zm440 0h160v-160H620v160Z\"/>\n",
              "  </svg>\n",
              "    </button>\n",
              "\n",
              "  <style>\n",
              "    .colab-df-container {\n",
              "      display:flex;\n",
              "      gap: 12px;\n",
              "    }\n",
              "\n",
              "    .colab-df-convert {\n",
              "      background-color: #E8F0FE;\n",
              "      border: none;\n",
              "      border-radius: 50%;\n",
              "      cursor: pointer;\n",
              "      display: none;\n",
              "      fill: #1967D2;\n",
              "      height: 32px;\n",
              "      padding: 0 0 0 0;\n",
              "      width: 32px;\n",
              "    }\n",
              "\n",
              "    .colab-df-convert:hover {\n",
              "      background-color: #E2EBFA;\n",
              "      box-shadow: 0px 1px 2px rgba(60, 64, 67, 0.3), 0px 1px 3px 1px rgba(60, 64, 67, 0.15);\n",
              "      fill: #174EA6;\n",
              "    }\n",
              "\n",
              "    .colab-df-buttons div {\n",
              "      margin-bottom: 4px;\n",
              "    }\n",
              "\n",
              "    [theme=dark] .colab-df-convert {\n",
              "      background-color: #3B4455;\n",
              "      fill: #D2E3FC;\n",
              "    }\n",
              "\n",
              "    [theme=dark] .colab-df-convert:hover {\n",
              "      background-color: #434B5C;\n",
              "      box-shadow: 0px 1px 3px 1px rgba(0, 0, 0, 0.15);\n",
              "      filter: drop-shadow(0px 1px 2px rgba(0, 0, 0, 0.3));\n",
              "      fill: #FFFFFF;\n",
              "    }\n",
              "  </style>\n",
              "\n",
              "    <script>\n",
              "      const buttonEl =\n",
              "        document.querySelector('#df-05e370a3-7360-43b8-a149-2b26931865af button.colab-df-convert');\n",
              "      buttonEl.style.display =\n",
              "        google.colab.kernel.accessAllowed ? 'block' : 'none';\n",
              "\n",
              "      async function convertToInteractive(key) {\n",
              "        const element = document.querySelector('#df-05e370a3-7360-43b8-a149-2b26931865af');\n",
              "        const dataTable =\n",
              "          await google.colab.kernel.invokeFunction('convertToInteractive',\n",
              "                                                    [key], {});\n",
              "        if (!dataTable) return;\n",
              "\n",
              "        const docLinkHtml = 'Like what you see? Visit the ' +\n",
              "          '<a target=\"_blank\" href=https://colab.research.google.com/notebooks/data_table.ipynb>data table notebook</a>'\n",
              "          + ' to learn more about interactive tables.';\n",
              "        element.innerHTML = '';\n",
              "        dataTable['output_type'] = 'display_data';\n",
              "        await google.colab.output.renderOutput(dataTable, element);\n",
              "        const docLink = document.createElement('div');\n",
              "        docLink.innerHTML = docLinkHtml;\n",
              "        element.appendChild(docLink);\n",
              "      }\n",
              "    </script>\n",
              "  </div>\n",
              "\n",
              "\n",
              "<div id=\"df-efc19655-9f64-4ff2-a425-1ff180ea5eb8\">\n",
              "  <button class=\"colab-df-quickchart\" onclick=\"quickchart('df-efc19655-9f64-4ff2-a425-1ff180ea5eb8')\"\n",
              "            title=\"Suggest charts\"\n",
              "            style=\"display:none;\">\n",
              "\n",
              "<svg xmlns=\"http://www.w3.org/2000/svg\" height=\"24px\"viewBox=\"0 0 24 24\"\n",
              "     width=\"24px\">\n",
              "    <g>\n",
              "        <path d=\"M19 3H5c-1.1 0-2 .9-2 2v14c0 1.1.9 2 2 2h14c1.1 0 2-.9 2-2V5c0-1.1-.9-2-2-2zM9 17H7v-7h2v7zm4 0h-2V7h2v10zm4 0h-2v-4h2v4z\"/>\n",
              "    </g>\n",
              "</svg>\n",
              "  </button>\n",
              "\n",
              "<style>\n",
              "  .colab-df-quickchart {\n",
              "      --bg-color: #E8F0FE;\n",
              "      --fill-color: #1967D2;\n",
              "      --hover-bg-color: #E2EBFA;\n",
              "      --hover-fill-color: #174EA6;\n",
              "      --disabled-fill-color: #AAA;\n",
              "      --disabled-bg-color: #DDD;\n",
              "  }\n",
              "\n",
              "  [theme=dark] .colab-df-quickchart {\n",
              "      --bg-color: #3B4455;\n",
              "      --fill-color: #D2E3FC;\n",
              "      --hover-bg-color: #434B5C;\n",
              "      --hover-fill-color: #FFFFFF;\n",
              "      --disabled-bg-color: #3B4455;\n",
              "      --disabled-fill-color: #666;\n",
              "  }\n",
              "\n",
              "  .colab-df-quickchart {\n",
              "    background-color: var(--bg-color);\n",
              "    border: none;\n",
              "    border-radius: 50%;\n",
              "    cursor: pointer;\n",
              "    display: none;\n",
              "    fill: var(--fill-color);\n",
              "    height: 32px;\n",
              "    padding: 0;\n",
              "    width: 32px;\n",
              "  }\n",
              "\n",
              "  .colab-df-quickchart:hover {\n",
              "    background-color: var(--hover-bg-color);\n",
              "    box-shadow: 0 1px 2px rgba(60, 64, 67, 0.3), 0 1px 3px 1px rgba(60, 64, 67, 0.15);\n",
              "    fill: var(--button-hover-fill-color);\n",
              "  }\n",
              "\n",
              "  .colab-df-quickchart-complete:disabled,\n",
              "  .colab-df-quickchart-complete:disabled:hover {\n",
              "    background-color: var(--disabled-bg-color);\n",
              "    fill: var(--disabled-fill-color);\n",
              "    box-shadow: none;\n",
              "  }\n",
              "\n",
              "  .colab-df-spinner {\n",
              "    border: 2px solid var(--fill-color);\n",
              "    border-color: transparent;\n",
              "    border-bottom-color: var(--fill-color);\n",
              "    animation:\n",
              "      spin 1s steps(1) infinite;\n",
              "  }\n",
              "\n",
              "  @keyframes spin {\n",
              "    0% {\n",
              "      border-color: transparent;\n",
              "      border-bottom-color: var(--fill-color);\n",
              "      border-left-color: var(--fill-color);\n",
              "    }\n",
              "    20% {\n",
              "      border-color: transparent;\n",
              "      border-left-color: var(--fill-color);\n",
              "      border-top-color: var(--fill-color);\n",
              "    }\n",
              "    30% {\n",
              "      border-color: transparent;\n",
              "      border-left-color: var(--fill-color);\n",
              "      border-top-color: var(--fill-color);\n",
              "      border-right-color: var(--fill-color);\n",
              "    }\n",
              "    40% {\n",
              "      border-color: transparent;\n",
              "      border-right-color: var(--fill-color);\n",
              "      border-top-color: var(--fill-color);\n",
              "    }\n",
              "    60% {\n",
              "      border-color: transparent;\n",
              "      border-right-color: var(--fill-color);\n",
              "    }\n",
              "    80% {\n",
              "      border-color: transparent;\n",
              "      border-right-color: var(--fill-color);\n",
              "      border-bottom-color: var(--fill-color);\n",
              "    }\n",
              "    90% {\n",
              "      border-color: transparent;\n",
              "      border-bottom-color: var(--fill-color);\n",
              "    }\n",
              "  }\n",
              "</style>\n",
              "\n",
              "  <script>\n",
              "    async function quickchart(key) {\n",
              "      const quickchartButtonEl =\n",
              "        document.querySelector('#' + key + ' button');\n",
              "      quickchartButtonEl.disabled = true;  // To prevent multiple clicks.\n",
              "      quickchartButtonEl.classList.add('colab-df-spinner');\n",
              "      try {\n",
              "        const charts = await google.colab.kernel.invokeFunction(\n",
              "            'suggestCharts', [key], {});\n",
              "      } catch (error) {\n",
              "        console.error('Error during call to suggestCharts:', error);\n",
              "      }\n",
              "      quickchartButtonEl.classList.remove('colab-df-spinner');\n",
              "      quickchartButtonEl.classList.add('colab-df-quickchart-complete');\n",
              "    }\n",
              "    (() => {\n",
              "      let quickchartButtonEl =\n",
              "        document.querySelector('#df-efc19655-9f64-4ff2-a425-1ff180ea5eb8 button');\n",
              "      quickchartButtonEl.style.display =\n",
              "        google.colab.kernel.accessAllowed ? 'block' : 'none';\n",
              "    })();\n",
              "  </script>\n",
              "</div>\n",
              "\n",
              "    </div>\n",
              "  </div>\n"
            ],
            "application/vnd.google.colaboratory.intrinsic+json": {
              "type": "dataframe",
              "summary": "{\n  \"name\": \"df\",\n  \"rows\": 2,\n  \"fields\": [\n    {\n      \"column\": \"count\",\n      \"properties\": {\n        \"dtype\": \"number\",\n        \"std\": 0.0,\n        \"min\": 5612.0,\n        \"max\": 5612.0,\n        \"num_unique_values\": 1,\n        \"samples\": [\n          5612.0\n        ],\n        \"semantic_type\": \"\",\n        \"description\": \"\"\n      }\n    },\n    {\n      \"column\": \"mean\",\n      \"properties\": {\n        \"dtype\": \"number\",\n        \"std\": 248.00452284695203,\n        \"min\": -0.04385972915181736,\n        \"max\": 350.68750001087585,\n        \"num_unique_values\": 2,\n        \"samples\": [\n          -0.04385972915181736\n        ],\n        \"semantic_type\": \"\",\n        \"description\": \"\"\n      }\n    },\n    {\n      \"column\": \"std\",\n      \"properties\": {\n        \"dtype\": \"number\",\n        \"std\": 143.1296723378699,\n        \"min\": 0.10772450270537631,\n        \"max\": 202.5236483009382,\n        \"num_unique_values\": 2,\n        \"samples\": [\n          0.10772450270537631\n        ],\n        \"semantic_type\": \"\",\n        \"description\": \"\"\n      }\n    },\n    {\n      \"column\": \"min\",\n      \"properties\": {\n        \"dtype\": \"number\",\n        \"std\": 0.504732820410957,\n        \"min\": -0.7137999999999991,\n        \"max\": 0.0,\n        \"num_unique_values\": 2,\n        \"samples\": [\n          -0.7137999999999991\n        ],\n        \"semantic_type\": \"\",\n        \"description\": \"\"\n      }\n    },\n    {\n      \"column\": \"25%\",\n      \"properties\": {\n        \"dtype\": \"number\",\n        \"std\": 124.00202817015231,\n        \"min\": -0.0215999999999993,\n        \"max\": 175.34375,\n        \"num_unique_values\": 2,\n        \"samples\": [\n          -0.0215999999999993\n        ],\n        \"semantic_type\": \"\",\n        \"description\": \"\"\n      }\n    },\n    {\n      \"column\": \"50%\",\n      \"properties\": {\n        \"dtype\": \"number\",\n        \"std\": 247.9761963331259,\n        \"min\": -0.0038,\n        \"max\": 350.6875,\n        \"num_unique_values\": 2,\n        \"samples\": [\n          -0.0038\n        ],\n        \"semantic_type\": \"\",\n        \"description\": \"\"\n      }\n    },\n    {\n      \"column\": \"75%\",\n      \"properties\": {\n        \"dtype\": \"number\",\n        \"std\": 371.96125394052973,\n        \"min\": -0.0014000000000002,\n        \"max\": 526.03125,\n        \"num_unique_values\": 2,\n        \"samples\": [\n          -0.0014000000000002\n        ],\n        \"semantic_type\": \"\",\n        \"description\": \"\"\n      }\n    },\n    {\n      \"column\": \"max\",\n      \"properties\": {\n        \"dtype\": \"number\",\n        \"std\": 495.94673581200226,\n        \"min\": 0.0004000000000008,\n        \"max\": 701.375,\n        \"num_unique_values\": 2,\n        \"samples\": [\n          0.0004000000000008\n        ],\n        \"semantic_type\": \"\",\n        \"description\": \"\"\n      }\n    }\n  ]\n}"
            }
          },
          "metadata": {},
          "execution_count": 25
        }
      ]
    },
    {
      "cell_type": "code",
      "source": [
        "df.plot(x='dt(sec)', y='s(m)', style='b.', logx=True, grid=True);"
      ],
      "metadata": {
        "colab": {
          "base_uri": "https://localhost:8080/",
          "height": 454
        },
        "id": "8FmAHYlMQb1E",
        "outputId": "aac5d8cc-b3d6-4c93-8a27-ed200e96b15b"
      },
      "execution_count": 26,
      "outputs": [
        {
          "output_type": "display_data",
          "data": {
            "text/plain": [
              "<Figure size 640x480 with 1 Axes>"
            ],
            "image/png": "[encoded data removed]"
          },
          "metadata": {}
        }
      ]
    },
    {
      "cell_type": "markdown",
      "source": [
        "In total, there are 5612 samples, and the sampling frequency is 8 samples per second, which is considered very high for this type of test. Since the observations at the beginning of the test are significantly more important, we perform a resampling of the data using a logarithmically spaced timeseries:"
      ],
      "metadata": {
        "id": "KcyPGvLbO-RC"
      }
    },
    {
      "cell_type": "code",
      "source": [
        "# Generate the target time values\n",
        "target_times = np.logspace(-1, 3, 100)\n",
        "\n",
        "# Find the closest time values in the dataframe for each target time\n",
        "closest_times = []\n",
        "for target_time in target_times:\n",
        "    closest_times.append(df['dt(sec)'].iloc[(np.abs(df['dt(sec)'] - target_time)).argmin()])\n",
        "\n",
        "# Convert the list of closest times to a numpy array to enable boolean indexing\n",
        "closest_times = np.array(closest_times)\n",
        "\n",
        "# Select rows from the dataframe where 'dt(sec)' is in the list of closest times\n",
        "# Use .isin to efficiently check for multiple values\n",
        "# and .drop_duplicates to ensure uniqueness\n",
        "new_df = df[df['dt(sec)'].isin(closest_times)].drop_duplicates(subset=['dt(sec)'])\n",
        "\n",
        "# Plot the result\n",
        "new_df.plot(x='dt(sec)', y='s(m)', style='b.', logx=True, grid=True);"
      ],
      "metadata": {
        "colab": {
          "base_uri": "https://localhost:8080/",
          "height": 454
        },
        "id": "fcz3_dOEWiKK",
        "outputId": "49370ff6-4a8a-4652-8464-26ccbd4aca99"
      },
      "execution_count": 27,
      "outputs": [
        {
          "output_type": "display_data",
          "data": {
            "text/plain": [
              "<Figure size 640x480 with 1 Axes>"
            ],
            "image/png": "[encoded data removed]"
          },
          "metadata": {}
        }
      ]
    },
    {
      "cell_type": "markdown",
      "source": [
        "The result looks good as we now have a time series with data points that are more or less equally spaced on a logarithmic time scale. Let's assign the two columns in the new dataframe to variables `t_obs` and `s_obs`, and convert the times from seconds to days:"
      ],
      "metadata": {
        "id": "Ncp8_PySQ_d4"
      }
    },
    {
      "cell_type": "code",
      "source": [
        "t_obs = new_df['dt(sec)'].values / 60 / 60 / 24  # sec -> day\n",
        "s_obs = -new_df['s(m)'].values  # positive values"
      ],
      "metadata": {
        "id": "BPok5KXiW_AJ"
      },
      "execution_count": 28,
      "outputs": []
    },
    {
      "cell_type": "markdown",
      "source": [
        "The first data point corresponds to the initial head change $H_0$ in the well at $t=0$ :"
      ],
      "metadata": {
        "id": "VCxapQtuRzjF"
      }
    },
    {
      "cell_type": "code",
      "source": [
        "H0 = s_obs[0]\n",
        "t_obs, s_obs = t_obs[1:], s_obs[1:]  # remove first data point"
      ],
      "metadata": {
        "id": "Of5yJt8iSDzW"
      },
      "execution_count": 29,
      "outputs": []
    },
    {
      "cell_type": "markdown",
      "source": [
        "### KGS model"
      ],
      "metadata": {
        "id": "J8zCD9zPfVrL"
      }
    },
    {
      "cell_type": "markdown",
      "source": [
        "The slug test is conducted in a well partially penetrating a layer of clayey sand, which is bounded both above and below by a clay layer. The aquifer has a thickness $B$ of 11 m, and because the head change caused by the slug test is relatively small, it may be considered confined. The distance $d$ between the top of the well-screen and the aquifer top is 4 m. The screen has a length $b$ of 2 m, and the well diameter $r_w$ is 57 mm. The figure below conceptualizes the well in the aquifer:"
      ],
      "metadata": {
        "id": "NEdQkusTSUZ8"
      }
    },
    {
      "cell_type": "markdown",
      "source": [
        "![image.png](data:image/png;base64,iVBORw0KGgoAAAANSUhEUgAAAf4AAAE+CAYAAABsh3KRAAAAAXNSR0IArs4c6QAAAARnQU1BAACxjwv8YQUAAAAJcEhZcwAAFiUAABYlAUlSJPAAABzeSURBVHhe7d0LlBTVncfx/+zZPTloMoyMbqJhHBYFo7giEQ0QUAwiaAiPRMX4CCISFeMAIRhRCYig8YEI5IhKBA1KBpPIIBiQgA/kiBEMDwVXURwekd0N7yhkz+45s/O/U3dsm5mumq7pqq6+3885dap+3T1j5WTof/3vrb5dVFNLAACAE/7J2wMAAAdQ+AEAcAiFHwAAhzDHDyRQUVGR2R86dMjso1JcXGz2vG0AyUXHDzjovvvu844AuIaOH0igsB2/du7Z/CwdP5B8dPyA4/bt2ycXXHCBDB06VN555x3p2LGj2QAUJgo/4Liqqiq58847Zdu2bbJw4UJ55ZVXpG3btt6zAAoNQ/1AAjX3UP/y5ctl7NixsnHjRu+RhjHUDyQfHT/goPnz53tHdd58800z1A+g8FH4AQf169fPO6qzcuVK+da3vuWlunn/QYMGmQ5/0qRJ3qMACgGFH3DQzTff7B3VFfn169dL165dvUdEhg0bJtdcc41s2rSpfngfQGFgjh9IoFwu4FNdXS1DhgyR1157zXvkc8zxA8lHxw84KNMCPrt37/aORObMmWNGBAAUDgo/4KBMhd8O+Z988snSsmVLadWqlckACgND/UACRbly37PPPmv2V199NUP9QAGg4weQka7mpzcDdu/e3XsEQJLR8QMJ1Bwd/7hx47L+sp79+/dLSUmJlwAkCYUfSKCwhX/JkiVHfZa/Mbfffrs8+uijZs5/x44d5jHeNoDkovADCZTLj/Ol06KvdI6/rKzMHPO2ASRXxsJv31wA5KdsC7/O2c+aNctLwbGYD5D//C7MA93cd0/3L5vNIpPJ8eawsin6qfzOj0y2yNFnP3T8QIJl2/HrTX16c19T0fED+c+v489Y+Cf3+IrZj1/9qdnbKwkyWZHjzSrMXf3Z/Gxq4W/u/z1ksiKHz6EKPx0/kN/iLPwA8pNf4WeOvxaZnLQcN7/zI5MtcvTZDx0/kGB0/ADSher4g1xZkMkWOdocxvz5872j7PmdH5lMji9nQscPJFi2HX+26PiB/Beq47f8rizIZHK0OSxdwCcMv/Mjky1y9NkPHT+QYHT8ANKF6viDXFmQyRY52hxGtt/Kl8rv/Mhkcnw5Ezp+IMG4qx9AulAdv+V3ZUEmk6PNcfM7PzLZIkef/dDxAwlGxw8gXaiOP8iVBZlskaPNcfM7PzKZHF/OhI4fSLBsO/4lS5ZIv379vBQcHT+Q//w6fn1Bo/Rp3WqvIsxGJpPzI9vjuLbUc5h52Rm+50smk6PLfuj4gQSbveoT76hp5t43WoaOm+al4Iaff5J3VKekpETWr18vF154oVRXV3uPAohThrJuMMdP9hI5aTmMbIp+Oj2XRQ/fJm3atJHrrrvO93zJZHJ0ORM6fiDBsu34X5g7VfoPHeOl4FI7fu32P/74Y7M/cOCAdOrUia4fyAOhOn7L78qCTCZHm8NaXFv4w9BzGDVqlCn6Svfa9auGzpdMtsi5z37o+IEEy7bj1849m59N7fh79uxpCv7ChQtl0KBBput/9dVXvWcBxCVUxx/kyoJMtsjR5rj1+r91cs6eFea4qqrK5KacP5lMzl3OhI4fSLA4O35L30J4rwDyR6iO3/K7siCTydHmsEZMmeMdZSf9HPzOl0y2yLnPfuj4gQTLtuPPFh0/kP9CdfxBrizIZIscbQ5DF/AJy+/8yGRyfDkTOn4gwej4AaQL1fFbflcWZDI52hyWLuATRvo5+J0vmWyRc5/90PEDCcZd/QDSher4g1xZkMkWOdocN7/zI5PJ8eVM6PiBBMvXjv+DDz6Qdu3aydatW6V9+/ZSUVEh06dPN8+NHDlSZsyYYY4BNL9QHb/ld2VBJpOjzXFLP4f089v2x9nmeNiwYSaf8Jc55iJg06ZN5jj99WSyRQ6f/dDxAwmWbce//vVl0qlHXy8FF7TjnzlzpvTp08d0+9bOnTtl7ty58otf/MJ7BEAuhOr4g1xZkMkWOdocRjZFP12m8+vcubPU/NfW+lxeXi6tW7eWkk2VJqtMP6/IZHL2ORM6fiDBsu34dQGfoeOmeSm4oB3/nj17pLS01Et1du3aJWVlZV4CkCuhOn7L78qCTCZHm8PKpuinSj+H1Pz0LRebon/++eebC4LJPb4i7yyvlPfff98839D/HjLZIofPfuj4gQTLtuPXBXz6Dx3jpeCCdPw6vz9w4MAvdPfp8/srVqyQXr16mRv+evfuLdu3bzePAwgvVMcf5MqCTLbI0eYwFodcuU81dn7a6euwvs09evQw8/vnFf+9Pp922mlmJKDlP/2PTJ48+Qs/b5HJ5OxzJnT8QILl2+f4J02aJOPHjzfH9vP6DX2mX7v9AQMGmNd37NjRHANoHqE6fsvvyoJMJkeb45Z+DjbrUL528rrZRXoWXP9Nk+1H+y5t+yX5Rqt/NsdKj9P/95HJFrnp2Q8dP5Bg+dbxBzF48GB56KGHpHv37vLCCy/IqlWr5NZbb/WeBRBWqI4/yJUFmWyRo81hjJgyxzvKnt/5NZYXLFhg7gGorq6W1q2OrS/6jb3eIpPJwXMmdPxAgmXb8WerOTp+ALkVquO3/K4syGRytDksXcAnjPRz8DtfMtki5z77oeMHEoyOH0C6UB1/kCsLMtkiR5vD0AV8wvI7PzKZHF/OhI4fSLAk3tUPILdCdfyW35UFmUyONsct/Rz8zpdMtsi5z37o+IEEo+MHkM6v49cXNKr2ysFs+jLdyGRy/uS4N3s+EydO/EJOf55MJn+eBw8eXLNnzx5TY7ete8U8N2nSpJrDB/aax1asWJHx54NkP3T8QIJl2/Gvf32ZdOrR10vBNdTxA4VGV5e844475KyzzjL5zTfflK5du5pjS79zYvr06V46mq5K2dB3UOh3V1RWVprlrefNmyfFxcVy0UUXyfPPPy9r166VsWPHyoMPPli/5HU2MpR1gzn+WmRy0nJY2RT9VH7nRyZbSctP33KxzHtqjrRq1UratGkj+3Z9JF/9l394z37+ei3M2hzb76bQ49Rsi3767/9qyTFStPwBc3zttddKlw5tZf/Hm82x/s6PVzwrt1zexzyv0n8+SPZDxw8kWLYdvy7gM3TcNC8FR8ePQrdmzRrp0qVL/bdLNredO3dKWVmZOS4vL5ctW7bI1KlTzQiASv32ymyF6viDXFmQyRY52hxGNkU/nd/5kclJzKWlpSaf8Jc5GV+/7JGxpsA2tr3/+osN/vyRI0dMcZ9x2Rny1sol5kKjW7duJuvzw4YNk5UrV9a/3mpqzoSOH0iwbDt+XcCn/9AxXgqOjh+FTufg27VrZ4b5tfMfNWrUUfP7Yej9A/fcc4/5b2zdulV69+5t/jv6jZUtWrSQDRs2mDn/MDKUdYM5/lpkctJyWItDrtznd35kspW0/M6zU+TIwX3m2yO1QH+y7LEm/bxfPvOvL8qC679pGuv27dvLDWV7zWM6/H/88cfLmokDm/T7Gsp+6PiBBMuHz/EDyC+hOv4gVxZkskWONsfN7/zIZHJ8ORM6fiDB6PgBpAvV8Vt+VxZkMjnaHNaIKXO8o+z4nR+ZbJGjz37o+IEEy7bjzxYdP5D/QnX8Qa4syGSLHG0OQxfwCcvv/Mhkcnw5Ezp+IMHo+AGkC9XxW35XFmQyOdocli7gE4bf+ZHJFjn67IeOH0gw7uoHkC5Uxx/kyoJMtsjR5rj5nR+ZTI4vZ5Kx45fdT3gHAPJJ0Uk3mn1cHX/NJ4+bPYA8dOKPvYOGBZrjbw4HDh02G4A61Tv3ekcAEJ3ICn/V0g0yesLvvAS4TS+CB10/y0vRC7uAD4DkiqTw65vc9F+/LE8teIMuB6j1yOyVsmHzTpk4dbH3SLQ69ejrHQFwTSSFX7t9fZNTdz+8xOwBV+mF8NPPrTHH02e/bPZRa44FfAAkU84Lv+32Lbp+uE67fftvQP99xNH1Dx03zTsC4JqcF/7Ubt+i64erUrt9K46uP+wCPgCSK6eFP73bt+j64arUbt+Ko+tfTOEHnJXTwr/h3V1S0rKF9OzWXtqUlZpNj3WrWrbBexXgju279tX/G1D2eOPmXSYDQK5FtoCPdvmvvblV5k4b4j0CuE0X4cl2IRwW8AHQqHxZwAcAAMSPwg84iAV8AHdFVvgPHDoiJcUtvAQgTizgA7iLjh9wEAv4AO6i8AMOYgEfwF0UfsBBLOADuIvCDziIBXwAd1H4AQBwCIUfAACHUPgBAHAIhR9wEAv4AO6i8AMOYgEfwF0UfsBBLOADuIvCDziIBXwAd1H4AQexgA/gLgo/4CAW8AHcReEHAMAhFH4AABxC4QcAwCEUfsBBLOADuIvCDziIBXwAd1H4AQexgA/grsgK/4FDh6VlcQsvAcm2+q0PpeikG82mx0nDAj6Au+j4gSx0P+9U6dOzQ/1x0rCAD+AuCj+Qpb37P5XOHcu9lCws4AO4i8IPBLRxyy7pe9UMM7x/7iX3yrqN2+XiC87wngWAZKDwAwFs275HLvzBVNPlf7Rmioy5qbd5/NvnJm+YH4DbKPxAAE/+drXsP3hY7v5Zf2lbfrzs+Os+8/g3Tv2a2QNAUlD4gQDe3rTD7C/tdabZ/27x23JKmxPMRUASsYAP4C4KP9BElYvWmvn9U9v8qznWaYCkYQEfwF0UfiCA6wZ3NXu9qe/0difKHRWXyEuvbjZD/kns+lnAB3AXhR8I4MoB50rNJ4/L2qV3SMczWsuU2weafNuIPt4rkoUFfAB3UfgBB7GAD+AuCj/gIBbwAdxF4QcAwCEUfgAAHELhBwDAIRR+wEEs4AO4i8IPOIgFfAB3UfgBB7GAD+AuCj/gIBbwAdwVWeE/eOiIlBQf4yUAcWIBH8BddPyAg1jAB3AXhR8AAIdQ+AEAcAiFHwAAh1D4AQexgA/gLgo/4CAW8AHcReEHHMQCPoC7KPyAg1jAB3AXhR+I0OgJz8mg62eZTdnjoaOfNjkqLOADuIvCD0SoZXELqVq2wWzKHpe3bmVyVFjAB3AXhR+I0KjhvaRNWamX6uhS1vo4AESBwg9ESIv8kCu6eqnOyOHf4XssAESGwg9ELLXrp9sHEDUKPxCx1K4/rm6fBXwAd1H4gRhol392h7LYun0W8AHcReEHYqBd/sI5N8c2t88CPoC7impqecdH2/2EdxCefn65vHUp85lAMyg66UbvKB41nzzuHQHIOyf+2DtoGB0/EJPqnXu9IwCITmSF/8ChI1JS3MJLgNsOHDpcv3ofAEQpsqF+XZL0gi7t5LrB3bxHAHdNnLpY7p66RCaM6ScTx3zPezQ4O9Q/e9UnZt9Uw88/Kauf1Z9TDPUDeYyhfiC/aLf/9HNrzPH02S+bPQBEhcIPROyR2Svr5/f1IkC7fwCICkP9QIS00HfqPfkLN/bpR/r2/0fTviaXu/oBNMpnqJ/CD0TIzu2na+pcf9g5/mwxxw8kAHP8QP7Yvmuf9OzW3mzKHm/cvMvkqLCAD+AuOn4gJtq1Z9s50/EDaBRD/UB+ao7CHxcKP5DHKPxAfoqz4+dz/EABY44fAABYFH4AABzCUD8QE+b4AeQEc/xAfopzjn/968ukU4++XgqOOX4gAZjjB5pH36tmmIKr+6TLpugDKAwUfiCgu0ZdavbnnHWy2ScZC/gA7mKoHwioctFa+eHNv5YX590ql/Y603s0e8zxA8gJ5viB5jFi3HyZ9fRr8ttZN8hd9y+Sffs/k2d+NSzri4A45/hfmDtV+g8d46XgmOMHEoA5fqB5LH9ti3ck8ucXx8n+g4dlxpPJ/D79xbWFH4CbKPxAAHtru/uPqv8mfXp2kCsHnOs9ql+p28I7AvLXH1e+K61OH21GrfTm1FO73eU9E46OPNntgUdf8h5tujt/WWV+h57jxi3RfmGViyIb6h90/SwZckVXGdj3bO8RIDn0jfO71840w/xa+O18/2P3Xy03Xnu+96qm0Tc65vjRHFL/Hl6vGisnfbVETul6p8l6sbpsfoUpzE8887rMuOdKM1KljzVm9VsfSo+BD3qp7v9v+zev7r/r++b3vvTqZjn5661k6mN/qv19I6X0uGPN8w3Ri+fxDyySyqq1ZrRM2X8/ev4bVoyXx+etkkfvu8o8hxDyZY6fwo8k047k3hlLzY193zj1a9K57xTz+NY3Jmd8s8ukOQo/a/VDaVH/+eTnZXD/zlL52HDTNZ990T2mOGshbVt+vFx502w5pc0JMuX2gd5PZaYjA1rYbXHWonzTz5+VOyoukZ/e2Nv83evFwIjb58u6ZXea/0Ym9vdpge94RmtzPhd++zTzu/W5vfs/lV9P/ZF5DiElcY5f/4j1jS1106Ep/SMD4vD2ph2my7nmJ0+aTuriC86QV/4wJuuiH7cRU+Z4RygEBw8dMfufXH+h6axvGPMbuXnIBaartwV53abt8u1zTzXHQWghVlqY9UJi3L0LzYiXXjjo372OgmnR138HDz223Lw2Ey36x7U8RlqfeJzJeoGiv1svqvXi5JTyE+S+2otr5F5eFv5unU8xe7161c5Ch650flXvpAbioG+gt43oI/vem1Y37Fn7ppXkzoQFfAqLvfFUh/j7XjVdxtzU+wtD5tu27zHvoTpaFYRePKzbuN2MGOiw/w9ueMwU+NT7W3S6QIfsdWRBf78f/V36ej2/1NfrY3oxrf8bfnR5V+9R5FJeDvXbISXtsPTNVv8Ij+/wUzNM9eEbk71XAcmmI1lhh/rjwlB//rDvj6nCrjVh72lJtWfzw6FGuPQ8r77lyfrOP8w0GXwkcY7ffl5aO/3T251obgixn59OveIEkqw5Cn+2c/zZYo4//9gb8XRov01ZqZnr1+MwN8nZewb0PfepBWtMsW6u91+d21/wwrr6xg45kMQ5fjtspX/MeiWrd4HqFSxFH2geuoAPCsMb6z4y+/O7tJNhP+xujrVR0g47Wy+vft/szzv736Ri2HfMsd653xwGXsIN3nHLu8Kvf6w6F6XD+tpVfLRmirQ67lipGF/pvQJIrgOHDtdvDeWosIBP4bBFWkdHdehc741Sv1/yttn7aWjayA7H642BOmWgxzrnH+Qz9jpaoJul8/n6+Xx9b9etaukG87i9lwvRy7uh/tRhKztUde4l95o/OoYXkXSdek+WDZt3eulzZ3cok/V/Cr6oCnP8UKlz8XYo3k6VmmLt8zE7Lcr60VS9adWyH13Vn9cb+vQmVv1UlTZknTuWy9qld3ivbJj+9/Vn9I59pe/poyc8Z97Dlf6Ou3/Wv1m+7wKNSNocf+rckv4R2xv9gvzBAfmuatkG828h3dxpQ5r0PRZh5/j5HD+Uvr92Oadts31CRTv6hx//U+C1ApAjSZrj16vPX85cZo51hSh9c9PPjtZ9HnWkeRxIMr3w1e4+lWa+vApx0K68OT+WqlMNFP38l1eFX4ek7Oek7aZZh/z52AcKxYQx/byjOiNvqLt5Kkos4AO4iyV7gRjYuf6mzu1bzPEDaFQSP84HFDrb9cfR7QNwG4UfiIGOfOm8PnP7AKLGUD8QE/3sfknxMV4CgGbCUD+Qnyj6AOJA4QeQ0VML3jAbgMJA4QeQkS7TOnT00+aTCFwAAMnHHD/gqIlTF8vdU5d4KTj9Nzz3kSFMVQD5Kl+W7L3wsqky4affk57d2nuPAEgCXWf9kdkrzVe+jryhl1w3uCtFH8hn3NwHIIzy1qUy7e4rzEJDo4b3ougDCUfhB5CRFnsKPlA4KPwAADiEwg8AgEMo/AAAOITCDzhOP6ff6vTR8vi8VVK5aK05HjFuvvcsgEJD4Qcc99Krm+X2W/vKwqUbTH7mV8PMR/cAFCYKP+C420b0kYOHjkjb8uPlygHnyqW9zjSPAShMFH4Asvy1LXLVoPPMcdFJN5phf9X3qhlm/8CjL9UfA0g2Cj/guL37P5N1G7dL9/NONfn+u74vB/9+xDz+YfV/y+q3PpQ+PTvIoEtYbhsoBBR+wHF//svHprBb3TqfYva/X/K2DO7f2Ry/t3W3XNbvHHMMINko/IDjdE5/2fwKL9V5efX7Zv/vp39dlr78rhR/uYWUHneseQxAslH4AXyBDvnrEL92+K1PPE4+qv6buTgAUBgo/ACO8uEbk02HrxcBlY8N9x4FUAgo/AAAOITCDwCAQyj8AAA4hMIPAIBDIiv8Bw4ekZKWLbwEAADiQMcPAIBDKPwAADiEwg8AgEMo/AAAOITCDwCAQyj8AAA4hMIPAIBDKPwAADiEwg8AgEMo/AAAOITCDwCAQyj8AAA4hMIPAIBDKPwAADiEwg8AgEMo/AAAOITCDwCAQyj8AAA4JLLCf+DQYSkpPsZLAAAgDnT8AAA4hMIPAIBDKPwAADiEwg8AgEMo/AAAOITCDwCAQyj8AAA4hMIPAIBDKPwAADiEwg8AgEMo/AAAOITCDwCAQyj8AAA4hMIPAIBDKPwAADiEwg8AgEMo/AAAOITCDwCAQyj8AAA4JLLCf+DgESlp2cJLAAAgDnT8AAA4hMIPAIBDKPwAADiEwg8AgEMo/AAAOITCDwCAQyj8AAA4hMIPAIBDKPwAADiEwg8AgEMo/AAAOITCDwCAQ4pqannHR9v9hHeQndETnpPqnXvNcdWyDTKw79nmuKTlMTLt7sulpPgYkwEAQDM58cfeQcNy2vG3LG5hCr5uyh6Xt25F0QcAIAY5LfyjhveSNmWlXqqjBf+6K7p5CQAARCmnhV+L/JArunqpzsjh3znqYgAAAEQj5zf3pXb9dPsAAMQr54U/teun2wcAIF45L/xKu/6zO5TR7QMAELNICr92/Qvn3Ey3DwBAzDJ+jr+oqMjs7+n+ZbMfv/pTsyeTFZmsyGRFzp981+t/N8eNCVT4AQBAMmRal09lHOrXKwd7NaHIZDLZIpPJ+ZszoeMHAKCAhOr4Lb8rCzKZTLbIZHK82Q8dPwAABSRUxx/kyoJMtshkMtkix5szoeMHAKCAhOr4Lb8rCzKZTLbIZHK82Q8dPwAABSRUxx/kyoJMtshkMtkix5szoeMHAKCAhOr4Lb8rCzKZTLbIZHK82Q8dPwAABSRUxx/kyoJMtshkMtkix5szoeMHAKCAhOr4Lb8rCzKZTLbIZHLmvG3dK6Y479mzR/4wYYjMuOwMWbNmjXns8IG95jEryO9Lz76042+MPs3GxsbGxubatmjRoprawmxq4WeffVYzePDgo17zwQcfmOcbk/563SoqKszPlZeX1/To0aNm48aNNStWrKjZuXOneW7evHnm+YZ+NujmJ+NQ/+QeXzH78as/NXt7JUEmKzJZkcmqkHJtIZZevXrJ2j88Ls+s2iLTp0+XmZd3kIP/uSP07z9r7LNSW+ylaPkDJr/79e9KZWWl/OYnfWTHxjfM62svAuSpH55uns/mv5ehrNfRwt8YfZqNjY2Njc2VTbtwFbbrbmzTkYRJkyZ9IWu3n/qaXHf8zPHXIpPJZIvsdr7zB13M/r333jP7TK+vLdCmu25sU+k//6WPV8uNVw2S8vJyqaiokEsuvkh2//lFmTlzpnle5/dLW3xemtN/Pkj2VXtyjdKn2djY2NjYXNl0nl3pvLvm9A69OTb9nXrfgG61Bd88Zuf59b6Chu4naMrmhzn+WmSyIpMVmWzn+P/3H4dl6fIVMmDAgGb9/SqXOUNZN/gcPwAABcSv8DPHX4tMJpMtMjnp2Q8dPwAABSRUxx/kyoJMtshkMtkix5szoeMHAKCAhOr4Lb8rCzKZTLbIZHK82Q8dPwAABSRUxx/kyoJMtshkMtkix5szoeMHAKCAhOr4Lb8rCzKZTLbIZHK82Q8dPwAABSRUxx/kyoJMtshkMtkix5szydjxAwCAwhJojh8AABQGCj8AAA6h8AMA4BAKPwAAzhD5f27eYWWCItdpAAAAAElFTkSuQmCC)"
      ],
      "metadata": {
        "id": "eYijM6axiE7s"
      }
    },
    {
      "cell_type": "markdown",
      "source": [
        "The Kansas Geological Survey developed a semi-analytical model for the simulation of a slug test in a partially penetrating well. The MAxSyPy package offers a Python implementation of the KGS model:"
      ],
      "metadata": {
        "id": "EICCpjDeVQ_y"
      }
    },
    {
      "cell_type": "code",
      "source": [
        "from maxsypy.kgs import KGS_no_skin\n",
        "\n",
        "print(inspect.getdoc(KGS_no_skin))"
      ],
      "metadata": {
        "colab": {
          "base_uri": "https://localhost:8080/"
        },
        "id": "SPb1bAGxSSsV",
        "outputId": "d6480961-aa2d-4216-c0cc-e32b3b239096"
      },
      "execution_count": 30,
      "outputs": [
        {
          "output_type": "stream",
          "name": "stdout",
          "text": [
            "Simulate KGS model (without well-skin)\n",
            "- t (array_like) is time [T]\n",
            "- H0 (float) is initial head change [L] in well\n",
            "- rw (float) is well-screen radius [L]\n",
            "- rc (float) is well-casing radius [L]\n",
            "- B (float) is aquifer thickness [L]\n",
            "- b (float) is screen length [L]\n",
            "- d (float) is distance between screen top and aquifer top\n",
            "- confined (bool) indicates whether the aquifer is confined (True) or phreatic (False)\n",
            "- Kr (float) is the horizontal conductivity [L/T]\n",
            "- Kz (float) is the vertical conductivity [L/T]\n",
            "- Ss (float) is the specific storage [1/L]\n",
            "- ns (int) is the Stehfest number (default is 12)\n",
            "- maxerr (float) is the stop criterion, the maximum absolute head difference (default is 1e-6)\n",
            "- miniter (int) is the minimum number of iterations (default is 10)\n",
            "- maxiter (int) is the maximum number of iterations (default is 500)\n",
            "- htol (float) is the normalized head tolerance (default is 1e-5)\n",
            "returns the simulated head changes in the well for given times t, the number of iterations,\n",
            "and the convergence error.\n"
          ]
        }
      ]
    },
    {
      "cell_type": "markdown",
      "source": [
        "Note that we import function `KGS_no_skin` as we do not consider a well-skin. To make the interpretation more straightforward, wrapper function `simulate` is defined, which only has the hydraulic parameters as input:"
      ],
      "metadata": {
        "id": "l5RT3LNBcJYR"
      }
    },
    {
      "cell_type": "code",
      "source": [
        "def simulate(Kr, Kz, Ss):\n",
        "\n",
        "    s, _, _ = KGS_no_skin(\n",
        "        t = t_obs,        # simulation times (d)\n",
        "        confined = True,  # confined aquifer\n",
        "        b = 2,            # screen length (m)\n",
        "        B = 11,           # aquifer thickness (m)\n",
        "        d = 4,            # distance (m) between top of screen and water table\n",
        "        rw = 0.0285,      # radius (m) of well-screen\n",
        "        rc = 0.0285,      # radius (m) of well-casing\n",
        "        Kr = Kr,          # horizontal conductivity (m/d) of aquifer\n",
        "        Kz = Kz,          # vertical conductivity (m/d) of aquifer\n",
        "        Ss = Ss,          # specific storage (1/m) of aquifer\n",
        "        H0 = H0           # initial and instantaneous head change (m) in the well\n",
        "    )\n",
        "    return s"
      ],
      "metadata": {
        "id": "uby1Jy_bRHot"
      },
      "execution_count": 31,
      "outputs": []
    },
    {
      "cell_type": "markdown",
      "source": [
        "The test has already been interpreted by visually fitting the slug test data to drawdown curves simulated using the KGS model. These are the manually derived parameter values:"
      ],
      "metadata": {
        "id": "Hw-yqu1Fcn3b"
      }
    },
    {
      "cell_type": "code",
      "source": [
        "Kr = 2.22     # horizontal conductivity (m/d) of aquifer\n",
        "Kz = 0.07     # vertical conductivity (m/d) of aquifer\n",
        "Ss = 0.00009  # specific storage (1/m) of aquifer"
      ],
      "metadata": {
        "id": "0-ybG2SNc-FR"
      },
      "execution_count": 32,
      "outputs": []
    },
    {
      "cell_type": "markdown",
      "source": [
        "Let's simulate and plot the result of this manual interpretation:"
      ],
      "metadata": {
        "id": "mviXgk44dVvS"
      }
    },
    {
      "cell_type": "code",
      "source": [
        "s = simulate(Kr, Kz, Ss)\n",
        "t_sec = t_obs * 3600 * 24\n",
        "\n",
        "plt.semilogx(t_sec, s_obs, 'b.', label='observed');\n",
        "plt.semilogx(t_sec, s, 'r-', label='simulated');\n",
        "plt.legend();\n",
        "plt.xlabel('t (sec)');\n",
        "plt.ylabel('s (m)');\n",
        "plt.grid();"
      ],
      "metadata": {
        "colab": {
          "base_uri": "https://localhost:8080/",
          "height": 454
        },
        "id": "hBuavSGKS3Hs",
        "outputId": "b2b39c82-860f-4f9f-8227-02f65c92e090"
      },
      "execution_count": 33,
      "outputs": [
        {
          "output_type": "display_data",
          "data": {
            "text/plain": [
              "<Figure size 640x480 with 1 Axes>"
            ],
            "image/png": "[encoded data removed]"
          },
          "metadata": {}
        }
      ]
    },
    {
      "cell_type": "markdown",
      "source": [
        "There is a very good agreement between the simulated curve and the observed data. However, the problem is that such a manual curve-fitting method is subjective. Therefore, let's apply the Nelder-Mead method to fit the data."
      ],
      "metadata": {
        "id": "x2SYuyECeI-_"
      }
    },
    {
      "cell_type": "markdown",
      "source": [
        "### Nelder-Mead"
      ],
      "metadata": {
        "id": "kbLShZkifaGt"
      }
    },
    {
      "cell_type": "markdown",
      "source": [
        "Like in previous example, we define functions `residuals` and `MSE`:"
      ],
      "metadata": {
        "id": "ucbjV32eeOhA"
      }
    },
    {
      "cell_type": "code",
      "source": [
        "def residuals(logP):\n",
        "    '''\n",
        "    logP: array_like\n",
        "        Logarithm of the optimized hydraulic parameters\n",
        "        logP = [log10(Kr), log10(Kz), log10(Ss)]\n",
        "    returns: ndarray\n",
        "           Residuals of the observations\n",
        "    '''\n",
        "    Kr, Kz, Ss = tuple(10**logP)\n",
        "    s = simulate(Kr, Kz, Ss)\n",
        "    return s_obs - s  # no log transform!\n",
        "\n",
        "MSE = lambda logP: np.mean(np.square(residuals(logP)))  # mean squared error"
      ],
      "metadata": {
        "id": "6M12eI4KXhnY"
      },
      "execution_count": 34,
      "outputs": []
    },
    {
      "cell_type": "markdown",
      "source": [
        "Note that we do not normalize the data because the values are already between 0 and 1."
      ],
      "metadata": {
        "id": "WUs6rSNHeehO"
      }
    },
    {
      "cell_type": "markdown",
      "source": [
        "Recall that the Nelder-Mead method is implemented in SciPy function `fmin`:"
      ],
      "metadata": {
        "id": "bTNxA6KxfOnx"
      }
    },
    {
      "cell_type": "code",
      "source": [
        "from scipy.optimize import fmin\n",
        "\n",
        "x0 = np.array([0, 0, -5])  # starting values for logP\n",
        "x = fmin(func=MSE, x0=x0)\n",
        "print(f'\\t MSE = {MSE(x)}')\n",
        "\n",
        "Kr, Kz, Ss = tuple(10**x)\n",
        "print('\\nOptimal values:')\n",
        "print(f'\\t Kr = {Kr} m/d')\n",
        "print(f'\\t Kz = {Kz} m/d')\n",
        "print(f'\\t Ss = {Ss} m^-1')"
      ],
      "metadata": {
        "colab": {
          "base_uri": "https://localhost:8080/"
        },
        "id": "49ISwujXYF6H",
        "outputId": "574e8a33-88af-416b-a3cc-c16f8335a3a6"
      },
      "execution_count": 35,
      "outputs": [
        {
          "output_type": "stream",
          "name": "stdout",
          "text": [
            "Optimization terminated successfully.\n",
            "         Current function value: 0.000005\n",
            "         Iterations: 232\n",
            "         Function evaluations: 412\n",
            "\t MSE = 4.58556435401376e-06\n",
            "\n",
            "Optimal values:\n",
            "\t Kr = 3.2437663500170486 m/d\n",
            "\t Kz = 0.0001843799706562987 m/d\n",
            "\t Ss = 1.718446610208439e-06 m^-1\n"
          ]
        }
      ]
    },
    {
      "cell_type": "markdown",
      "source": [
        "We got a solution! Let's plot the result:"
      ],
      "metadata": {
        "id": "PoYktJDgfb8Q"
      }
    },
    {
      "cell_type": "code",
      "source": [
        "s = simulate(Kr, Kz, Ss)\n",
        "plt.semilogx(t_sec, s_obs, 'b.', label='observed');\n",
        "plt.semilogx(t_sec, s, 'r-', label='simulated');\n",
        "plt.grid();\n",
        "plt.legend();\n",
        "plt.xlabel('t (sec)');\n",
        "plt.ylabel('s (m)');"
      ],
      "metadata": {
        "colab": {
          "base_uri": "https://localhost:8080/",
          "height": 454
        },
        "id": "CBuW5n__Znmr",
        "outputId": "2a248869-caab-4c10-aa18-03e285d134be"
      },
      "execution_count": 36,
      "outputs": [
        {
          "output_type": "display_data",
          "data": {
            "text/plain": [
              "<Figure size 640x480 with 1 Axes>"
            ],
            "image/png": "[encoded data removed]"
          },
          "metadata": {}
        }
      ]
    },
    {
      "cell_type": "markdown",
      "source": [
        "We can clearly see that the Nelder-Mead method provides a better fit! Here too, the choice of initial values is crucial to arriving at a solution. The optimal value for the horizontal conductivity is slightly higher than the manually derived value, while the optimal values for the other two parameters differ significantly. However, it should be noted that in general, vertical conductivity and specific storage cannot be reliably derived from slug test data."
      ],
      "metadata": {
        "id": "eMtSkH_Uf_kH"
      }
    },
    {
      "cell_type": "markdown",
      "source": [
        "---"
      ],
      "metadata": {
        "id": "ODGQPFVipiqK"
      }
    }
  ]
}