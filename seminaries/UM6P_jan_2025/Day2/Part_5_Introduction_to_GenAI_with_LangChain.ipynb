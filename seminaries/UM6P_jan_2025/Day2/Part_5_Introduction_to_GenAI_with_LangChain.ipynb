{
  "nbformat": 4,
  "nbformat_minor": 0,
  "metadata": {
    "colab": {
      "provenance": [],
      "gpuType": "T4",
      "toc_visible": true,
      "authorship_tag": "ABX9TyOVS52kwH+8xPBBF0Ts6b2e",
      "include_colab_link": true
    },
    "kernelspec": {
      "name": "python3",
      "display_name": "Python 3"
    },
    "language_info": {
      "name": "python"
    },
    "accelerator": "GPU",
    "widgets": {
      "application/vnd.jupyter.widget-state+json": {
        "4c046edc89da46bdaa88861a277445fe": {
          "model_module": "@jupyter-widgets/controls",
          "model_name": "HBoxModel",
          "model_module_version": "1.5.0",
          "state": {
            "_dom_classes": [],
            "_model_module": "@jupyter-widgets/controls",
            "_model_module_version": "1.5.0",
            "_model_name": "HBoxModel",
            "_view_count": null,
            "_view_module": "@jupyter-widgets/controls",
            "_view_module_version": "1.5.0",
            "_view_name": "HBoxView",
            "box_style": "",
            "children": [
              "IPY_MODEL_9d17d84f518f47bf9a96ae9fd4264f83",
              "IPY_MODEL_b401517bcda94097866c60633e3b77b3",
              "IPY_MODEL_0d20d8c996a842559b408c7eda93b626"
            ],
            "layout": "IPY_MODEL_8a735ad9516942448972c9b3eb084b07"
          }
        },
        "9d17d84f518f47bf9a96ae9fd4264f83": {
          "model_module": "@jupyter-widgets/controls",
          "model_name": "HTMLModel",
          "model_module_version": "1.5.0",
          "state": {
            "_dom_classes": [],
            "_model_module": "@jupyter-widgets/controls",
            "_model_module_version": "1.5.0",
            "_model_name": "HTMLModel",
            "_view_count": null,
            "_view_module": "@jupyter-widgets/controls",
            "_view_module_version": "1.5.0",
            "_view_name": "HTMLView",
            "description": "",
            "description_tooltip": null,
            "layout": "IPY_MODEL_8d3cb42d97004886939e9fc9da7e9a69",
            "placeholder": "​",
            "style": "IPY_MODEL_7cbc00026c8945278b68d89f091d8e53",
            "value": "modules.json: 100%"
          }
        },
        "b401517bcda94097866c60633e3b77b3": {
          "model_module": "@jupyter-widgets/controls",
          "model_name": "FloatProgressModel",
          "model_module_version": "1.5.0",
          "state": {
            "_dom_classes": [],
            "_model_module": "@jupyter-widgets/controls",
            "_model_module_version": "1.5.0",
            "_model_name": "FloatProgressModel",
            "_view_count": null,
            "_view_module": "@jupyter-widgets/controls",
            "_view_module_version": "1.5.0",
            "_view_name": "ProgressView",
            "bar_style": "success",
            "description": "",
            "description_tooltip": null,
            "layout": "IPY_MODEL_c3574158106c476ba6419b405fe22a5f",
            "max": 349,
            "min": 0,
            "orientation": "horizontal",
            "style": "IPY_MODEL_23cd1895495243ab891bb6bbb716fa15",
            "value": 349
          }
        },
        "0d20d8c996a842559b408c7eda93b626": {
          "model_module": "@jupyter-widgets/controls",
          "model_name": "HTMLModel",
          "model_module_version": "1.5.0",
          "state": {
            "_dom_classes": [],
            "_model_module": "@jupyter-widgets/controls",
            "_model_module_version": "1.5.0",
            "_model_name": "HTMLModel",
            "_view_count": null,
            "_view_module": "@jupyter-widgets/controls",
            "_view_module_version": "1.5.0",
            "_view_name": "HTMLView",
            "description": "",
            "description_tooltip": null,
            "layout": "IPY_MODEL_a9d3b360b41c48178deb207b59975e1d",
            "placeholder": "​",
            "style": "IPY_MODEL_c4282b56d20949b4a6ea4192d08a7a3c",
            "value": " 349/349 [00:00&lt;00:00, 15.5kB/s]"
          }
        },
        "8a735ad9516942448972c9b3eb084b07": {
          "model_module": "@jupyter-widgets/base",
          "model_name": "LayoutModel",
          "model_module_version": "1.2.0",
          "state": {
            "_model_module": "@jupyter-widgets/base",
            "_model_module_version": "1.2.0",
            "_model_name": "LayoutModel",
            "_view_count": null,
            "_view_module": "@jupyter-widgets/base",
            "_view_module_version": "1.2.0",
            "_view_name": "LayoutView",
            "align_content": null,
            "align_items": null,
            "align_self": null,
            "border": null,
            "bottom": null,
            "display": null,
            "flex": null,
            "flex_flow": null,
            "grid_area": null,
            "grid_auto_columns": null,
            "grid_auto_flow": null,
            "grid_auto_rows": null,
            "grid_column": null,
            "grid_gap": null,
            "grid_row": null,
            "grid_template_areas": null,
            "grid_template_columns": null,
            "grid_template_rows": null,
            "height": null,
            "justify_content": null,
            "justify_items": null,
            "left": null,
            "margin": null,
            "max_height": null,
            "max_width": null,
            "min_height": null,
            "min_width": null,
            "object_fit": null,
            "object_position": null,
            "order": null,
            "overflow": null,
            "overflow_x": null,
            "overflow_y": null,
            "padding": null,
            "right": null,
            "top": null,
            "visibility": null,
            "width": null
          }
        },
        "8d3cb42d97004886939e9fc9da7e9a69": {
          "model_module": "@jupyter-widgets/base",
          "model_name": "LayoutModel",
          "model_module_version": "1.2.0",
          "state": {
            "_model_module": "@jupyter-widgets/base",
            "_model_module_version": "1.2.0",
            "_model_name": "LayoutModel",
            "_view_count": null,
            "_view_module": "@jupyter-widgets/base",
            "_view_module_version": "1.2.0",
            "_view_name": "LayoutView",
            "align_content": null,
            "align_items": null,
            "align_self": null,
            "border": null,
            "bottom": null,
            "display": null,
            "flex": null,
            "flex_flow": null,
            "grid_area": null,
            "grid_auto_columns": null,
            "grid_auto_flow": null,
            "grid_auto_rows": null,
            "grid_column": null,
            "grid_gap": null,
            "grid_row": null,
            "grid_template_areas": null,
            "grid_template_columns": null,
            "grid_template_rows": null,
            "height": null,
            "justify_content": null,
            "justify_items": null,
            "left": null,
            "margin": null,
            "max_height": null,
            "max_width": null,
            "min_height": null,
            "min_width": null,
            "object_fit": null,
            "object_position": null,
            "order": null,
            "overflow": null,
            "overflow_x": null,
            "overflow_y": null,
            "padding": null,
            "right": null,
            "top": null,
            "visibility": null,
            "width": null
          }
        },
        "7cbc00026c8945278b68d89f091d8e53": {
          "model_module": "@jupyter-widgets/controls",
          "model_name": "DescriptionStyleModel",
          "model_module_version": "1.5.0",
          "state": {
            "_model_module": "@jupyter-widgets/controls",
            "_model_module_version": "1.5.0",
            "_model_name": "DescriptionStyleModel",
            "_view_count": null,
            "_view_module": "@jupyter-widgets/base",
            "_view_module_version": "1.2.0",
            "_view_name": "StyleView",
            "description_width": ""
          }
        },
        "c3574158106c476ba6419b405fe22a5f": {
          "model_module": "@jupyter-widgets/base",
          "model_name": "LayoutModel",
          "model_module_version": "1.2.0",
          "state": {
            "_model_module": "@jupyter-widgets/base",
            "_model_module_version": "1.2.0",
            "_model_name": "LayoutModel",
            "_view_count": null,
            "_view_module": "@jupyter-widgets/base",
            "_view_module_version": "1.2.0",
            "_view_name": "LayoutView",
            "align_content": null,
            "align_items": null,
            "align_self": null,
            "border": null,
            "bottom": null,
            "display": null,
            "flex": null,
            "flex_flow": null,
            "grid_area": null,
            "grid_auto_columns": null,
            "grid_auto_flow": null,
            "grid_auto_rows": null,
            "grid_column": null,
            "grid_gap": null,
            "grid_row": null,
            "grid_template_areas": null,
            "grid_template_columns": null,
            "grid_template_rows": null,
            "height": null,
            "justify_content": null,
            "justify_items": null,
            "left": null,
            "margin": null,
            "max_height": null,
            "max_width": null,
            "min_height": null,
            "min_width": null,
            "object_fit": null,
            "object_position": null,
            "order": null,
            "overflow": null,
            "overflow_x": null,
            "overflow_y": null,
            "padding": null,
            "right": null,
            "top": null,
            "visibility": null,
            "width": null
          }
        },
        "23cd1895495243ab891bb6bbb716fa15": {
          "model_module": "@jupyter-widgets/controls",
          "model_name": "ProgressStyleModel",
          "model_module_version": "1.5.0",
          "state": {
            "_model_module": "@jupyter-widgets/controls",
            "_model_module_version": "1.5.0",
            "_model_name": "ProgressStyleModel",
            "_view_count": null,
            "_view_module": "@jupyter-widgets/base",
            "_view_module_version": "1.2.0",
            "_view_name": "StyleView",
            "bar_color": null,
            "description_width": ""
          }
        },
        "a9d3b360b41c48178deb207b59975e1d": {
          "model_module": "@jupyter-widgets/base",
          "model_name": "LayoutModel",
          "model_module_version": "1.2.0",
          "state": {
            "_model_module": "@jupyter-widgets/base",
            "_model_module_version": "1.2.0",
            "_model_name": "LayoutModel",
            "_view_count": null,
            "_view_module": "@jupyter-widgets/base",
            "_view_module_version": "1.2.0",
            "_view_name": "LayoutView",
            "align_content": null,
            "align_items": null,
            "align_self": null,
            "border": null,
            "bottom": null,
            "display": null,
            "flex": null,
            "flex_flow": null,
            "grid_area": null,
            "grid_auto_columns": null,
            "grid_auto_flow": null,
            "grid_auto_rows": null,
            "grid_column": null,
            "grid_gap": null,
            "grid_row": null,
            "grid_template_areas": null,
            "grid_template_columns": null,
            "grid_template_rows": null,
            "height": null,
            "justify_content": null,
            "justify_items": null,
            "left": null,
            "margin": null,
            "max_height": null,
            "max_width": null,
            "min_height": null,
            "min_width": null,
            "object_fit": null,
            "object_position": null,
            "order": null,
            "overflow": null,
            "overflow_x": null,
            "overflow_y": null,
            "padding": null,
            "right": null,
            "top": null,
            "visibility": null,
            "width": null
          }
        },
        "c4282b56d20949b4a6ea4192d08a7a3c": {
          "model_module": "@jupyter-widgets/controls",
          "model_name": "DescriptionStyleModel",
          "model_module_version": "1.5.0",
          "state": {
            "_model_module": "@jupyter-widgets/controls",
            "_model_module_version": "1.5.0",
            "_model_name": "DescriptionStyleModel",
            "_view_count": null,
            "_view_module": "@jupyter-widgets/base",
            "_view_module_version": "1.2.0",
            "_view_name": "StyleView",
            "description_width": ""
          }
        },
        "8ce807f96eb54ec08368930600d8f2f3": {
          "model_module": "@jupyter-widgets/controls",
          "model_name": "HBoxModel",
          "model_module_version": "1.5.0",
          "state": {
            "_dom_classes": [],
            "_model_module": "@jupyter-widgets/controls",
            "_model_module_version": "1.5.0",
            "_model_name": "HBoxModel",
            "_view_count": null,
            "_view_module": "@jupyter-widgets/controls",
            "_view_module_version": "1.5.0",
            "_view_name": "HBoxView",
            "box_style": "",
            "children": [
              "IPY_MODEL_5381ba3efc9f4da88967a6076a7b80bc",
              "IPY_MODEL_7bd79ace818f426e96b32c9428253a85",
              "IPY_MODEL_b331211d981c45c392afc27eb1755af7"
            ],
            "layout": "IPY_MODEL_b750b44b1b9a469d846f35208c07675a"
          }
        },
        "5381ba3efc9f4da88967a6076a7b80bc": {
          "model_module": "@jupyter-widgets/controls",
          "model_name": "HTMLModel",
          "model_module_version": "1.5.0",
          "state": {
            "_dom_classes": [],
            "_model_module": "@jupyter-widgets/controls",
            "_model_module_version": "1.5.0",
            "_model_name": "HTMLModel",
            "_view_count": null,
            "_view_module": "@jupyter-widgets/controls",
            "_view_module_version": "1.5.0",
            "_view_name": "HTMLView",
            "description": "",
            "description_tooltip": null,
            "layout": "IPY_MODEL_5a13d2c36e98434faf63455ee416f5a0",
            "placeholder": "​",
            "style": "IPY_MODEL_18fc8347a8444cb2888e226351d8004a",
            "value": "config_sentence_transformers.json: 100%"
          }
        },
        "7bd79ace818f426e96b32c9428253a85": {
          "model_module": "@jupyter-widgets/controls",
          "model_name": "FloatProgressModel",
          "model_module_version": "1.5.0",
          "state": {
            "_dom_classes": [],
            "_model_module": "@jupyter-widgets/controls",
            "_model_module_version": "1.5.0",
            "_model_name": "FloatProgressModel",
            "_view_count": null,
            "_view_module": "@jupyter-widgets/controls",
            "_view_module_version": "1.5.0",
            "_view_name": "ProgressView",
            "bar_style": "success",
            "description": "",
            "description_tooltip": null,
            "layout": "IPY_MODEL_e7a6d5863c6b4914adb2b5438f99e91e",
            "max": 124,
            "min": 0,
            "orientation": "horizontal",
            "style": "IPY_MODEL_bad42e26e7434482b1879f79a7b0e238",
            "value": 124
          }
        },
        "b331211d981c45c392afc27eb1755af7": {
          "model_module": "@jupyter-widgets/controls",
          "model_name": "HTMLModel",
          "model_module_version": "1.5.0",
          "state": {
            "_dom_classes": [],
            "_model_module": "@jupyter-widgets/controls",
            "_model_module_version": "1.5.0",
            "_model_name": "HTMLModel",
            "_view_count": null,
            "_view_module": "@jupyter-widgets/controls",
            "_view_module_version": "1.5.0",
            "_view_name": "HTMLView",
            "description": "",
            "description_tooltip": null,
            "layout": "IPY_MODEL_f595e42612fd444db1c017c31462ec36",
            "placeholder": "​",
            "style": "IPY_MODEL_686420f015634eb9998a13a0782952b3",
            "value": " 124/124 [00:00&lt;00:00, 7.06kB/s]"
          }
        },
        "b750b44b1b9a469d846f35208c07675a": {
          "model_module": "@jupyter-widgets/base",
          "model_name": "LayoutModel",
          "model_module_version": "1.2.0",
          "state": {
            "_model_module": "@jupyter-widgets/base",
            "_model_module_version": "1.2.0",
            "_model_name": "LayoutModel",
            "_view_count": null,
            "_view_module": "@jupyter-widgets/base",
            "_view_module_version": "1.2.0",
            "_view_name": "LayoutView",
            "align_content": null,
            "align_items": null,
            "align_self": null,
            "border": null,
            "bottom": null,
            "display": null,
            "flex": null,
            "flex_flow": null,
            "grid_area": null,
            "grid_auto_columns": null,
            "grid_auto_flow": null,
            "grid_auto_rows": null,
            "grid_column": null,
            "grid_gap": null,
            "grid_row": null,
            "grid_template_areas": null,
            "grid_template_columns": null,
            "grid_template_rows": null,
            "height": null,
            "justify_content": null,
            "justify_items": null,
            "left": null,
            "margin": null,
            "max_height": null,
            "max_width": null,
            "min_height": null,
            "min_width": null,
            "object_fit": null,
            "object_position": null,
            "order": null,
            "overflow": null,
            "overflow_x": null,
            "overflow_y": null,
            "padding": null,
            "right": null,
            "top": null,
            "visibility": null,
            "width": null
          }
        },
        "5a13d2c36e98434faf63455ee416f5a0": {
          "model_module": "@jupyter-widgets/base",
          "model_name": "LayoutModel",
          "model_module_version": "1.2.0",
          "state": {
            "_model_module": "@jupyter-widgets/base",
            "_model_module_version": "1.2.0",
            "_model_name": "LayoutModel",
            "_view_count": null,
            "_view_module": "@jupyter-widgets/base",
            "_view_module_version": "1.2.0",
            "_view_name": "LayoutView",
            "align_content": null,
            "align_items": null,
            "align_self": null,
            "border": null,
            "bottom": null,
            "display": null,
            "flex": null,
            "flex_flow": null,
            "grid_area": null,
            "grid_auto_columns": null,
            "grid_auto_flow": null,
            "grid_auto_rows": null,
            "grid_column": null,
            "grid_gap": null,
            "grid_row": null,
            "grid_template_areas": null,
            "grid_template_columns": null,
            "grid_template_rows": null,
            "height": null,
            "justify_content": null,
            "justify_items": null,
            "left": null,
            "margin": null,
            "max_height": null,
            "max_width": null,
            "min_height": null,
            "min_width": null,
            "object_fit": null,
            "object_position": null,
            "order": null,
            "overflow": null,
            "overflow_x": null,
            "overflow_y": null,
            "padding": null,
            "right": null,
            "top": null,
            "visibility": null,
            "width": null
          }
        },
        "18fc8347a8444cb2888e226351d8004a": {
          "model_module": "@jupyter-widgets/controls",
          "model_name": "DescriptionStyleModel",
          "model_module_version": "1.5.0",
          "state": {
            "_model_module": "@jupyter-widgets/controls",
            "_model_module_version": "1.5.0",
            "_model_name": "DescriptionStyleModel",
            "_view_count": null,
            "_view_module": "@jupyter-widgets/base",
            "_view_module_version": "1.2.0",
            "_view_name": "StyleView",
            "description_width": ""
          }
        },
        "e7a6d5863c6b4914adb2b5438f99e91e": {
          "model_module": "@jupyter-widgets/base",
          "model_name": "LayoutModel",
          "model_module_version": "1.2.0",
          "state": {
            "_model_module": "@jupyter-widgets/base",
            "_model_module_version": "1.2.0",
            "_model_name": "LayoutModel",
            "_view_count": null,
            "_view_module": "@jupyter-widgets/base",
            "_view_module_version": "1.2.0",
            "_view_name": "LayoutView",
            "align_content": null,
            "align_items": null,
            "align_self": null,
            "border": null,
            "bottom": null,
            "display": null,
            "flex": null,
            "flex_flow": null,
            "grid_area": null,
            "grid_auto_columns": null,
            "grid_auto_flow": null,
            "grid_auto_rows": null,
            "grid_column": null,
            "grid_gap": null,
            "grid_row": null,
            "grid_template_areas": null,
            "grid_template_columns": null,
            "grid_template_rows": null,
            "height": null,
            "justify_content": null,
            "justify_items": null,
            "left": null,
            "margin": null,
            "max_height": null,
            "max_width": null,
            "min_height": null,
            "min_width": null,
            "object_fit": null,
            "object_position": null,
            "order": null,
            "overflow": null,
            "overflow_x": null,
            "overflow_y": null,
            "padding": null,
            "right": null,
            "top": null,
            "visibility": null,
            "width": null
          }
        },
        "bad42e26e7434482b1879f79a7b0e238": {
          "model_module": "@jupyter-widgets/controls",
          "model_name": "ProgressStyleModel",
          "model_module_version": "1.5.0",
          "state": {
            "_model_module": "@jupyter-widgets/controls",
            "_model_module_version": "1.5.0",
            "_model_name": "ProgressStyleModel",
            "_view_count": null,
            "_view_module": "@jupyter-widgets/base",
            "_view_module_version": "1.2.0",
            "_view_name": "StyleView",
            "bar_color": null,
            "description_width": ""
          }
        },
        "f595e42612fd444db1c017c31462ec36": {
          "model_module": "@jupyter-widgets/base",
          "model_name": "LayoutModel",
          "model_module_version": "1.2.0",
          "state": {
            "_model_module": "@jupyter-widgets/base",
            "_model_module_version": "1.2.0",
            "_model_name": "LayoutModel",
            "_view_count": null,
            "_view_module": "@jupyter-widgets/base",
            "_view_module_version": "1.2.0",
            "_view_name": "LayoutView",
            "align_content": null,
            "align_items": null,
            "align_self": null,
            "border": null,
            "bottom": null,
            "display": null,
            "flex": null,
            "flex_flow": null,
            "grid_area": null,
            "grid_auto_columns": null,
            "grid_auto_flow": null,
            "grid_auto_rows": null,
            "grid_column": null,
            "grid_gap": null,
            "grid_row": null,
            "grid_template_areas": null,
            "grid_template_columns": null,
            "grid_template_rows": null,
            "height": null,
            "justify_content": null,
            "justify_items": null,
            "left": null,
            "margin": null,
            "max_height": null,
            "max_width": null,
            "min_height": null,
            "min_width": null,
            "object_fit": null,
            "object_position": null,
            "order": null,
            "overflow": null,
            "overflow_x": null,
            "overflow_y": null,
            "padding": null,
            "right": null,
            "top": null,
            "visibility": null,
            "width": null
          }
        },
        "686420f015634eb9998a13a0782952b3": {
          "model_module": "@jupyter-widgets/controls",
          "model_name": "DescriptionStyleModel",
          "model_module_version": "1.5.0",
          "state": {
            "_model_module": "@jupyter-widgets/controls",
            "_model_module_version": "1.5.0",
            "_model_name": "DescriptionStyleModel",
            "_view_count": null,
            "_view_module": "@jupyter-widgets/base",
            "_view_module_version": "1.2.0",
            "_view_name": "StyleView",
            "description_width": ""
          }
        },
        "7d5c29e185204bf9ba88d46dcbb4179f": {
          "model_module": "@jupyter-widgets/controls",
          "model_name": "HBoxModel",
          "model_module_version": "1.5.0",
          "state": {
            "_dom_classes": [],
            "_model_module": "@jupyter-widgets/controls",
            "_model_module_version": "1.5.0",
            "_model_name": "HBoxModel",
            "_view_count": null,
            "_view_module": "@jupyter-widgets/controls",
            "_view_module_version": "1.5.0",
            "_view_name": "HBoxView",
            "box_style": "",
            "children": [
              "IPY_MODEL_ffb85ab763264599bee7dd96f668731b",
              "IPY_MODEL_266ffe7b4d174b4d8da6fe9c3df8b543",
              "IPY_MODEL_5feebe8b580f4001b6b65fd31a709b9e"
            ],
            "layout": "IPY_MODEL_1aa2cad8caa04d56a71f2fa007b464ce"
          }
        },
        "ffb85ab763264599bee7dd96f668731b": {
          "model_module": "@jupyter-widgets/controls",
          "model_name": "HTMLModel",
          "model_module_version": "1.5.0",
          "state": {
            "_dom_classes": [],
            "_model_module": "@jupyter-widgets/controls",
            "_model_module_version": "1.5.0",
            "_model_name": "HTMLModel",
            "_view_count": null,
            "_view_module": "@jupyter-widgets/controls",
            "_view_module_version": "1.5.0",
            "_view_name": "HTMLView",
            "description": "",
            "description_tooltip": null,
            "layout": "IPY_MODEL_fcef638f9f384b5599f6a75e6eeff150",
            "placeholder": "​",
            "style": "IPY_MODEL_c50be45342b743659c0ca4365ba77169",
            "value": "README.md: 100%"
          }
        },
        "266ffe7b4d174b4d8da6fe9c3df8b543": {
          "model_module": "@jupyter-widgets/controls",
          "model_name": "FloatProgressModel",
          "model_module_version": "1.5.0",
          "state": {
            "_dom_classes": [],
            "_model_module": "@jupyter-widgets/controls",
            "_model_module_version": "1.5.0",
            "_model_name": "FloatProgressModel",
            "_view_count": null,
            "_view_module": "@jupyter-widgets/controls",
            "_view_module_version": "1.5.0",
            "_view_name": "ProgressView",
            "bar_style": "success",
            "description": "",
            "description_tooltip": null,
            "layout": "IPY_MODEL_a774f020f64647e2959913e5baec59b1",
            "max": 90272,
            "min": 0,
            "orientation": "horizontal",
            "style": "IPY_MODEL_4cb794a827b8425b872037c57bc9d4d3",
            "value": 90272
          }
        },
        "5feebe8b580f4001b6b65fd31a709b9e": {
          "model_module": "@jupyter-widgets/controls",
          "model_name": "HTMLModel",
          "model_module_version": "1.5.0",
          "state": {
            "_dom_classes": [],
            "_model_module": "@jupyter-widgets/controls",
            "_model_module_version": "1.5.0",
            "_model_name": "HTMLModel",
            "_view_count": null,
            "_view_module": "@jupyter-widgets/controls",
            "_view_module_version": "1.5.0",
            "_view_name": "HTMLView",
            "description": "",
            "description_tooltip": null,
            "layout": "IPY_MODEL_a95514cfc81948cca30185a7394e31b5",
            "placeholder": "​",
            "style": "IPY_MODEL_9865fe48f59b4b9e8dcd7eb6de62ebea",
            "value": " 90.3k/90.3k [00:00&lt;00:00, 1.09MB/s]"
          }
        },
        "1aa2cad8caa04d56a71f2fa007b464ce": {
          "model_module": "@jupyter-widgets/base",
          "model_name": "LayoutModel",
          "model_module_version": "1.2.0",
          "state": {
            "_model_module": "@jupyter-widgets/base",
            "_model_module_version": "1.2.0",
            "_model_name": "LayoutModel",
            "_view_count": null,
            "_view_module": "@jupyter-widgets/base",
            "_view_module_version": "1.2.0",
            "_view_name": "LayoutView",
            "align_content": null,
            "align_items": null,
            "align_self": null,
            "border": null,
            "bottom": null,
            "display": null,
            "flex": null,
            "flex_flow": null,
            "grid_area": null,
            "grid_auto_columns": null,
            "grid_auto_flow": null,
            "grid_auto_rows": null,
            "grid_column": null,
            "grid_gap": null,
            "grid_row": null,
            "grid_template_areas": null,
            "grid_template_columns": null,
            "grid_template_rows": null,
            "height": null,
            "justify_content": null,
            "justify_items": null,
            "left": null,
            "margin": null,
            "max_height": null,
            "max_width": null,
            "min_height": null,
            "min_width": null,
            "object_fit": null,
            "object_position": null,
            "order": null,
            "overflow": null,
            "overflow_x": null,
            "overflow_y": null,
            "padding": null,
            "right": null,
            "top": null,
            "visibility": null,
            "width": null
          }
        },
        "fcef638f9f384b5599f6a75e6eeff150": {
          "model_module": "@jupyter-widgets/base",
          "model_name": "LayoutModel",
          "model_module_version": "1.2.0",
          "state": {
            "_model_module": "@jupyter-widgets/base",
            "_model_module_version": "1.2.0",
            "_model_name": "LayoutModel",
            "_view_count": null,
            "_view_module": "@jupyter-widgets/base",
            "_view_module_version": "1.2.0",
            "_view_name": "LayoutView",
            "align_content": null,
            "align_items": null,
            "align_self": null,
            "border": null,
            "bottom": null,
            "display": null,
            "flex": null,
            "flex_flow": null,
            "grid_area": null,
            "grid_auto_columns": null,
            "grid_auto_flow": null,
            "grid_auto_rows": null,
            "grid_column": null,
            "grid_gap": null,
            "grid_row": null,
            "grid_template_areas": null,
            "grid_template_columns": null,
            "grid_template_rows": null,
            "height": null,
            "justify_content": null,
            "justify_items": null,
            "left": null,
            "margin": null,
            "max_height": null,
            "max_width": null,
            "min_height": null,
            "min_width": null,
            "object_fit": null,
            "object_position": null,
            "order": null,
            "overflow": null,
            "overflow_x": null,
            "overflow_y": null,
            "padding": null,
            "right": null,
            "top": null,
            "visibility": null,
            "width": null
          }
        },
        "c50be45342b743659c0ca4365ba77169": {
          "model_module": "@jupyter-widgets/controls",
          "model_name": "DescriptionStyleModel",
          "model_module_version": "1.5.0",
          "state": {
            "_model_module": "@jupyter-widgets/controls",
            "_model_module_version": "1.5.0",
            "_model_name": "DescriptionStyleModel",
            "_view_count": null,
            "_view_module": "@jupyter-widgets/base",
            "_view_module_version": "1.2.0",
            "_view_name": "StyleView",
            "description_width": ""
          }
        },
        "a774f020f64647e2959913e5baec59b1": {
          "model_module": "@jupyter-widgets/base",
          "model_name": "LayoutModel",
          "model_module_version": "1.2.0",
          "state": {
            "_model_module": "@jupyter-widgets/base",
            "_model_module_version": "1.2.0",
            "_model_name": "LayoutModel",
            "_view_count": null,
            "_view_module": "@jupyter-widgets/base",
            "_view_module_version": "1.2.0",
            "_view_name": "LayoutView",
            "align_content": null,
            "align_items": null,
            "align_self": null,
            "border": null,
            "bottom": null,
            "display": null,
            "flex": null,
            "flex_flow": null,
            "grid_area": null,
            "grid_auto_columns": null,
            "grid_auto_flow": null,
            "grid_auto_rows": null,
            "grid_column": null,
            "grid_gap": null,
            "grid_row": null,
            "grid_template_areas": null,
            "grid_template_columns": null,
            "grid_template_rows": null,
            "height": null,
            "justify_content": null,
            "justify_items": null,
            "left": null,
            "margin": null,
            "max_height": null,
            "max_width": null,
            "min_height": null,
            "min_width": null,
            "object_fit": null,
            "object_position": null,
            "order": null,
            "overflow": null,
            "overflow_x": null,
            "overflow_y": null,
            "padding": null,
            "right": null,
            "top": null,
            "visibility": null,
            "width": null
          }
        },
        "4cb794a827b8425b872037c57bc9d4d3": {
          "model_module": "@jupyter-widgets/controls",
          "model_name": "ProgressStyleModel",
          "model_module_version": "1.5.0",
          "state": {
            "_model_module": "@jupyter-widgets/controls",
            "_model_module_version": "1.5.0",
            "_model_name": "ProgressStyleModel",
            "_view_count": null,
            "_view_module": "@jupyter-widgets/base",
            "_view_module_version": "1.2.0",
            "_view_name": "StyleView",
            "bar_color": null,
            "description_width": ""
          }
        },
        "a95514cfc81948cca30185a7394e31b5": {
          "model_module": "@jupyter-widgets/base",
          "model_name": "LayoutModel",
          "model_module_version": "1.2.0",
          "state": {
            "_model_module": "@jupyter-widgets/base",
            "_model_module_version": "1.2.0",
            "_model_name": "LayoutModel",
            "_view_count": null,
            "_view_module": "@jupyter-widgets/base",
            "_view_module_version": "1.2.0",
            "_view_name": "LayoutView",
            "align_content": null,
            "align_items": null,
            "align_self": null,
            "border": null,
            "bottom": null,
            "display": null,
            "flex": null,
            "flex_flow": null,
            "grid_area": null,
            "grid_auto_columns": null,
            "grid_auto_flow": null,
            "grid_auto_rows": null,
            "grid_column": null,
            "grid_gap": null,
            "grid_row": null,
            "grid_template_areas": null,
            "grid_template_columns": null,
            "grid_template_rows": null,
            "height": null,
            "justify_content": null,
            "justify_items": null,
            "left": null,
            "margin": null,
            "max_height": null,
            "max_width": null,
            "min_height": null,
            "min_width": null,
            "object_fit": null,
            "object_position": null,
            "order": null,
            "overflow": null,
            "overflow_x": null,
            "overflow_y": null,
            "padding": null,
            "right": null,
            "top": null,
            "visibility": null,
            "width": null
          }
        },
        "9865fe48f59b4b9e8dcd7eb6de62ebea": {
          "model_module": "@jupyter-widgets/controls",
          "model_name": "DescriptionStyleModel",
          "model_module_version": "1.5.0",
          "state": {
            "_model_module": "@jupyter-widgets/controls",
            "_model_module_version": "1.5.0",
            "_model_name": "DescriptionStyleModel",
            "_view_count": null,
            "_view_module": "@jupyter-widgets/base",
            "_view_module_version": "1.2.0",
            "_view_name": "StyleView",
            "description_width": ""
          }
        },
        "d89485e307a644c9801a7ddbbbe422ef": {
          "model_module": "@jupyter-widgets/controls",
          "model_name": "HBoxModel",
          "model_module_version": "1.5.0",
          "state": {
            "_dom_classes": [],
            "_model_module": "@jupyter-widgets/controls",
            "_model_module_version": "1.5.0",
            "_model_name": "HBoxModel",
            "_view_count": null,
            "_view_module": "@jupyter-widgets/controls",
            "_view_module_version": "1.5.0",
            "_view_name": "HBoxView",
            "box_style": "",
            "children": [
              "IPY_MODEL_655dd2e501b64685a977e290e2f4c494",
              "IPY_MODEL_90287a96a8c9482d96d86d41579f52f0",
              "IPY_MODEL_627dbc1265344adb80db49ed4a41e401"
            ],
            "layout": "IPY_MODEL_2caafe6179494a56adc0dd2cb71e2d93"
          }
        },
        "655dd2e501b64685a977e290e2f4c494": {
          "model_module": "@jupyter-widgets/controls",
          "model_name": "HTMLModel",
          "model_module_version": "1.5.0",
          "state": {
            "_dom_classes": [],
            "_model_module": "@jupyter-widgets/controls",
            "_model_module_version": "1.5.0",
            "_model_name": "HTMLModel",
            "_view_count": null,
            "_view_module": "@jupyter-widgets/controls",
            "_view_module_version": "1.5.0",
            "_view_name": "HTMLView",
            "description": "",
            "description_tooltip": null,
            "layout": "IPY_MODEL_ec086f5e34e94ffb9ab0ad07f3f3a7b9",
            "placeholder": "​",
            "style": "IPY_MODEL_9a3748022ccc410eae365cacd06fd348",
            "value": "sentence_bert_config.json: 100%"
          }
        },
        "90287a96a8c9482d96d86d41579f52f0": {
          "model_module": "@jupyter-widgets/controls",
          "model_name": "FloatProgressModel",
          "model_module_version": "1.5.0",
          "state": {
            "_dom_classes": [],
            "_model_module": "@jupyter-widgets/controls",
            "_model_module_version": "1.5.0",
            "_model_name": "FloatProgressModel",
            "_view_count": null,
            "_view_module": "@jupyter-widgets/controls",
            "_view_module_version": "1.5.0",
            "_view_name": "ProgressView",
            "bar_style": "success",
            "description": "",
            "description_tooltip": null,
            "layout": "IPY_MODEL_fa3b8a746d0f463493a981af2268bd58",
            "max": 52,
            "min": 0,
            "orientation": "horizontal",
            "style": "IPY_MODEL_1a40e01240f34805a1081fac7f6d1f42",
            "value": 52
          }
        },
        "627dbc1265344adb80db49ed4a41e401": {
          "model_module": "@jupyter-widgets/controls",
          "model_name": "HTMLModel",
          "model_module_version": "1.5.0",
          "state": {
            "_dom_classes": [],
            "_model_module": "@jupyter-widgets/controls",
            "_model_module_version": "1.5.0",
            "_model_name": "HTMLModel",
            "_view_count": null,
            "_view_module": "@jupyter-widgets/controls",
            "_view_module_version": "1.5.0",
            "_view_name": "HTMLView",
            "description": "",
            "description_tooltip": null,
            "layout": "IPY_MODEL_10b46ce35b6b42809cd534229902a008",
            "placeholder": "​",
            "style": "IPY_MODEL_eb7cfffda7cf4c47ada907a45a777bd1",
            "value": " 52.0/52.0 [00:00&lt;00:00, 4.12kB/s]"
          }
        },
        "2caafe6179494a56adc0dd2cb71e2d93": {
          "model_module": "@jupyter-widgets/base",
          "model_name": "LayoutModel",
          "model_module_version": "1.2.0",
          "state": {
            "_model_module": "@jupyter-widgets/base",
            "_model_module_version": "1.2.0",
            "_model_name": "LayoutModel",
            "_view_count": null,
            "_view_module": "@jupyter-widgets/base",
            "_view_module_version": "1.2.0",
            "_view_name": "LayoutView",
            "align_content": null,
            "align_items": null,
            "align_self": null,
            "border": null,
            "bottom": null,
            "display": null,
            "flex": null,
            "flex_flow": null,
            "grid_area": null,
            "grid_auto_columns": null,
            "grid_auto_flow": null,
            "grid_auto_rows": null,
            "grid_column": null,
            "grid_gap": null,
            "grid_row": null,
            "grid_template_areas": null,
            "grid_template_columns": null,
            "grid_template_rows": null,
            "height": null,
            "justify_content": null,
            "justify_items": null,
            "left": null,
            "margin": null,
            "max_height": null,
            "max_width": null,
            "min_height": null,
            "min_width": null,
            "object_fit": null,
            "object_position": null,
            "order": null,
            "overflow": null,
            "overflow_x": null,
            "overflow_y": null,
            "padding": null,
            "right": null,
            "top": null,
            "visibility": null,
            "width": null
          }
        },
        "ec086f5e34e94ffb9ab0ad07f3f3a7b9": {
          "model_module": "@jupyter-widgets/base",
          "model_name": "LayoutModel",
          "model_module_version": "1.2.0",
          "state": {
            "_model_module": "@jupyter-widgets/base",
            "_model_module_version": "1.2.0",
            "_model_name": "LayoutModel",
            "_view_count": null,
            "_view_module": "@jupyter-widgets/base",
            "_view_module_version": "1.2.0",
            "_view_name": "LayoutView",
            "align_content": null,
            "align_items": null,
            "align_self": null,
            "border": null,
            "bottom": null,
            "display": null,
            "flex": null,
            "flex_flow": null,
            "grid_area": null,
            "grid_auto_columns": null,
            "grid_auto_flow": null,
            "grid_auto_rows": null,
            "grid_column": null,
            "grid_gap": null,
            "grid_row": null,
            "grid_template_areas": null,
            "grid_template_columns": null,
            "grid_template_rows": null,
            "height": null,
            "justify_content": null,
            "justify_items": null,
            "left": null,
            "margin": null,
            "max_height": null,
            "max_width": null,
            "min_height": null,
            "min_width": null,
            "object_fit": null,
            "object_position": null,
            "order": null,
            "overflow": null,
            "overflow_x": null,
            "overflow_y": null,
            "padding": null,
            "right": null,
            "top": null,
            "visibility": null,
            "width": null
          }
        },
        "9a3748022ccc410eae365cacd06fd348": {
          "model_module": "@jupyter-widgets/controls",
          "model_name": "DescriptionStyleModel",
          "model_module_version": "1.5.0",
          "state": {
            "_model_module": "@jupyter-widgets/controls",
            "_model_module_version": "1.5.0",
            "_model_name": "DescriptionStyleModel",
            "_view_count": null,
            "_view_module": "@jupyter-widgets/base",
            "_view_module_version": "1.2.0",
            "_view_name": "StyleView",
            "description_width": ""
          }
        },
        "fa3b8a746d0f463493a981af2268bd58": {
          "model_module": "@jupyter-widgets/base",
          "model_name": "LayoutModel",
          "model_module_version": "1.2.0",
          "state": {
            "_model_module": "@jupyter-widgets/base",
            "_model_module_version": "1.2.0",
            "_model_name": "LayoutModel",
            "_view_count": null,
            "_view_module": "@jupyter-widgets/base",
            "_view_module_version": "1.2.0",
            "_view_name": "LayoutView",
            "align_content": null,
            "align_items": null,
            "align_self": null,
            "border": null,
            "bottom": null,
            "display": null,
            "flex": null,
            "flex_flow": null,
            "grid_area": null,
            "grid_auto_columns": null,
            "grid_auto_flow": null,
            "grid_auto_rows": null,
            "grid_column": null,
            "grid_gap": null,
            "grid_row": null,
            "grid_template_areas": null,
            "grid_template_columns": null,
            "grid_template_rows": null,
            "height": null,
            "justify_content": null,
            "justify_items": null,
            "left": null,
            "margin": null,
            "max_height": null,
            "max_width": null,
            "min_height": null,
            "min_width": null,
            "object_fit": null,
            "object_position": null,
            "order": null,
            "overflow": null,
            "overflow_x": null,
            "overflow_y": null,
            "padding": null,
            "right": null,
            "top": null,
            "visibility": null,
            "width": null
          }
        },
        "1a40e01240f34805a1081fac7f6d1f42": {
          "model_module": "@jupyter-widgets/controls",
          "model_name": "ProgressStyleModel",
          "model_module_version": "1.5.0",
          "state": {
            "_model_module": "@jupyter-widgets/controls",
            "_model_module_version": "1.5.0",
            "_model_name": "ProgressStyleModel",
            "_view_count": null,
            "_view_module": "@jupyter-widgets/base",
            "_view_module_version": "1.2.0",
            "_view_name": "StyleView",
            "bar_color": null,
            "description_width": ""
          }
        },
        "10b46ce35b6b42809cd534229902a008": {
          "model_module": "@jupyter-widgets/base",
          "model_name": "LayoutModel",
          "model_module_version": "1.2.0",
          "state": {
            "_model_module": "@jupyter-widgets/base",
            "_model_module_version": "1.2.0",
            "_model_name": "LayoutModel",
            "_view_count": null,
            "_view_module": "@jupyter-widgets/base",
            "_view_module_version": "1.2.0",
            "_view_name": "LayoutView",
            "align_content": null,
            "align_items": null,
            "align_self": null,
            "border": null,
            "bottom": null,
            "display": null,
            "flex": null,
            "flex_flow": null,
            "grid_area": null,
            "grid_auto_columns": null,
            "grid_auto_flow": null,
            "grid_auto_rows": null,
            "grid_column": null,
            "grid_gap": null,
            "grid_row": null,
            "grid_template_areas": null,
            "grid_template_columns": null,
            "grid_template_rows": null,
            "height": null,
            "justify_content": null,
            "justify_items": null,
            "left": null,
            "margin": null,
            "max_height": null,
            "max_width": null,
            "min_height": null,
            "min_width": null,
            "object_fit": null,
            "object_position": null,
            "order": null,
            "overflow": null,
            "overflow_x": null,
            "overflow_y": null,
            "padding": null,
            "right": null,
            "top": null,
            "visibility": null,
            "width": null
          }
        },
        "eb7cfffda7cf4c47ada907a45a777bd1": {
          "model_module": "@jupyter-widgets/controls",
          "model_name": "DescriptionStyleModel",
          "model_module_version": "1.5.0",
          "state": {
            "_model_module": "@jupyter-widgets/controls",
            "_model_module_version": "1.5.0",
            "_model_name": "DescriptionStyleModel",
            "_view_count": null,
            "_view_module": "@jupyter-widgets/base",
            "_view_module_version": "1.2.0",
            "_view_name": "StyleView",
            "description_width": ""
          }
        },
        "4b3b8c5b0d4d42be805486f5b777527c": {
          "model_module": "@jupyter-widgets/controls",
          "model_name": "HBoxModel",
          "model_module_version": "1.5.0",
          "state": {
            "_dom_classes": [],
            "_model_module": "@jupyter-widgets/controls",
            "_model_module_version": "1.5.0",
            "_model_name": "HBoxModel",
            "_view_count": null,
            "_view_module": "@jupyter-widgets/controls",
            "_view_module_version": "1.5.0",
            "_view_name": "HBoxView",
            "box_style": "",
            "children": [
              "IPY_MODEL_da8dc651c37240318043be7d7df8b895",
              "IPY_MODEL_1e11992758c0420eb4598fdbb2009061",
              "IPY_MODEL_f8e14525e0a248df8d43b22ee2c5a512"
            ],
            "layout": "IPY_MODEL_8645a88d0fb84c5d87900aaeac80f3e4"
          }
        },
        "da8dc651c37240318043be7d7df8b895": {
          "model_module": "@jupyter-widgets/controls",
          "model_name": "HTMLModel",
          "model_module_version": "1.5.0",
          "state": {
            "_dom_classes": [],
            "_model_module": "@jupyter-widgets/controls",
            "_model_module_version": "1.5.0",
            "_model_name": "HTMLModel",
            "_view_count": null,
            "_view_module": "@jupyter-widgets/controls",
            "_view_module_version": "1.5.0",
            "_view_name": "HTMLView",
            "description": "",
            "description_tooltip": null,
            "layout": "IPY_MODEL_3757b72446e9471990af52dfb8c1d0c0",
            "placeholder": "​",
            "style": "IPY_MODEL_12f510af041641469ffbe7c6fde3e4fc",
            "value": "config.json: 100%"
          }
        },
        "1e11992758c0420eb4598fdbb2009061": {
          "model_module": "@jupyter-widgets/controls",
          "model_name": "FloatProgressModel",
          "model_module_version": "1.5.0",
          "state": {
            "_dom_classes": [],
            "_model_module": "@jupyter-widgets/controls",
            "_model_module_version": "1.5.0",
            "_model_name": "FloatProgressModel",
            "_view_count": null,
            "_view_module": "@jupyter-widgets/controls",
            "_view_module_version": "1.5.0",
            "_view_name": "ProgressView",
            "bar_style": "success",
            "description": "",
            "description_tooltip": null,
            "layout": "IPY_MODEL_d4c701d954ca4e1595a384149860a1eb",
            "max": 720,
            "min": 0,
            "orientation": "horizontal",
            "style": "IPY_MODEL_8ffb7c51dae14bdf9b0b46550187585c",
            "value": 720
          }
        },
        "f8e14525e0a248df8d43b22ee2c5a512": {
          "model_module": "@jupyter-widgets/controls",
          "model_name": "HTMLModel",
          "model_module_version": "1.5.0",
          "state": {
            "_dom_classes": [],
            "_model_module": "@jupyter-widgets/controls",
            "_model_module_version": "1.5.0",
            "_model_name": "HTMLModel",
            "_view_count": null,
            "_view_module": "@jupyter-widgets/controls",
            "_view_module_version": "1.5.0",
            "_view_name": "HTMLView",
            "description": "",
            "description_tooltip": null,
            "layout": "IPY_MODEL_a563087992ca4871bacb84d0267cf7e3",
            "placeholder": "​",
            "style": "IPY_MODEL_99fccd0b912c415bb8222057c96699e7",
            "value": " 720/720 [00:00&lt;00:00, 53.1kB/s]"
          }
        },
        "8645a88d0fb84c5d87900aaeac80f3e4": {
          "model_module": "@jupyter-widgets/base",
          "model_name": "LayoutModel",
          "model_module_version": "1.2.0",
          "state": {
            "_model_module": "@jupyter-widgets/base",
            "_model_module_version": "1.2.0",
            "_model_name": "LayoutModel",
            "_view_count": null,
            "_view_module": "@jupyter-widgets/base",
            "_view_module_version": "1.2.0",
            "_view_name": "LayoutView",
            "align_content": null,
            "align_items": null,
            "align_self": null,
            "border": null,
            "bottom": null,
            "display": null,
            "flex": null,
            "flex_flow": null,
            "grid_area": null,
            "grid_auto_columns": null,
            "grid_auto_flow": null,
            "grid_auto_rows": null,
            "grid_column": null,
            "grid_gap": null,
            "grid_row": null,
            "grid_template_areas": null,
            "grid_template_columns": null,
            "grid_template_rows": null,
            "height": null,
            "justify_content": null,
            "justify_items": null,
            "left": null,
            "margin": null,
            "max_height": null,
            "max_width": null,
            "min_height": null,
            "min_width": null,
            "object_fit": null,
            "object_position": null,
            "order": null,
            "overflow": null,
            "overflow_x": null,
            "overflow_y": null,
            "padding": null,
            "right": null,
            "top": null,
            "visibility": null,
            "width": null
          }
        },
        "3757b72446e9471990af52dfb8c1d0c0": {
          "model_module": "@jupyter-widgets/base",
          "model_name": "LayoutModel",
          "model_module_version": "1.2.0",
          "state": {
            "_model_module": "@jupyter-widgets/base",
            "_model_module_version": "1.2.0",
            "_model_name": "LayoutModel",
            "_view_count": null,
            "_view_module": "@jupyter-widgets/base",
            "_view_module_version": "1.2.0",
            "_view_name": "LayoutView",
            "align_content": null,
            "align_items": null,
            "align_self": null,
            "border": null,
            "bottom": null,
            "display": null,
            "flex": null,
            "flex_flow": null,
            "grid_area": null,
            "grid_auto_columns": null,
            "grid_auto_flow": null,
            "grid_auto_rows": null,
            "grid_column": null,
            "grid_gap": null,
            "grid_row": null,
            "grid_template_areas": null,
            "grid_template_columns": null,
            "grid_template_rows": null,
            "height": null,
            "justify_content": null,
            "justify_items": null,
            "left": null,
            "margin": null,
            "max_height": null,
            "max_width": null,
            "min_height": null,
            "min_width": null,
            "object_fit": null,
            "object_position": null,
            "order": null,
            "overflow": null,
            "overflow_x": null,
            "overflow_y": null,
            "padding": null,
            "right": null,
            "top": null,
            "visibility": null,
            "width": null
          }
        },
        "12f510af041641469ffbe7c6fde3e4fc": {
          "model_module": "@jupyter-widgets/controls",
          "model_name": "DescriptionStyleModel",
          "model_module_version": "1.5.0",
          "state": {
            "_model_module": "@jupyter-widgets/controls",
            "_model_module_version": "1.5.0",
            "_model_name": "DescriptionStyleModel",
            "_view_count": null,
            "_view_module": "@jupyter-widgets/base",
            "_view_module_version": "1.2.0",
            "_view_name": "StyleView",
            "description_width": ""
          }
        },
        "d4c701d954ca4e1595a384149860a1eb": {
          "model_module": "@jupyter-widgets/base",
          "model_name": "LayoutModel",
          "model_module_version": "1.2.0",
          "state": {
            "_model_module": "@jupyter-widgets/base",
            "_model_module_version": "1.2.0",
            "_model_name": "LayoutModel",
            "_view_count": null,
            "_view_module": "@jupyter-widgets/base",
            "_view_module_version": "1.2.0",
            "_view_name": "LayoutView",
            "align_content": null,
            "align_items": null,
            "align_self": null,
            "border": null,
            "bottom": null,
            "display": null,
            "flex": null,
            "flex_flow": null,
            "grid_area": null,
            "grid_auto_columns": null,
            "grid_auto_flow": null,
            "grid_auto_rows": null,
            "grid_column": null,
            "grid_gap": null,
            "grid_row": null,
            "grid_template_areas": null,
            "grid_template_columns": null,
            "grid_template_rows": null,
            "height": null,
            "justify_content": null,
            "justify_items": null,
            "left": null,
            "margin": null,
            "max_height": null,
            "max_width": null,
            "min_height": null,
            "min_width": null,
            "object_fit": null,
            "object_position": null,
            "order": null,
            "overflow": null,
            "overflow_x": null,
            "overflow_y": null,
            "padding": null,
            "right": null,
            "top": null,
            "visibility": null,
            "width": null
          }
        },
        "8ffb7c51dae14bdf9b0b46550187585c": {
          "model_module": "@jupyter-widgets/controls",
          "model_name": "ProgressStyleModel",
          "model_module_version": "1.5.0",
          "state": {
            "_model_module": "@jupyter-widgets/controls",
            "_model_module_version": "1.5.0",
            "_model_name": "ProgressStyleModel",
            "_view_count": null,
            "_view_module": "@jupyter-widgets/base",
            "_view_module_version": "1.2.0",
            "_view_name": "StyleView",
            "bar_color": null,
            "description_width": ""
          }
        },
        "a563087992ca4871bacb84d0267cf7e3": {
          "model_module": "@jupyter-widgets/base",
          "model_name": "LayoutModel",
          "model_module_version": "1.2.0",
          "state": {
            "_model_module": "@jupyter-widgets/base",
            "_model_module_version": "1.2.0",
            "_model_name": "LayoutModel",
            "_view_count": null,
            "_view_module": "@jupyter-widgets/base",
            "_view_module_version": "1.2.0",
            "_view_name": "LayoutView",
            "align_content": null,
            "align_items": null,
            "align_self": null,
            "border": null,
            "bottom": null,
            "display": null,
            "flex": null,
            "flex_flow": null,
            "grid_area": null,
            "grid_auto_columns": null,
            "grid_auto_flow": null,
            "grid_auto_rows": null,
            "grid_column": null,
            "grid_gap": null,
            "grid_row": null,
            "grid_template_areas": null,
            "grid_template_columns": null,
            "grid_template_rows": null,
            "height": null,
            "justify_content": null,
            "justify_items": null,
            "left": null,
            "margin": null,
            "max_height": null,
            "max_width": null,
            "min_height": null,
            "min_width": null,
            "object_fit": null,
            "object_position": null,
            "order": null,
            "overflow": null,
            "overflow_x": null,
            "overflow_y": null,
            "padding": null,
            "right": null,
            "top": null,
            "visibility": null,
            "width": null
          }
        },
        "99fccd0b912c415bb8222057c96699e7": {
          "model_module": "@jupyter-widgets/controls",
          "model_name": "DescriptionStyleModel",
          "model_module_version": "1.5.0",
          "state": {
            "_model_module": "@jupyter-widgets/controls",
            "_model_module_version": "1.5.0",
            "_model_name": "DescriptionStyleModel",
            "_view_count": null,
            "_view_module": "@jupyter-widgets/base",
            "_view_module_version": "1.2.0",
            "_view_name": "StyleView",
            "description_width": ""
          }
        },
        "5b632ce49b514194bf44a0bc7e22dda8": {
          "model_module": "@jupyter-widgets/controls",
          "model_name": "HBoxModel",
          "model_module_version": "1.5.0",
          "state": {
            "_dom_classes": [],
            "_model_module": "@jupyter-widgets/controls",
            "_model_module_version": "1.5.0",
            "_model_name": "HBoxModel",
            "_view_count": null,
            "_view_module": "@jupyter-widgets/controls",
            "_view_module_version": "1.5.0",
            "_view_name": "HBoxView",
            "box_style": "",
            "children": [
              "IPY_MODEL_02cf4d0df4954a53b4a671a19cfcf2d8",
              "IPY_MODEL_38b0cd61fc674d5dac2df88e9a9a204d",
              "IPY_MODEL_4155f38b10434da09e109f0f249a94bd"
            ],
            "layout": "IPY_MODEL_dbf03c5d79974dc6aeca734935bb74a4"
          }
        },
        "02cf4d0df4954a53b4a671a19cfcf2d8": {
          "model_module": "@jupyter-widgets/controls",
          "model_name": "HTMLModel",
          "model_module_version": "1.5.0",
          "state": {
            "_dom_classes": [],
            "_model_module": "@jupyter-widgets/controls",
            "_model_module_version": "1.5.0",
            "_model_name": "HTMLModel",
            "_view_count": null,
            "_view_module": "@jupyter-widgets/controls",
            "_view_module_version": "1.5.0",
            "_view_name": "HTMLView",
            "description": "",
            "description_tooltip": null,
            "layout": "IPY_MODEL_c79b247b3542413285eefbd74cf96915",
            "placeholder": "​",
            "style": "IPY_MODEL_1fc0a348da2d440dba3be189542522f0",
            "value": "model.safetensors: 100%"
          }
        },
        "38b0cd61fc674d5dac2df88e9a9a204d": {
          "model_module": "@jupyter-widgets/controls",
          "model_name": "FloatProgressModel",
          "model_module_version": "1.5.0",
          "state": {
            "_dom_classes": [],
            "_model_module": "@jupyter-widgets/controls",
            "_model_module_version": "1.5.0",
            "_model_name": "FloatProgressModel",
            "_view_count": null,
            "_view_module": "@jupyter-widgets/controls",
            "_view_module_version": "1.5.0",
            "_view_name": "ProgressView",
            "bar_style": "success",
            "description": "",
            "description_tooltip": null,
            "layout": "IPY_MODEL_259c8e27db5c42ff9fbe34bd798ddccd",
            "max": 1340616616,
            "min": 0,
            "orientation": "horizontal",
            "style": "IPY_MODEL_4cbd95cb2d434feda5019364cd54375f",
            "value": 1340616616
          }
        },
        "4155f38b10434da09e109f0f249a94bd": {
          "model_module": "@jupyter-widgets/controls",
          "model_name": "HTMLModel",
          "model_module_version": "1.5.0",
          "state": {
            "_dom_classes": [],
            "_model_module": "@jupyter-widgets/controls",
            "_model_module_version": "1.5.0",
            "_model_name": "HTMLModel",
            "_view_count": null,
            "_view_module": "@jupyter-widgets/controls",
            "_view_module_version": "1.5.0",
            "_view_name": "HTMLView",
            "description": "",
            "description_tooltip": null,
            "layout": "IPY_MODEL_d84eea892c7f41eb9a1ea51b88304043",
            "placeholder": "​",
            "style": "IPY_MODEL_8d715d0ab56f4acf86db3e39bd145d62",
            "value": " 1.34G/1.34G [00:09&lt;00:00, 218MB/s]"
          }
        },
        "dbf03c5d79974dc6aeca734935bb74a4": {
          "model_module": "@jupyter-widgets/base",
          "model_name": "LayoutModel",
          "model_module_version": "1.2.0",
          "state": {
            "_model_module": "@jupyter-widgets/base",
            "_model_module_version": "1.2.0",
            "_model_name": "LayoutModel",
            "_view_count": null,
            "_view_module": "@jupyter-widgets/base",
            "_view_module_version": "1.2.0",
            "_view_name": "LayoutView",
            "align_content": null,
            "align_items": null,
            "align_self": null,
            "border": null,
            "bottom": null,
            "display": null,
            "flex": null,
            "flex_flow": null,
            "grid_area": null,
            "grid_auto_columns": null,
            "grid_auto_flow": null,
            "grid_auto_rows": null,
            "grid_column": null,
            "grid_gap": null,
            "grid_row": null,
            "grid_template_areas": null,
            "grid_template_columns": null,
            "grid_template_rows": null,
            "height": null,
            "justify_content": null,
            "justify_items": null,
            "left": null,
            "margin": null,
            "max_height": null,
            "max_width": null,
            "min_height": null,
            "min_width": null,
            "object_fit": null,
            "object_position": null,
            "order": null,
            "overflow": null,
            "overflow_x": null,
            "overflow_y": null,
            "padding": null,
            "right": null,
            "top": null,
            "visibility": null,
            "width": null
          }
        },
        "c79b247b3542413285eefbd74cf96915": {
          "model_module": "@jupyter-widgets/base",
          "model_name": "LayoutModel",
          "model_module_version": "1.2.0",
          "state": {
            "_model_module": "@jupyter-widgets/base",
            "_model_module_version": "1.2.0",
            "_model_name": "LayoutModel",
            "_view_count": null,
            "_view_module": "@jupyter-widgets/base",
            "_view_module_version": "1.2.0",
            "_view_name": "LayoutView",
            "align_content": null,
            "align_items": null,
            "align_self": null,
            "border": null,
            "bottom": null,
            "display": null,
            "flex": null,
            "flex_flow": null,
            "grid_area": null,
            "grid_auto_columns": null,
            "grid_auto_flow": null,
            "grid_auto_rows": null,
            "grid_column": null,
            "grid_gap": null,
            "grid_row": null,
            "grid_template_areas": null,
            "grid_template_columns": null,
            "grid_template_rows": null,
            "height": null,
            "justify_content": null,
            "justify_items": null,
            "left": null,
            "margin": null,
            "max_height": null,
            "max_width": null,
            "min_height": null,
            "min_width": null,
            "object_fit": null,
            "object_position": null,
            "order": null,
            "overflow": null,
            "overflow_x": null,
            "overflow_y": null,
            "padding": null,
            "right": null,
            "top": null,
            "visibility": null,
            "width": null
          }
        },
        "1fc0a348da2d440dba3be189542522f0": {
          "model_module": "@jupyter-widgets/controls",
          "model_name": "DescriptionStyleModel",
          "model_module_version": "1.5.0",
          "state": {
            "_model_module": "@jupyter-widgets/controls",
            "_model_module_version": "1.5.0",
            "_model_name": "DescriptionStyleModel",
            "_view_count": null,
            "_view_module": "@jupyter-widgets/base",
            "_view_module_version": "1.2.0",
            "_view_name": "StyleView",
            "description_width": ""
          }
        },
        "259c8e27db5c42ff9fbe34bd798ddccd": {
          "model_module": "@jupyter-widgets/base",
          "model_name": "LayoutModel",
          "model_module_version": "1.2.0",
          "state": {
            "_model_module": "@jupyter-widgets/base",
            "_model_module_version": "1.2.0",
            "_model_name": "LayoutModel",
            "_view_count": null,
            "_view_module": "@jupyter-widgets/base",
            "_view_module_version": "1.2.0",
            "_view_name": "LayoutView",
            "align_content": null,
            "align_items": null,
            "align_self": null,
            "border": null,
            "bottom": null,
            "display": null,
            "flex": null,
            "flex_flow": null,
            "grid_area": null,
            "grid_auto_columns": null,
            "grid_auto_flow": null,
            "grid_auto_rows": null,
            "grid_column": null,
            "grid_gap": null,
            "grid_row": null,
            "grid_template_areas": null,
            "grid_template_columns": null,
            "grid_template_rows": null,
            "height": null,
            "justify_content": null,
            "justify_items": null,
            "left": null,
            "margin": null,
            "max_height": null,
            "max_width": null,
            "min_height": null,
            "min_width": null,
            "object_fit": null,
            "object_position": null,
            "order": null,
            "overflow": null,
            "overflow_x": null,
            "overflow_y": null,
            "padding": null,
            "right": null,
            "top": null,
            "visibility": null,
            "width": null
          }
        },
        "4cbd95cb2d434feda5019364cd54375f": {
          "model_module": "@jupyter-widgets/controls",
          "model_name": "ProgressStyleModel",
          "model_module_version": "1.5.0",
          "state": {
            "_model_module": "@jupyter-widgets/controls",
            "_model_module_version": "1.5.0",
            "_model_name": "ProgressStyleModel",
            "_view_count": null,
            "_view_module": "@jupyter-widgets/base",
            "_view_module_version": "1.2.0",
            "_view_name": "StyleView",
            "bar_color": null,
            "description_width": ""
          }
        },
        "d84eea892c7f41eb9a1ea51b88304043": {
          "model_module": "@jupyter-widgets/base",
          "model_name": "LayoutModel",
          "model_module_version": "1.2.0",
          "state": {
            "_model_module": "@jupyter-widgets/base",
            "_model_module_version": "1.2.0",
            "_model_name": "LayoutModel",
            "_view_count": null,
            "_view_module": "@jupyter-widgets/base",
            "_view_module_version": "1.2.0",
            "_view_name": "LayoutView",
            "align_content": null,
            "align_items": null,
            "align_self": null,
            "border": null,
            "bottom": null,
            "display": null,
            "flex": null,
            "flex_flow": null,
            "grid_area": null,
            "grid_auto_columns": null,
            "grid_auto_flow": null,
            "grid_auto_rows": null,
            "grid_column": null,
            "grid_gap": null,
            "grid_row": null,
            "grid_template_areas": null,
            "grid_template_columns": null,
            "grid_template_rows": null,
            "height": null,
            "justify_content": null,
            "justify_items": null,
            "left": null,
            "margin": null,
            "max_height": null,
            "max_width": null,
            "min_height": null,
            "min_width": null,
            "object_fit": null,
            "object_position": null,
            "order": null,
            "overflow": null,
            "overflow_x": null,
            "overflow_y": null,
            "padding": null,
            "right": null,
            "top": null,
            "visibility": null,
            "width": null
          }
        },
        "8d715d0ab56f4acf86db3e39bd145d62": {
          "model_module": "@jupyter-widgets/controls",
          "model_name": "DescriptionStyleModel",
          "model_module_version": "1.5.0",
          "state": {
            "_model_module": "@jupyter-widgets/controls",
            "_model_module_version": "1.5.0",
            "_model_name": "DescriptionStyleModel",
            "_view_count": null,
            "_view_module": "@jupyter-widgets/base",
            "_view_module_version": "1.2.0",
            "_view_name": "StyleView",
            "description_width": ""
          }
        },
        "ebdf3f008ce24ab59e7a09932e8c735d": {
          "model_module": "@jupyter-widgets/controls",
          "model_name": "HBoxModel",
          "model_module_version": "1.5.0",
          "state": {
            "_dom_classes": [],
            "_model_module": "@jupyter-widgets/controls",
            "_model_module_version": "1.5.0",
            "_model_name": "HBoxModel",
            "_view_count": null,
            "_view_module": "@jupyter-widgets/controls",
            "_view_module_version": "1.5.0",
            "_view_name": "HBoxView",
            "box_style": "",
            "children": [
              "IPY_MODEL_d93b1573dbff4216b1d95f86b9332e38",
              "IPY_MODEL_2876d5fff9a949bca90496c79bafeeab",
              "IPY_MODEL_f067f595065f42b891cc3aa523e0c3fc"
            ],
            "layout": "IPY_MODEL_55008535f5f04ad3a482bc04cc98e63c"
          }
        },
        "d93b1573dbff4216b1d95f86b9332e38": {
          "model_module": "@jupyter-widgets/controls",
          "model_name": "HTMLModel",
          "model_module_version": "1.5.0",
          "state": {
            "_dom_classes": [],
            "_model_module": "@jupyter-widgets/controls",
            "_model_module_version": "1.5.0",
            "_model_name": "HTMLModel",
            "_view_count": null,
            "_view_module": "@jupyter-widgets/controls",
            "_view_module_version": "1.5.0",
            "_view_name": "HTMLView",
            "description": "",
            "description_tooltip": null,
            "layout": "IPY_MODEL_4fed8022c0e24b0ea48d73d6d3589183",
            "placeholder": "​",
            "style": "IPY_MODEL_bc3dd5d2dd54454eb6ddb9438fda9d8f",
            "value": "tokenizer_config.json: 100%"
          }
        },
        "2876d5fff9a949bca90496c79bafeeab": {
          "model_module": "@jupyter-widgets/controls",
          "model_name": "FloatProgressModel",
          "model_module_version": "1.5.0",
          "state": {
            "_dom_classes": [],
            "_model_module": "@jupyter-widgets/controls",
            "_model_module_version": "1.5.0",
            "_model_name": "FloatProgressModel",
            "_view_count": null,
            "_view_module": "@jupyter-widgets/controls",
            "_view_module_version": "1.5.0",
            "_view_name": "ProgressView",
            "bar_style": "success",
            "description": "",
            "description_tooltip": null,
            "layout": "IPY_MODEL_09dad874700d4b32b20915d64ab345a0",
            "max": 366,
            "min": 0,
            "orientation": "horizontal",
            "style": "IPY_MODEL_b482dc9182cd49078cae86ffcaca7682",
            "value": 366
          }
        },
        "f067f595065f42b891cc3aa523e0c3fc": {
          "model_module": "@jupyter-widgets/controls",
          "model_name": "HTMLModel",
          "model_module_version": "1.5.0",
          "state": {
            "_dom_classes": [],
            "_model_module": "@jupyter-widgets/controls",
            "_model_module_version": "1.5.0",
            "_model_name": "HTMLModel",
            "_view_count": null,
            "_view_module": "@jupyter-widgets/controls",
            "_view_module_version": "1.5.0",
            "_view_name": "HTMLView",
            "description": "",
            "description_tooltip": null,
            "layout": "IPY_MODEL_d56154ffc3f34e0295195a3af3197e3b",
            "placeholder": "​",
            "style": "IPY_MODEL_8bb8ef961850481fabc8be1b5b1f64e4",
            "value": " 366/366 [00:00&lt;00:00, 25.4kB/s]"
          }
        },
        "55008535f5f04ad3a482bc04cc98e63c": {
          "model_module": "@jupyter-widgets/base",
          "model_name": "LayoutModel",
          "model_module_version": "1.2.0",
          "state": {
            "_model_module": "@jupyter-widgets/base",
            "_model_module_version": "1.2.0",
            "_model_name": "LayoutModel",
            "_view_count": null,
            "_view_module": "@jupyter-widgets/base",
            "_view_module_version": "1.2.0",
            "_view_name": "LayoutView",
            "align_content": null,
            "align_items": null,
            "align_self": null,
            "border": null,
            "bottom": null,
            "display": null,
            "flex": null,
            "flex_flow": null,
            "grid_area": null,
            "grid_auto_columns": null,
            "grid_auto_flow": null,
            "grid_auto_rows": null,
            "grid_column": null,
            "grid_gap": null,
            "grid_row": null,
            "grid_template_areas": null,
            "grid_template_columns": null,
            "grid_template_rows": null,
            "height": null,
            "justify_content": null,
            "justify_items": null,
            "left": null,
            "margin": null,
            "max_height": null,
            "max_width": null,
            "min_height": null,
            "min_width": null,
            "object_fit": null,
            "object_position": null,
            "order": null,
            "overflow": null,
            "overflow_x": null,
            "overflow_y": null,
            "padding": null,
            "right": null,
            "top": null,
            "visibility": null,
            "width": null
          }
        },
        "4fed8022c0e24b0ea48d73d6d3589183": {
          "model_module": "@jupyter-widgets/base",
          "model_name": "LayoutModel",
          "model_module_version": "1.2.0",
          "state": {
            "_model_module": "@jupyter-widgets/base",
            "_model_module_version": "1.2.0",
            "_model_name": "LayoutModel",
            "_view_count": null,
            "_view_module": "@jupyter-widgets/base",
            "_view_module_version": "1.2.0",
            "_view_name": "LayoutView",
            "align_content": null,
            "align_items": null,
            "align_self": null,
            "border": null,
            "bottom": null,
            "display": null,
            "flex": null,
            "flex_flow": null,
            "grid_area": null,
            "grid_auto_columns": null,
            "grid_auto_flow": null,
            "grid_auto_rows": null,
            "grid_column": null,
            "grid_gap": null,
            "grid_row": null,
            "grid_template_areas": null,
            "grid_template_columns": null,
            "grid_template_rows": null,
            "height": null,
            "justify_content": null,
            "justify_items": null,
            "left": null,
            "margin": null,
            "max_height": null,
            "max_width": null,
            "min_height": null,
            "min_width": null,
            "object_fit": null,
            "object_position": null,
            "order": null,
            "overflow": null,
            "overflow_x": null,
            "overflow_y": null,
            "padding": null,
            "right": null,
            "top": null,
            "visibility": null,
            "width": null
          }
        },
        "bc3dd5d2dd54454eb6ddb9438fda9d8f": {
          "model_module": "@jupyter-widgets/controls",
          "model_name": "DescriptionStyleModel",
          "model_module_version": "1.5.0",
          "state": {
            "_model_module": "@jupyter-widgets/controls",
            "_model_module_version": "1.5.0",
            "_model_name": "DescriptionStyleModel",
            "_view_count": null,
            "_view_module": "@jupyter-widgets/base",
            "_view_module_version": "1.2.0",
            "_view_name": "StyleView",
            "description_width": ""
          }
        },
        "09dad874700d4b32b20915d64ab345a0": {
          "model_module": "@jupyter-widgets/base",
          "model_name": "LayoutModel",
          "model_module_version": "1.2.0",
          "state": {
            "_model_module": "@jupyter-widgets/base",
            "_model_module_version": "1.2.0",
            "_model_name": "LayoutModel",
            "_view_count": null,
            "_view_module": "@jupyter-widgets/base",
            "_view_module_version": "1.2.0",
            "_view_name": "LayoutView",
            "align_content": null,
            "align_items": null,
            "align_self": null,
            "border": null,
            "bottom": null,
            "display": null,
            "flex": null,
            "flex_flow": null,
            "grid_area": null,
            "grid_auto_columns": null,
            "grid_auto_flow": null,
            "grid_auto_rows": null,
            "grid_column": null,
            "grid_gap": null,
            "grid_row": null,
            "grid_template_areas": null,
            "grid_template_columns": null,
            "grid_template_rows": null,
            "height": null,
            "justify_content": null,
            "justify_items": null,
            "left": null,
            "margin": null,
            "max_height": null,
            "max_width": null,
            "min_height": null,
            "min_width": null,
            "object_fit": null,
            "object_position": null,
            "order": null,
            "overflow": null,
            "overflow_x": null,
            "overflow_y": null,
            "padding": null,
            "right": null,
            "top": null,
            "visibility": null,
            "width": null
          }
        },
        "b482dc9182cd49078cae86ffcaca7682": {
          "model_module": "@jupyter-widgets/controls",
          "model_name": "ProgressStyleModel",
          "model_module_version": "1.5.0",
          "state": {
            "_model_module": "@jupyter-widgets/controls",
            "_model_module_version": "1.5.0",
            "_model_name": "ProgressStyleModel",
            "_view_count": null,
            "_view_module": "@jupyter-widgets/base",
            "_view_module_version": "1.2.0",
            "_view_name": "StyleView",
            "bar_color": null,
            "description_width": ""
          }
        },
        "d56154ffc3f34e0295195a3af3197e3b": {
          "model_module": "@jupyter-widgets/base",
          "model_name": "LayoutModel",
          "model_module_version": "1.2.0",
          "state": {
            "_model_module": "@jupyter-widgets/base",
            "_model_module_version": "1.2.0",
            "_model_name": "LayoutModel",
            "_view_count": null,
            "_view_module": "@jupyter-widgets/base",
            "_view_module_version": "1.2.0",
            "_view_name": "LayoutView",
            "align_content": null,
            "align_items": null,
            "align_self": null,
            "border": null,
            "bottom": null,
            "display": null,
            "flex": null,
            "flex_flow": null,
            "grid_area": null,
            "grid_auto_columns": null,
            "grid_auto_flow": null,
            "grid_auto_rows": null,
            "grid_column": null,
            "grid_gap": null,
            "grid_row": null,
            "grid_template_areas": null,
            "grid_template_columns": null,
            "grid_template_rows": null,
            "height": null,
            "justify_content": null,
            "justify_items": null,
            "left": null,
            "margin": null,
            "max_height": null,
            "max_width": null,
            "min_height": null,
            "min_width": null,
            "object_fit": null,
            "object_position": null,
            "order": null,
            "overflow": null,
            "overflow_x": null,
            "overflow_y": null,
            "padding": null,
            "right": null,
            "top": null,
            "visibility": null,
            "width": null
          }
        },
        "8bb8ef961850481fabc8be1b5b1f64e4": {
          "model_module": "@jupyter-widgets/controls",
          "model_name": "DescriptionStyleModel",
          "model_module_version": "1.5.0",
          "state": {
            "_model_module": "@jupyter-widgets/controls",
            "_model_module_version": "1.5.0",
            "_model_name": "DescriptionStyleModel",
            "_view_count": null,
            "_view_module": "@jupyter-widgets/base",
            "_view_module_version": "1.2.0",
            "_view_name": "StyleView",
            "description_width": ""
          }
        },
        "491d054ca5bc4588940ead79294cee85": {
          "model_module": "@jupyter-widgets/controls",
          "model_name": "HBoxModel",
          "model_module_version": "1.5.0",
          "state": {
            "_dom_classes": [],
            "_model_module": "@jupyter-widgets/controls",
            "_model_module_version": "1.5.0",
            "_model_name": "HBoxModel",
            "_view_count": null,
            "_view_module": "@jupyter-widgets/controls",
            "_view_module_version": "1.5.0",
            "_view_name": "HBoxView",
            "box_style": "",
            "children": [
              "IPY_MODEL_889e70e7f4b04a39bc9ae05c462e5bbf",
              "IPY_MODEL_9313af71e0f3407da0a9436a23ceb595",
              "IPY_MODEL_0aff3b9da1474499a87af8c5753d2cd0"
            ],
            "layout": "IPY_MODEL_b188c35aad654249a1b4d59cf5a0f7ee"
          }
        },
        "889e70e7f4b04a39bc9ae05c462e5bbf": {
          "model_module": "@jupyter-widgets/controls",
          "model_name": "HTMLModel",
          "model_module_version": "1.5.0",
          "state": {
            "_dom_classes": [],
            "_model_module": "@jupyter-widgets/controls",
            "_model_module_version": "1.5.0",
            "_model_name": "HTMLModel",
            "_view_count": null,
            "_view_module": "@jupyter-widgets/controls",
            "_view_module_version": "1.5.0",
            "_view_name": "HTMLView",
            "description": "",
            "description_tooltip": null,
            "layout": "IPY_MODEL_5b577be24f1e4297a1c6c15170983a3f",
            "placeholder": "​",
            "style": "IPY_MODEL_4e20183f837947d4987014b41eea0f43",
            "value": "vocab.txt: 100%"
          }
        },
        "9313af71e0f3407da0a9436a23ceb595": {
          "model_module": "@jupyter-widgets/controls",
          "model_name": "FloatProgressModel",
          "model_module_version": "1.5.0",
          "state": {
            "_dom_classes": [],
            "_model_module": "@jupyter-widgets/controls",
            "_model_module_version": "1.5.0",
            "_model_name": "FloatProgressModel",
            "_view_count": null,
            "_view_module": "@jupyter-widgets/controls",
            "_view_module_version": "1.5.0",
            "_view_name": "ProgressView",
            "bar_style": "success",
            "description": "",
            "description_tooltip": null,
            "layout": "IPY_MODEL_78df45352d504fec81087b6c7b1a09f5",
            "max": 231508,
            "min": 0,
            "orientation": "horizontal",
            "style": "IPY_MODEL_193e8d5ec167442991301451e518ebef",
            "value": 231508
          }
        },
        "0aff3b9da1474499a87af8c5753d2cd0": {
          "model_module": "@jupyter-widgets/controls",
          "model_name": "HTMLModel",
          "model_module_version": "1.5.0",
          "state": {
            "_dom_classes": [],
            "_model_module": "@jupyter-widgets/controls",
            "_model_module_version": "1.5.0",
            "_model_name": "HTMLModel",
            "_view_count": null,
            "_view_module": "@jupyter-widgets/controls",
            "_view_module_version": "1.5.0",
            "_view_name": "HTMLView",
            "description": "",
            "description_tooltip": null,
            "layout": "IPY_MODEL_98a9b2ea1d3b4a448e1efdaeaacb4f0f",
            "placeholder": "​",
            "style": "IPY_MODEL_3079c5708ada476892c541c25518b60a",
            "value": " 232k/232k [00:00&lt;00:00, 2.65MB/s]"
          }
        },
        "b188c35aad654249a1b4d59cf5a0f7ee": {
          "model_module": "@jupyter-widgets/base",
          "model_name": "LayoutModel",
          "model_module_version": "1.2.0",
          "state": {
            "_model_module": "@jupyter-widgets/base",
            "_model_module_version": "1.2.0",
            "_model_name": "LayoutModel",
            "_view_count": null,
            "_view_module": "@jupyter-widgets/base",
            "_view_module_version": "1.2.0",
            "_view_name": "LayoutView",
            "align_content": null,
            "align_items": null,
            "align_self": null,
            "border": null,
            "bottom": null,
            "display": null,
            "flex": null,
            "flex_flow": null,
            "grid_area": null,
            "grid_auto_columns": null,
            "grid_auto_flow": null,
            "grid_auto_rows": null,
            "grid_column": null,
            "grid_gap": null,
            "grid_row": null,
            "grid_template_areas": null,
            "grid_template_columns": null,
            "grid_template_rows": null,
            "height": null,
            "justify_content": null,
            "justify_items": null,
            "left": null,
            "margin": null,
            "max_height": null,
            "max_width": null,
            "min_height": null,
            "min_width": null,
            "object_fit": null,
            "object_position": null,
            "order": null,
            "overflow": null,
            "overflow_x": null,
            "overflow_y": null,
            "padding": null,
            "right": null,
            "top": null,
            "visibility": null,
            "width": null
          }
        },
        "5b577be24f1e4297a1c6c15170983a3f": {
          "model_module": "@jupyter-widgets/base",
          "model_name": "LayoutModel",
          "model_module_version": "1.2.0",
          "state": {
            "_model_module": "@jupyter-widgets/base",
            "_model_module_version": "1.2.0",
            "_model_name": "LayoutModel",
            "_view_count": null,
            "_view_module": "@jupyter-widgets/base",
            "_view_module_version": "1.2.0",
            "_view_name": "LayoutView",
            "align_content": null,
            "align_items": null,
            "align_self": null,
            "border": null,
            "bottom": null,
            "display": null,
            "flex": null,
            "flex_flow": null,
            "grid_area": null,
            "grid_auto_columns": null,
            "grid_auto_flow": null,
            "grid_auto_rows": null,
            "grid_column": null,
            "grid_gap": null,
            "grid_row": null,
            "grid_template_areas": null,
            "grid_template_columns": null,
            "grid_template_rows": null,
            "height": null,
            "justify_content": null,
            "justify_items": null,
            "left": null,
            "margin": null,
            "max_height": null,
            "max_width": null,
            "min_height": null,
            "min_width": null,
            "object_fit": null,
            "object_position": null,
            "order": null,
            "overflow": null,
            "overflow_x": null,
            "overflow_y": null,
            "padding": null,
            "right": null,
            "top": null,
            "visibility": null,
            "width": null
          }
        },
        "4e20183f837947d4987014b41eea0f43": {
          "model_module": "@jupyter-widgets/controls",
          "model_name": "DescriptionStyleModel",
          "model_module_version": "1.5.0",
          "state": {
            "_model_module": "@jupyter-widgets/controls",
            "_model_module_version": "1.5.0",
            "_model_name": "DescriptionStyleModel",
            "_view_count": null,
            "_view_module": "@jupyter-widgets/base",
            "_view_module_version": "1.2.0",
            "_view_name": "StyleView",
            "description_width": ""
          }
        },
        "78df45352d504fec81087b6c7b1a09f5": {
          "model_module": "@jupyter-widgets/base",
          "model_name": "LayoutModel",
          "model_module_version": "1.2.0",
          "state": {
            "_model_module": "@jupyter-widgets/base",
            "_model_module_version": "1.2.0",
            "_model_name": "LayoutModel",
            "_view_count": null,
            "_view_module": "@jupyter-widgets/base",
            "_view_module_version": "1.2.0",
            "_view_name": "LayoutView",
            "align_content": null,
            "align_items": null,
            "align_self": null,
            "border": null,
            "bottom": null,
            "display": null,
            "flex": null,
            "flex_flow": null,
            "grid_area": null,
            "grid_auto_columns": null,
            "grid_auto_flow": null,
            "grid_auto_rows": null,
            "grid_column": null,
            "grid_gap": null,
            "grid_row": null,
            "grid_template_areas": null,
            "grid_template_columns": null,
            "grid_template_rows": null,
            "height": null,
            "justify_content": null,
            "justify_items": null,
            "left": null,
            "margin": null,
            "max_height": null,
            "max_width": null,
            "min_height": null,
            "min_width": null,
            "object_fit": null,
            "object_position": null,
            "order": null,
            "overflow": null,
            "overflow_x": null,
            "overflow_y": null,
            "padding": null,
            "right": null,
            "top": null,
            "visibility": null,
            "width": null
          }
        },
        "193e8d5ec167442991301451e518ebef": {
          "model_module": "@jupyter-widgets/controls",
          "model_name": "ProgressStyleModel",
          "model_module_version": "1.5.0",
          "state": {
            "_model_module": "@jupyter-widgets/controls",
            "_model_module_version": "1.5.0",
            "_model_name": "ProgressStyleModel",
            "_view_count": null,
            "_view_module": "@jupyter-widgets/base",
            "_view_module_version": "1.2.0",
            "_view_name": "StyleView",
            "bar_color": null,
            "description_width": ""
          }
        },
        "98a9b2ea1d3b4a448e1efdaeaacb4f0f": {
          "model_module": "@jupyter-widgets/base",
          "model_name": "LayoutModel",
          "model_module_version": "1.2.0",
          "state": {
            "_model_module": "@jupyter-widgets/base",
            "_model_module_version": "1.2.0",
            "_model_name": "LayoutModel",
            "_view_count": null,
            "_view_module": "@jupyter-widgets/base",
            "_view_module_version": "1.2.0",
            "_view_name": "LayoutView",
            "align_content": null,
            "align_items": null,
            "align_self": null,
            "border": null,
            "bottom": null,
            "display": null,
            "flex": null,
            "flex_flow": null,
            "grid_area": null,
            "grid_auto_columns": null,
            "grid_auto_flow": null,
            "grid_auto_rows": null,
            "grid_column": null,
            "grid_gap": null,
            "grid_row": null,
            "grid_template_areas": null,
            "grid_template_columns": null,
            "grid_template_rows": null,
            "height": null,
            "justify_content": null,
            "justify_items": null,
            "left": null,
            "margin": null,
            "max_height": null,
            "max_width": null,
            "min_height": null,
            "min_width": null,
            "object_fit": null,
            "object_position": null,
            "order": null,
            "overflow": null,
            "overflow_x": null,
            "overflow_y": null,
            "padding": null,
            "right": null,
            "top": null,
            "visibility": null,
            "width": null
          }
        },
        "3079c5708ada476892c541c25518b60a": {
          "model_module": "@jupyter-widgets/controls",
          "model_name": "DescriptionStyleModel",
          "model_module_version": "1.5.0",
          "state": {
            "_model_module": "@jupyter-widgets/controls",
            "_model_module_version": "1.5.0",
            "_model_name": "DescriptionStyleModel",
            "_view_count": null,
            "_view_module": "@jupyter-widgets/base",
            "_view_module_version": "1.2.0",
            "_view_name": "StyleView",
            "description_width": ""
          }
        },
        "0061443d428744bab8ef4dc7ccb8f4f0": {
          "model_module": "@jupyter-widgets/controls",
          "model_name": "HBoxModel",
          "model_module_version": "1.5.0",
          "state": {
            "_dom_classes": [],
            "_model_module": "@jupyter-widgets/controls",
            "_model_module_version": "1.5.0",
            "_model_name": "HBoxModel",
            "_view_count": null,
            "_view_module": "@jupyter-widgets/controls",
            "_view_module_version": "1.5.0",
            "_view_name": "HBoxView",
            "box_style": "",
            "children": [
              "IPY_MODEL_6502053d3f984db49e88de87c2421c65",
              "IPY_MODEL_57d4f88a7b2b411dbf5506a594cb70e7",
              "IPY_MODEL_bab80cd38da04b898935609665cca132"
            ],
            "layout": "IPY_MODEL_41728f7458024acca73753b25fef75f2"
          }
        },
        "6502053d3f984db49e88de87c2421c65": {
          "model_module": "@jupyter-widgets/controls",
          "model_name": "HTMLModel",
          "model_module_version": "1.5.0",
          "state": {
            "_dom_classes": [],
            "_model_module": "@jupyter-widgets/controls",
            "_model_module_version": "1.5.0",
            "_model_name": "HTMLModel",
            "_view_count": null,
            "_view_module": "@jupyter-widgets/controls",
            "_view_module_version": "1.5.0",
            "_view_name": "HTMLView",
            "description": "",
            "description_tooltip": null,
            "layout": "IPY_MODEL_79cc3d81660948bbb63e1d814c272884",
            "placeholder": "​",
            "style": "IPY_MODEL_494590ebe37147ffb9a4ccc4ad0c423c",
            "value": "tokenizer.json: 100%"
          }
        },
        "57d4f88a7b2b411dbf5506a594cb70e7": {
          "model_module": "@jupyter-widgets/controls",
          "model_name": "FloatProgressModel",
          "model_module_version": "1.5.0",
          "state": {
            "_dom_classes": [],
            "_model_module": "@jupyter-widgets/controls",
            "_model_module_version": "1.5.0",
            "_model_name": "FloatProgressModel",
            "_view_count": null,
            "_view_module": "@jupyter-widgets/controls",
            "_view_module_version": "1.5.0",
            "_view_name": "ProgressView",
            "bar_style": "success",
            "description": "",
            "description_tooltip": null,
            "layout": "IPY_MODEL_0849b1d6ad9048cbbf49d22a6d54fddf",
            "max": 711396,
            "min": 0,
            "orientation": "horizontal",
            "style": "IPY_MODEL_b7101b962b7a40a199465d80c33f9648",
            "value": 711396
          }
        },
        "bab80cd38da04b898935609665cca132": {
          "model_module": "@jupyter-widgets/controls",
          "model_name": "HTMLModel",
          "model_module_version": "1.5.0",
          "state": {
            "_dom_classes": [],
            "_model_module": "@jupyter-widgets/controls",
            "_model_module_version": "1.5.0",
            "_model_name": "HTMLModel",
            "_view_count": null,
            "_view_module": "@jupyter-widgets/controls",
            "_view_module_version": "1.5.0",
            "_view_name": "HTMLView",
            "description": "",
            "description_tooltip": null,
            "layout": "IPY_MODEL_bec72e9cec454980adc1fdd68139cd4f",
            "placeholder": "​",
            "style": "IPY_MODEL_f8961c9ff1e3470b90faaa5679c37c18",
            "value": " 711k/711k [00:00&lt;00:00, 4.30MB/s]"
          }
        },
        "41728f7458024acca73753b25fef75f2": {
          "model_module": "@jupyter-widgets/base",
          "model_name": "LayoutModel",
          "model_module_version": "1.2.0",
          "state": {
            "_model_module": "@jupyter-widgets/base",
            "_model_module_version": "1.2.0",
            "_model_name": "LayoutModel",
            "_view_count": null,
            "_view_module": "@jupyter-widgets/base",
            "_view_module_version": "1.2.0",
            "_view_name": "LayoutView",
            "align_content": null,
            "align_items": null,
            "align_self": null,
            "border": null,
            "bottom": null,
            "display": null,
            "flex": null,
            "flex_flow": null,
            "grid_area": null,
            "grid_auto_columns": null,
            "grid_auto_flow": null,
            "grid_auto_rows": null,
            "grid_column": null,
            "grid_gap": null,
            "grid_row": null,
            "grid_template_areas": null,
            "grid_template_columns": null,
            "grid_template_rows": null,
            "height": null,
            "justify_content": null,
            "justify_items": null,
            "left": null,
            "margin": null,
            "max_height": null,
            "max_width": null,
            "min_height": null,
            "min_width": null,
            "object_fit": null,
            "object_position": null,
            "order": null,
            "overflow": null,
            "overflow_x": null,
            "overflow_y": null,
            "padding": null,
            "right": null,
            "top": null,
            "visibility": null,
            "width": null
          }
        },
        "79cc3d81660948bbb63e1d814c272884": {
          "model_module": "@jupyter-widgets/base",
          "model_name": "LayoutModel",
          "model_module_version": "1.2.0",
          "state": {
            "_model_module": "@jupyter-widgets/base",
            "_model_module_version": "1.2.0",
            "_model_name": "LayoutModel",
            "_view_count": null,
            "_view_module": "@jupyter-widgets/base",
            "_view_module_version": "1.2.0",
            "_view_name": "LayoutView",
            "align_content": null,
            "align_items": null,
            "align_self": null,
            "border": null,
            "bottom": null,
            "display": null,
            "flex": null,
            "flex_flow": null,
            "grid_area": null,
            "grid_auto_columns": null,
            "grid_auto_flow": null,
            "grid_auto_rows": null,
            "grid_column": null,
            "grid_gap": null,
            "grid_row": null,
            "grid_template_areas": null,
            "grid_template_columns": null,
            "grid_template_rows": null,
            "height": null,
            "justify_content": null,
            "justify_items": null,
            "left": null,
            "margin": null,
            "max_height": null,
            "max_width": null,
            "min_height": null,
            "min_width": null,
            "object_fit": null,
            "object_position": null,
            "order": null,
            "overflow": null,
            "overflow_x": null,
            "overflow_y": null,
            "padding": null,
            "right": null,
            "top": null,
            "visibility": null,
            "width": null
          }
        },
        "494590ebe37147ffb9a4ccc4ad0c423c": {
          "model_module": "@jupyter-widgets/controls",
          "model_name": "DescriptionStyleModel",
          "model_module_version": "1.5.0",
          "state": {
            "_model_module": "@jupyter-widgets/controls",
            "_model_module_version": "1.5.0",
            "_model_name": "DescriptionStyleModel",
            "_view_count": null,
            "_view_module": "@jupyter-widgets/base",
            "_view_module_version": "1.2.0",
            "_view_name": "StyleView",
            "description_width": ""
          }
        },
        "0849b1d6ad9048cbbf49d22a6d54fddf": {
          "model_module": "@jupyter-widgets/base",
          "model_name": "LayoutModel",
          "model_module_version": "1.2.0",
          "state": {
            "_model_module": "@jupyter-widgets/base",
            "_model_module_version": "1.2.0",
            "_model_name": "LayoutModel",
            "_view_count": null,
            "_view_module": "@jupyter-widgets/base",
            "_view_module_version": "1.2.0",
            "_view_name": "LayoutView",
            "align_content": null,
            "align_items": null,
            "align_self": null,
            "border": null,
            "bottom": null,
            "display": null,
            "flex": null,
            "flex_flow": null,
            "grid_area": null,
            "grid_auto_columns": null,
            "grid_auto_flow": null,
            "grid_auto_rows": null,
            "grid_column": null,
            "grid_gap": null,
            "grid_row": null,
            "grid_template_areas": null,
            "grid_template_columns": null,
            "grid_template_rows": null,
            "height": null,
            "justify_content": null,
            "justify_items": null,
            "left": null,
            "margin": null,
            "max_height": null,
            "max_width": null,
            "min_height": null,
            "min_width": null,
            "object_fit": null,
            "object_position": null,
            "order": null,
            "overflow": null,
            "overflow_x": null,
            "overflow_y": null,
            "padding": null,
            "right": null,
            "top": null,
            "visibility": null,
            "width": null
          }
        },
        "b7101b962b7a40a199465d80c33f9648": {
          "model_module": "@jupyter-widgets/controls",
          "model_name": "ProgressStyleModel",
          "model_module_version": "1.5.0",
          "state": {
            "_model_module": "@jupyter-widgets/controls",
            "_model_module_version": "1.5.0",
            "_model_name": "ProgressStyleModel",
            "_view_count": null,
            "_view_module": "@jupyter-widgets/base",
            "_view_module_version": "1.2.0",
            "_view_name": "StyleView",
            "bar_color": null,
            "description_width": ""
          }
        },
        "bec72e9cec454980adc1fdd68139cd4f": {
          "model_module": "@jupyter-widgets/base",
          "model_name": "LayoutModel",
          "model_module_version": "1.2.0",
          "state": {
            "_model_module": "@jupyter-widgets/base",
            "_model_module_version": "1.2.0",
            "_model_name": "LayoutModel",
            "_view_count": null,
            "_view_module": "@jupyter-widgets/base",
            "_view_module_version": "1.2.0",
            "_view_name": "LayoutView",
            "align_content": null,
            "align_items": null,
            "align_self": null,
            "border": null,
            "bottom": null,
            "display": null,
            "flex": null,
            "flex_flow": null,
            "grid_area": null,
            "grid_auto_columns": null,
            "grid_auto_flow": null,
            "grid_auto_rows": null,
            "grid_column": null,
            "grid_gap": null,
            "grid_row": null,
            "grid_template_areas": null,
            "grid_template_columns": null,
            "grid_template_rows": null,
            "height": null,
            "justify_content": null,
            "justify_items": null,
            "left": null,
            "margin": null,
            "max_height": null,
            "max_width": null,
            "min_height": null,
            "min_width": null,
            "object_fit": null,
            "object_position": null,
            "order": null,
            "overflow": null,
            "overflow_x": null,
            "overflow_y": null,
            "padding": null,
            "right": null,
            "top": null,
            "visibility": null,
            "width": null
          }
        },
        "f8961c9ff1e3470b90faaa5679c37c18": {
          "model_module": "@jupyter-widgets/controls",
          "model_name": "DescriptionStyleModel",
          "model_module_version": "1.5.0",
          "state": {
            "_model_module": "@jupyter-widgets/controls",
            "_model_module_version": "1.5.0",
            "_model_name": "DescriptionStyleModel",
            "_view_count": null,
            "_view_module": "@jupyter-widgets/base",
            "_view_module_version": "1.2.0",
            "_view_name": "StyleView",
            "description_width": ""
          }
        },
        "ad3c2ad7cc1c4b0694fe97b3a61c9b0f": {
          "model_module": "@jupyter-widgets/controls",
          "model_name": "HBoxModel",
          "model_module_version": "1.5.0",
          "state": {
            "_dom_classes": [],
            "_model_module": "@jupyter-widgets/controls",
            "_model_module_version": "1.5.0",
            "_model_name": "HBoxModel",
            "_view_count": null,
            "_view_module": "@jupyter-widgets/controls",
            "_view_module_version": "1.5.0",
            "_view_name": "HBoxView",
            "box_style": "",
            "children": [
              "IPY_MODEL_2ae8abce2bf3423cb8ac07ccd1b5ebc4",
              "IPY_MODEL_b417b8d1febd41ce93c623a8e597589b",
              "IPY_MODEL_50ecb0ae2195484ab27e184e572b7ea0"
            ],
            "layout": "IPY_MODEL_7f277132bac247b1bf1c9bde9dd088a2"
          }
        },
        "2ae8abce2bf3423cb8ac07ccd1b5ebc4": {
          "model_module": "@jupyter-widgets/controls",
          "model_name": "HTMLModel",
          "model_module_version": "1.5.0",
          "state": {
            "_dom_classes": [],
            "_model_module": "@jupyter-widgets/controls",
            "_model_module_version": "1.5.0",
            "_model_name": "HTMLModel",
            "_view_count": null,
            "_view_module": "@jupyter-widgets/controls",
            "_view_module_version": "1.5.0",
            "_view_name": "HTMLView",
            "description": "",
            "description_tooltip": null,
            "layout": "IPY_MODEL_7d214259733947b1a291150b9adfeff5",
            "placeholder": "​",
            "style": "IPY_MODEL_8c325075bbf54765a24b8351ba4c7ac6",
            "value": "special_tokens_map.json: 100%"
          }
        },
        "b417b8d1febd41ce93c623a8e597589b": {
          "model_module": "@jupyter-widgets/controls",
          "model_name": "FloatProgressModel",
          "model_module_version": "1.5.0",
          "state": {
            "_dom_classes": [],
            "_model_module": "@jupyter-widgets/controls",
            "_model_module_version": "1.5.0",
            "_model_name": "FloatProgressModel",
            "_view_count": null,
            "_view_module": "@jupyter-widgets/controls",
            "_view_module_version": "1.5.0",
            "_view_name": "ProgressView",
            "bar_style": "success",
            "description": "",
            "description_tooltip": null,
            "layout": "IPY_MODEL_99dfc721058b47888a7f605e1e8b129d",
            "max": 125,
            "min": 0,
            "orientation": "horizontal",
            "style": "IPY_MODEL_0143a9d5f36d4e23b0befe85ebbadb43",
            "value": 125
          }
        },
        "50ecb0ae2195484ab27e184e572b7ea0": {
          "model_module": "@jupyter-widgets/controls",
          "model_name": "HTMLModel",
          "model_module_version": "1.5.0",
          "state": {
            "_dom_classes": [],
            "_model_module": "@jupyter-widgets/controls",
            "_model_module_version": "1.5.0",
            "_model_name": "HTMLModel",
            "_view_count": null,
            "_view_module": "@jupyter-widgets/controls",
            "_view_module_version": "1.5.0",
            "_view_name": "HTMLView",
            "description": "",
            "description_tooltip": null,
            "layout": "IPY_MODEL_544502b3e08d41a385a6d528b3788421",
            "placeholder": "​",
            "style": "IPY_MODEL_626e46453a1844938a86c310dfd0c006",
            "value": " 125/125 [00:00&lt;00:00, 7.12kB/s]"
          }
        },
        "7f277132bac247b1bf1c9bde9dd088a2": {
          "model_module": "@jupyter-widgets/base",
          "model_name": "LayoutModel",
          "model_module_version": "1.2.0",
          "state": {
            "_model_module": "@jupyter-widgets/base",
            "_model_module_version": "1.2.0",
            "_model_name": "LayoutModel",
            "_view_count": null,
            "_view_module": "@jupyter-widgets/base",
            "_view_module_version": "1.2.0",
            "_view_name": "LayoutView",
            "align_content": null,
            "align_items": null,
            "align_self": null,
            "border": null,
            "bottom": null,
            "display": null,
            "flex": null,
            "flex_flow": null,
            "grid_area": null,
            "grid_auto_columns": null,
            "grid_auto_flow": null,
            "grid_auto_rows": null,
            "grid_column": null,
            "grid_gap": null,
            "grid_row": null,
            "grid_template_areas": null,
            "grid_template_columns": null,
            "grid_template_rows": null,
            "height": null,
            "justify_content": null,
            "justify_items": null,
            "left": null,
            "margin": null,
            "max_height": null,
            "max_width": null,
            "min_height": null,
            "min_width": null,
            "object_fit": null,
            "object_position": null,
            "order": null,
            "overflow": null,
            "overflow_x": null,
            "overflow_y": null,
            "padding": null,
            "right": null,
            "top": null,
            "visibility": null,
            "width": null
          }
        },
        "7d214259733947b1a291150b9adfeff5": {
          "model_module": "@jupyter-widgets/base",
          "model_name": "LayoutModel",
          "model_module_version": "1.2.0",
          "state": {
            "_model_module": "@jupyter-widgets/base",
            "_model_module_version": "1.2.0",
            "_model_name": "LayoutModel",
            "_view_count": null,
            "_view_module": "@jupyter-widgets/base",
            "_view_module_version": "1.2.0",
            "_view_name": "LayoutView",
            "align_content": null,
            "align_items": null,
            "align_self": null,
            "border": null,
            "bottom": null,
            "display": null,
            "flex": null,
            "flex_flow": null,
            "grid_area": null,
            "grid_auto_columns": null,
            "grid_auto_flow": null,
            "grid_auto_rows": null,
            "grid_column": null,
            "grid_gap": null,
            "grid_row": null,
            "grid_template_areas": null,
            "grid_template_columns": null,
            "grid_template_rows": null,
            "height": null,
            "justify_content": null,
            "justify_items": null,
            "left": null,
            "margin": null,
            "max_height": null,
            "max_width": null,
            "min_height": null,
            "min_width": null,
            "object_fit": null,
            "object_position": null,
            "order": null,
            "overflow": null,
            "overflow_x": null,
            "overflow_y": null,
            "padding": null,
            "right": null,
            "top": null,
            "visibility": null,
            "width": null
          }
        },
        "8c325075bbf54765a24b8351ba4c7ac6": {
          "model_module": "@jupyter-widgets/controls",
          "model_name": "DescriptionStyleModel",
          "model_module_version": "1.5.0",
          "state": {
            "_model_module": "@jupyter-widgets/controls",
            "_model_module_version": "1.5.0",
            "_model_name": "DescriptionStyleModel",
            "_view_count": null,
            "_view_module": "@jupyter-widgets/base",
            "_view_module_version": "1.2.0",
            "_view_name": "StyleView",
            "description_width": ""
          }
        },
        "99dfc721058b47888a7f605e1e8b129d": {
          "model_module": "@jupyter-widgets/base",
          "model_name": "LayoutModel",
          "model_module_version": "1.2.0",
          "state": {
            "_model_module": "@jupyter-widgets/base",
            "_model_module_version": "1.2.0",
            "_model_name": "LayoutModel",
            "_view_count": null,
            "_view_module": "@jupyter-widgets/base",
            "_view_module_version": "1.2.0",
            "_view_name": "LayoutView",
            "align_content": null,
            "align_items": null,
            "align_self": null,
            "border": null,
            "bottom": null,
            "display": null,
            "flex": null,
            "flex_flow": null,
            "grid_area": null,
            "grid_auto_columns": null,
            "grid_auto_flow": null,
            "grid_auto_rows": null,
            "grid_column": null,
            "grid_gap": null,
            "grid_row": null,
            "grid_template_areas": null,
            "grid_template_columns": null,
            "grid_template_rows": null,
            "height": null,
            "justify_content": null,
            "justify_items": null,
            "left": null,
            "margin": null,
            "max_height": null,
            "max_width": null,
            "min_height": null,
            "min_width": null,
            "object_fit": null,
            "object_position": null,
            "order": null,
            "overflow": null,
            "overflow_x": null,
            "overflow_y": null,
            "padding": null,
            "right": null,
            "top": null,
            "visibility": null,
            "width": null
          }
        },
        "0143a9d5f36d4e23b0befe85ebbadb43": {
          "model_module": "@jupyter-widgets/controls",
          "model_name": "ProgressStyleModel",
          "model_module_version": "1.5.0",
          "state": {
            "_model_module": "@jupyter-widgets/controls",
            "_model_module_version": "1.5.0",
            "_model_name": "ProgressStyleModel",
            "_view_count": null,
            "_view_module": "@jupyter-widgets/base",
            "_view_module_version": "1.2.0",
            "_view_name": "StyleView",
            "bar_color": null,
            "description_width": ""
          }
        },
        "544502b3e08d41a385a6d528b3788421": {
          "model_module": "@jupyter-widgets/base",
          "model_name": "LayoutModel",
          "model_module_version": "1.2.0",
          "state": {
            "_model_module": "@jupyter-widgets/base",
            "_model_module_version": "1.2.0",
            "_model_name": "LayoutModel",
            "_view_count": null,
            "_view_module": "@jupyter-widgets/base",
            "_view_module_version": "1.2.0",
            "_view_name": "LayoutView",
            "align_content": null,
            "align_items": null,
            "align_self": null,
            "border": null,
            "bottom": null,
            "display": null,
            "flex": null,
            "flex_flow": null,
            "grid_area": null,
            "grid_auto_columns": null,
            "grid_auto_flow": null,
            "grid_auto_rows": null,
            "grid_column": null,
            "grid_gap": null,
            "grid_row": null,
            "grid_template_areas": null,
            "grid_template_columns": null,
            "grid_template_rows": null,
            "height": null,
            "justify_content": null,
            "justify_items": null,
            "left": null,
            "margin": null,
            "max_height": null,
            "max_width": null,
            "min_height": null,
            "min_width": null,
            "object_fit": null,
            "object_position": null,
            "order": null,
            "overflow": null,
            "overflow_x": null,
            "overflow_y": null,
            "padding": null,
            "right": null,
            "top": null,
            "visibility": null,
            "width": null
          }
        },
        "626e46453a1844938a86c310dfd0c006": {
          "model_module": "@jupyter-widgets/controls",
          "model_name": "DescriptionStyleModel",
          "model_module_version": "1.5.0",
          "state": {
            "_model_module": "@jupyter-widgets/controls",
            "_model_module_version": "1.5.0",
            "_model_name": "DescriptionStyleModel",
            "_view_count": null,
            "_view_module": "@jupyter-widgets/base",
            "_view_module_version": "1.2.0",
            "_view_name": "StyleView",
            "description_width": ""
          }
        },
        "8e88f02f624646d6a3f147e1c6010f0f": {
          "model_module": "@jupyter-widgets/controls",
          "model_name": "HBoxModel",
          "model_module_version": "1.5.0",
          "state": {
            "_dom_classes": [],
            "_model_module": "@jupyter-widgets/controls",
            "_model_module_version": "1.5.0",
            "_model_name": "HBoxModel",
            "_view_count": null,
            "_view_module": "@jupyter-widgets/controls",
            "_view_module_version": "1.5.0",
            "_view_name": "HBoxView",
            "box_style": "",
            "children": [
              "IPY_MODEL_098c21fdc9f040ac9c868eadf6d73f0e",
              "IPY_MODEL_fae6284cb9b14e6f80ce75f5c7a8dfbc",
              "IPY_MODEL_5aaf0ad07aa844b5836908c9b3915e83"
            ],
            "layout": "IPY_MODEL_08783368fd194960a739d75053b6e2ab"
          }
        },
        "098c21fdc9f040ac9c868eadf6d73f0e": {
          "model_module": "@jupyter-widgets/controls",
          "model_name": "HTMLModel",
          "model_module_version": "1.5.0",
          "state": {
            "_dom_classes": [],
            "_model_module": "@jupyter-widgets/controls",
            "_model_module_version": "1.5.0",
            "_model_name": "HTMLModel",
            "_view_count": null,
            "_view_module": "@jupyter-widgets/controls",
            "_view_module_version": "1.5.0",
            "_view_name": "HTMLView",
            "description": "",
            "description_tooltip": null,
            "layout": "IPY_MODEL_d4eb4396f2f6416d8c1cc843c3096a49",
            "placeholder": "​",
            "style": "IPY_MODEL_57b09fea3e324ccca7684afb171839f1",
            "value": "1_Pooling/config.json: 100%"
          }
        },
        "fae6284cb9b14e6f80ce75f5c7a8dfbc": {
          "model_module": "@jupyter-widgets/controls",
          "model_name": "FloatProgressModel",
          "model_module_version": "1.5.0",
          "state": {
            "_dom_classes": [],
            "_model_module": "@jupyter-widgets/controls",
            "_model_module_version": "1.5.0",
            "_model_name": "FloatProgressModel",
            "_view_count": null,
            "_view_module": "@jupyter-widgets/controls",
            "_view_module_version": "1.5.0",
            "_view_name": "ProgressView",
            "bar_style": "success",
            "description": "",
            "description_tooltip": null,
            "layout": "IPY_MODEL_d467fbbdae3e4c17b507480424f7bb89",
            "max": 191,
            "min": 0,
            "orientation": "horizontal",
            "style": "IPY_MODEL_334be701e373401592c10f40b9b022da",
            "value": 191
          }
        },
        "5aaf0ad07aa844b5836908c9b3915e83": {
          "model_module": "@jupyter-widgets/controls",
          "model_name": "HTMLModel",
          "model_module_version": "1.5.0",
          "state": {
            "_dom_classes": [],
            "_model_module": "@jupyter-widgets/controls",
            "_model_module_version": "1.5.0",
            "_model_name": "HTMLModel",
            "_view_count": null,
            "_view_module": "@jupyter-widgets/controls",
            "_view_module_version": "1.5.0",
            "_view_name": "HTMLView",
            "description": "",
            "description_tooltip": null,
            "layout": "IPY_MODEL_4c828afd6f894b33bbcfd7b24d6a1922",
            "placeholder": "​",
            "style": "IPY_MODEL_8d0811e6243b4b208824a03a976cca7a",
            "value": " 191/191 [00:00&lt;00:00, 7.95kB/s]"
          }
        },
        "08783368fd194960a739d75053b6e2ab": {
          "model_module": "@jupyter-widgets/base",
          "model_name": "LayoutModel",
          "model_module_version": "1.2.0",
          "state": {
            "_model_module": "@jupyter-widgets/base",
            "_model_module_version": "1.2.0",
            "_model_name": "LayoutModel",
            "_view_count": null,
            "_view_module": "@jupyter-widgets/base",
            "_view_module_version": "1.2.0",
            "_view_name": "LayoutView",
            "align_content": null,
            "align_items": null,
            "align_self": null,
            "border": null,
            "bottom": null,
            "display": null,
            "flex": null,
            "flex_flow": null,
            "grid_area": null,
            "grid_auto_columns": null,
            "grid_auto_flow": null,
            "grid_auto_rows": null,
            "grid_column": null,
            "grid_gap": null,
            "grid_row": null,
            "grid_template_areas": null,
            "grid_template_columns": null,
            "grid_template_rows": null,
            "height": null,
            "justify_content": null,
            "justify_items": null,
            "left": null,
            "margin": null,
            "max_height": null,
            "max_width": null,
            "min_height": null,
            "min_width": null,
            "object_fit": null,
            "object_position": null,
            "order": null,
            "overflow": null,
            "overflow_x": null,
            "overflow_y": null,
            "padding": null,
            "right": null,
            "top": null,
            "visibility": null,
            "width": null
          }
        },
        "d4eb4396f2f6416d8c1cc843c3096a49": {
          "model_module": "@jupyter-widgets/base",
          "model_name": "LayoutModel",
          "model_module_version": "1.2.0",
          "state": {
            "_model_module": "@jupyter-widgets/base",
            "_model_module_version": "1.2.0",
            "_model_name": "LayoutModel",
            "_view_count": null,
            "_view_module": "@jupyter-widgets/base",
            "_view_module_version": "1.2.0",
            "_view_name": "LayoutView",
            "align_content": null,
            "align_items": null,
            "align_self": null,
            "border": null,
            "bottom": null,
            "display": null,
            "flex": null,
            "flex_flow": null,
            "grid_area": null,
            "grid_auto_columns": null,
            "grid_auto_flow": null,
            "grid_auto_rows": null,
            "grid_column": null,
            "grid_gap": null,
            "grid_row": null,
            "grid_template_areas": null,
            "grid_template_columns": null,
            "grid_template_rows": null,
            "height": null,
            "justify_content": null,
            "justify_items": null,
            "left": null,
            "margin": null,
            "max_height": null,
            "max_width": null,
            "min_height": null,
            "min_width": null,
            "object_fit": null,
            "object_position": null,
            "order": null,
            "overflow": null,
            "overflow_x": null,
            "overflow_y": null,
            "padding": null,
            "right": null,
            "top": null,
            "visibility": null,
            "width": null
          }
        },
        "57b09fea3e324ccca7684afb171839f1": {
          "model_module": "@jupyter-widgets/controls",
          "model_name": "DescriptionStyleModel",
          "model_module_version": "1.5.0",
          "state": {
            "_model_module": "@jupyter-widgets/controls",
            "_model_module_version": "1.5.0",
            "_model_name": "DescriptionStyleModel",
            "_view_count": null,
            "_view_module": "@jupyter-widgets/base",
            "_view_module_version": "1.2.0",
            "_view_name": "StyleView",
            "description_width": ""
          }
        },
        "d467fbbdae3e4c17b507480424f7bb89": {
          "model_module": "@jupyter-widgets/base",
          "model_name": "LayoutModel",
          "model_module_version": "1.2.0",
          "state": {
            "_model_module": "@jupyter-widgets/base",
            "_model_module_version": "1.2.0",
            "_model_name": "LayoutModel",
            "_view_count": null,
            "_view_module": "@jupyter-widgets/base",
            "_view_module_version": "1.2.0",
            "_view_name": "LayoutView",
            "align_content": null,
            "align_items": null,
            "align_self": null,
            "border": null,
            "bottom": null,
            "display": null,
            "flex": null,
            "flex_flow": null,
            "grid_area": null,
            "grid_auto_columns": null,
            "grid_auto_flow": null,
            "grid_auto_rows": null,
            "grid_column": null,
            "grid_gap": null,
            "grid_row": null,
            "grid_template_areas": null,
            "grid_template_columns": null,
            "grid_template_rows": null,
            "height": null,
            "justify_content": null,
            "justify_items": null,
            "left": null,
            "margin": null,
            "max_height": null,
            "max_width": null,
            "min_height": null,
            "min_width": null,
            "object_fit": null,
            "object_position": null,
            "order": null,
            "overflow": null,
            "overflow_x": null,
            "overflow_y": null,
            "padding": null,
            "right": null,
            "top": null,
            "visibility": null,
            "width": null
          }
        },
        "334be701e373401592c10f40b9b022da": {
          "model_module": "@jupyter-widgets/controls",
          "model_name": "ProgressStyleModel",
          "model_module_version": "1.5.0",
          "state": {
            "_model_module": "@jupyter-widgets/controls",
            "_model_module_version": "1.5.0",
            "_model_name": "ProgressStyleModel",
            "_view_count": null,
            "_view_module": "@jupyter-widgets/base",
            "_view_module_version": "1.2.0",
            "_view_name": "StyleView",
            "bar_color": null,
            "description_width": ""
          }
        },
        "4c828afd6f894b33bbcfd7b24d6a1922": {
          "model_module": "@jupyter-widgets/base",
          "model_name": "LayoutModel",
          "model_module_version": "1.2.0",
          "state": {
            "_model_module": "@jupyter-widgets/base",
            "_model_module_version": "1.2.0",
            "_model_name": "LayoutModel",
            "_view_count": null,
            "_view_module": "@jupyter-widgets/base",
            "_view_module_version": "1.2.0",
            "_view_name": "LayoutView",
            "align_content": null,
            "align_items": null,
            "align_self": null,
            "border": null,
            "bottom": null,
            "display": null,
            "flex": null,
            "flex_flow": null,
            "grid_area": null,
            "grid_auto_columns": null,
            "grid_auto_flow": null,
            "grid_auto_rows": null,
            "grid_column": null,
            "grid_gap": null,
            "grid_row": null,
            "grid_template_areas": null,
            "grid_template_columns": null,
            "grid_template_rows": null,
            "height": null,
            "justify_content": null,
            "justify_items": null,
            "left": null,
            "margin": null,
            "max_height": null,
            "max_width": null,
            "min_height": null,
            "min_width": null,
            "object_fit": null,
            "object_position": null,
            "order": null,
            "overflow": null,
            "overflow_x": null,
            "overflow_y": null,
            "padding": null,
            "right": null,
            "top": null,
            "visibility": null,
            "width": null
          }
        },
        "8d0811e6243b4b208824a03a976cca7a": {
          "model_module": "@jupyter-widgets/controls",
          "model_name": "DescriptionStyleModel",
          "model_module_version": "1.5.0",
          "state": {
            "_model_module": "@jupyter-widgets/controls",
            "_model_module_version": "1.5.0",
            "_model_name": "DescriptionStyleModel",
            "_view_count": null,
            "_view_module": "@jupyter-widgets/base",
            "_view_module_version": "1.2.0",
            "_view_name": "StyleView",
            "description_width": ""
          }
        }
      }
    }
  },
  "cells": [
    {
      "cell_type": "markdown",
      "metadata": {
        "id": "view-in-github",
        "colab_type": "text"
      },
      "source": [
        "<a href=\"https://colab.research.google.com/github/alouwyck/maxsypy/blob/main/seminaries/UM6P_jan_2025/Day2/Part_5_Introduction_to_GenAI_with_LangChain.ipynb\" target=\"_parent\"><img src=\"https://colab.research.google.com/assets/colab-badge.svg\" alt=\"Open In Colab\"/></a>"
      ]
    },
    {
      "cell_type": "markdown",
      "metadata": {
        "id": "13-Kefir-qm4"
      },
      "source": [
        "<img src=\"data:image/png;base64,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\" align=\"right\" /><br>\n",
        "\n",
        "\n",
        "**Mathematical Models and Artificial Intelligence**<br>\n",
        "**for Solving Groundwater Flow Problems**<br>\n",
        "Workshop organized by the<br>\n",
        "International Water Research Institute (IWRI)<br>\n",
        "University Mohammed VI Polytechnic<br>\n",
        "January 6-7, 2025<br>\n",
        "Dr. Andy Louwyck\n",
        "\n",
        "---\n",
        "\n"
      ]
    },
    {
      "cell_type": "markdown",
      "source": [
        "<font size=\"6\"><strong>DAY 2 - Artificial Intelligence</strong></font>\n",
        "\n",
        "---\n",
        "---"
      ],
      "metadata": {
        "id": "m6g13Ggr3Dd1"
      }
    },
    {
      "cell_type": "markdown",
      "source": [
        "# **Part 5 - Introduction to GenAI with LangChain**"
      ],
      "metadata": {
        "id": "6Pmlym42oDcT"
      }
    },
    {
      "cell_type": "markdown",
      "source": [
        "In recent years, the field of artificial intelligence has seen remarkable advancements, particularly in the development of **Generative AI** (GenAI). GenAI refers to AI systems capable of generating human-like text, images, videos, speech and other content based on the data they have been trained on. These models can perform a wide range of tasks, from writing essays and creating art to answering complex questions and generating code.\n",
        "\n",
        " **Large Language Models** (LLMs), such as OpenAI's GPT-4, are a subset of GenAI that focus specifically on understanding and generating text. These models are trained on vast amounts of text data, enabling them to understand context, generate coherent responses, and even exhibit creativity. The power of LLMs lies in their ability to process and generate natural language with a high degree of fluency and accuracy.\n",
        "\n",
        "In this notebook, we will explore the capabilities of GenAI and LLMs using LangChain."
      ],
      "metadata": {
        "id": "zWAx3Rr84oji"
      }
    },
    {
      "cell_type": "markdown",
      "source": [
        "## **1. What is LangChain?**"
      ],
      "metadata": {
        "id": "P3pzLevQ5bnY"
      }
    },
    {
      "cell_type": "markdown",
      "source": [
        "[LangChain](https://www.langchain.com/) is a framework designed to simplify the creation of applications using large language models (LLMs). As a language model integration framework, LangChain's use-cases largely overlap with those of language models in general, including document analysis and summarization, chatbots, and code analysis.\n",
        "\n",
        "One of the most powerful applications enabled by LLMs is sophisticated question-answering (Q&A) chatbots. These are applications that can answer questions about specific source information. These applications use a technique known as **Retrieval-Augmented Generation**, or RAG.\n",
        "\n",
        "Basically, RAG is a technique for augmenting LLM knowledge with additional data. This notebook introduces some key LangChain concepts relevant to RAG and demonstrates their application in building simple RAG applications. Before diving into the code, it is explained in more detail what RAG is.\n"
      ],
      "metadata": {
        "id": "r5sj8xjzEK7x"
      }
    },
    {
      "cell_type": "markdown",
      "source": [
        "## **2. What is RAG?**"
      ],
      "metadata": {
        "id": "3mGxHg97VL7a"
      }
    },
    {
      "cell_type": "markdown",
      "source": [
        "LLMs can reason about wide-ranging topics, but their knowledge is limited to the public data up to a specific point in time that they were trained on. If you want to build AI applications that can reason about private data or data introduced after a model's cutoff date, you need to augment the knowledge of the model with the specific information it needs. The process of bringing the appropriate information and inserting it into the model prompt is known as Retrieval-Augmented Generation, which is abbreviated as RAG.\n",
        "\n",
        "LangChain has a number of components designed to help build Q&A applications, and RAG applications more generally. In this notebook, we focus on Q&A for unstructured data, but RAG over structured data, such as SQL data, is also possible."
      ],
      "metadata": {
        "id": "9m0upe_tWeRt"
      }
    },
    {
      "cell_type": "markdown",
      "source": [
        "A typical RAG application has two main components:\n",
        "\n",
        "- *Indexing* : a pipeline for ingesting data from a source and indexing it. This usually happens offline.\n",
        "\n",
        "- *Retrieval* and *generation* : the actual RAG chain, which takes the user query at run time and retrieves the relevant data from the index, then passes that to the model."
      ],
      "metadata": {
        "id": "b0Lnn9sOXvfh"
      }
    },
    {
      "cell_type": "markdown",
      "source": [
        "The most common full sequence from raw data to answer looks like:"
      ],
      "metadata": {
        "id": "S8Ze6GeRYCGl"
      }
    },
    {
      "cell_type": "markdown",
      "source": [
        "**Indexing**\n",
        "\n",
        "1. *Load* : First we need to load our data. This is done with document loaders.\n",
        "2. *Split* : Text splitters break large documents into smaller chunks. This is useful both for indexing data and for passing it in to a model, since large chunks are harder to search over and won't fit in a model's finite context window.\n",
        "3. *Store* : We need somewhere to store and index our splits, so that they can later be searched over. This is often done using a vector store and an embeddings model."
      ],
      "metadata": {
        "id": "xnEQBiXPYEZA"
      }
    },
    {
      "cell_type": "markdown",
      "source": [
        "![image.png](data:image/png;base64,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)"
      ],
      "metadata": {
        "id": "3wT_442DYpq-"
      }
    },
    {
      "cell_type": "markdown",
      "source": [
        "**Retrieval and generation**\n",
        "\n",
        "4. *Retrieve* : Given a user input, relevant splits are retrieved from storage using a retriever.\n",
        "5. *Generate* : A chat model or LLM produces an answer using a prompt that includes the question and the retrieved data.\n"
      ],
      "metadata": {
        "id": "QgOH8zj-YRtI"
      }
    },
    {
      "cell_type": "markdown",
      "source": [
        "![image.png](data:image/png;base64,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)"
      ],
      "metadata": {
        "id": "WQ4png4bYvuM"
      }
    },
    {
      "cell_type": "markdown",
      "source": [
        "Step 3 applies an **Embedding model**, which creates a vector representation of a piece of text. You can think of a vector as an array of numbers that captures the semantic meaning of the text. By representing the text in this way, you can perform mathematical operations that allow you to do things like search for other pieces of text that are most similar in meaning. These natural language search capabilities underpin many types of context retrieval, where we provide an LLM with the relevant data it needs to effectively respond to a query."
      ],
      "metadata": {
        "id": "tAH8AtNpflN5"
      }
    },
    {
      "cell_type": "markdown",
      "source": [
        "![image.png](data:image/png;base64,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)"
      ],
      "metadata": {
        "id": "ez8axMNjg-qr"
      }
    },
    {
      "cell_type": "markdown",
      "source": [
        "The created vectors are stored in a **vector store** or vector database. One of the most common ways to store and search over unstructured data is actually to embed it and store the resulting embedding vectors, and then at query time to embed the unstructured query and retrieve the embedding vectors that are 'most similar' to the embedded query. A vector store takes care of storing embedded data and performing vector search for you. Most vector stores can also store metadata about embedded vectors and support filtering on that metadata before similarity search, allowing you more control over returned documents.\n",
        "\n",
        "LangChain includes a suite of integrations with different vector store technologies. Some vector stores are hosted by a provider (e.g., various cloud providers) and require specific credentials to use; some (such as Postgres) run in separate infrastructure that can be run locally or via a third-party; others can run in-memory for lightweight workloads. Here we will demonstrate usage of LangChain vector stores using `Chroma`, which includes an in-memory implementation."
      ],
      "metadata": {
        "id": "DAvmf45tgJZt"
      }
    },
    {
      "cell_type": "markdown",
      "source": [
        "## **3. Setup**"
      ],
      "metadata": {
        "id": "harbmJ6rpwm2"
      }
    },
    {
      "cell_type": "markdown",
      "source": [
        "In this notebook, we will show how to build a simple Q&A application over a text data source. Along the way we'll go over a typical Q&A architecture. The code example is adopted and modified from the following LangChain tutorial, which requires `langchain` and `langchain-chroma`: https://python.langchain.com/v0.2/docs/tutorials/rag/."
      ],
      "metadata": {
        "id": "q5SFu1apIJrL"
      }
    },
    {
      "cell_type": "markdown",
      "source": [
        "Instead of using an embedding model by OpenAI as suggested by the tutorial, we'll apply the BGE model from HuggingFace, which is currently one of the best open-source embedding models: https://python.langchain.com/v0.2/docs/integrations/text_embedding/bge_huggingface/. That is why we also import `langchain-community` and `sentence_transformers`. To be able to load PDF-files, we need [PyMuPDF](https://pymupdf.readthedocs.io/en/latest/)."
      ],
      "metadata": {
        "id": "u1nl4Kpsp2CJ"
      }
    },
    {
      "cell_type": "markdown",
      "source": [
        "Because we'll build very simple RAG applications using [Llama3](https://en.wikipedia.org/wiki/Llama_(language_model)) from Meta AI, we also need to import `langchain-groq`. Of course, it is possible to use another LLM, such as one of OpenAI's [GPT](https://en.wikipedia.org/wiki/Generative_pre-trained_transformer), Google's [Gemini](https://en.wikipedia.org/wiki/Gemini_(language_model)), Anthropic's [Claude](https://en.wikipedia.org/wiki/Claude_(language_model)), or the latest [mistral.ai](https://mistral.ai/) chat model. To see how you can setup another chat model, check https://python.langchain.com/v0.2/docs/tutorials/llm_chain/#setup. Note that [Groq](https://en.wikipedia.org/wiki/Groq) currently hosts a variety of open-source large language models running on its LPUs for public access. So if you opt for the Groq setup, you can use Llama at no cost."
      ],
      "metadata": {
        "id": "MA5TO817Iwk6"
      }
    },
    {
      "cell_type": "code",
      "source": [
        "!pip install -q langchain langchain-community langchain-chroma langchain-groq sentence_transformers pymupdf"
      ],
      "metadata": {
        "id": "RZhd_kdlDCmV",
        "colab": {
          "base_uri": "https://localhost:8080/"
        },
        "outputId": "932fb878-8042-457d-e458-eb7d1e0583c0"
      },
      "execution_count": 4,
      "outputs": [
        {
          "output_type": "stream",
          "name": "stdout",
          "text": [
            "\u001b[?25l     \u001b[90m━━━━━━━━━━━━━━━━━━━━━━━━━━━━━━━━━━━━━━━━\u001b[0m \u001b[32m0.0/67.3 kB\u001b[0m \u001b[31m?\u001b[0m eta \u001b[36m-:--:--\u001b[0m\r\u001b[2K     \u001b[90m━━━━━━━━━━━━━━━━━━━━━━━━━━━━━━━━━━━━━━━━\u001b[0m \u001b[32m67.3/67.3 kB\u001b[0m \u001b[31m6.6 MB/s\u001b[0m eta \u001b[36m0:00:00\u001b[0m\n",
            "\u001b[?25h  Installing build dependencies ... \u001b[?25l\u001b[?25hdone\n",
            "  Getting requirements to build wheel ... \u001b[?25l\u001b[?25hdone\n",
            "  Preparing metadata (pyproject.toml) ... \u001b[?25l\u001b[?25hdone\n",
            "\u001b[2K     \u001b[90m━━━━━━━━━━━━━━━━━━━━━━━━━━━━━━━━━━━━━━━━\u001b[0m \u001b[32m43.5/43.5 kB\u001b[0m \u001b[31m3.8 MB/s\u001b[0m eta \u001b[36m0:00:00\u001b[0m\n",
            "\u001b[2K     \u001b[90m━━━━━━━━━━━━━━━━━━━━━━━━━━━━━━━━━━━━━━━━\u001b[0m \u001b[32m44.1/44.1 kB\u001b[0m \u001b[31m4.0 MB/s\u001b[0m eta \u001b[36m0:00:00\u001b[0m\n",
            "\u001b[2K   \u001b[90m━━━━━━━━━━━━━━━━━━━━━━━━━━━━━━━━━━━━━━━━\u001b[0m \u001b[32m2.5/2.5 MB\u001b[0m \u001b[31m53.5 MB/s\u001b[0m eta \u001b[36m0:00:00\u001b[0m\n",
            "\u001b[2K   \u001b[90m━━━━━━━━━━━━━━━━━━━━━━━━━━━━━━━━━━━━━━━━\u001b[0m \u001b[32m1.0/1.0 MB\u001b[0m \u001b[31m47.0 MB/s\u001b[0m eta \u001b[36m0:00:00\u001b[0m\n",
            "\u001b[2K   \u001b[90m━━━━━━━━━━━━━━━━━━━━━━━━━━━━━━━━━━━━━━━━\u001b[0m \u001b[32m20.0/20.0 MB\u001b[0m \u001b[31m85.6 MB/s\u001b[0m eta \u001b[36m0:00:00\u001b[0m\n",
            "\u001b[2K   \u001b[90m━━━━━━━━━━━━━━━━━━━━━━━━━━━━━━━━━━━━━━━━\u001b[0m \u001b[32m628.3/628.3 kB\u001b[0m \u001b[31m45.2 MB/s\u001b[0m eta \u001b[36m0:00:00\u001b[0m\n",
            "\u001b[2K   \u001b[90m━━━━━━━━━━━━━━━━━━━━━━━━━━━━━━━━━━━━━━━━\u001b[0m \u001b[32m2.4/2.4 MB\u001b[0m \u001b[31m86.7 MB/s\u001b[0m eta \u001b[36m0:00:00\u001b[0m\n",
            "\u001b[2K   \u001b[90m━━━━━━━━━━━━━━━━━━━━━━━━━━━━━━━━━━━━━━━━\u001b[0m \u001b[32m94.8/94.8 kB\u001b[0m \u001b[31m9.4 MB/s\u001b[0m eta \u001b[36m0:00:00\u001b[0m\n",
            "\u001b[2K   \u001b[90m━━━━━━━━━━━━━━━━━━━━━━━━━━━━━━━━━━━━━━━━\u001b[0m \u001b[32m109.1/109.1 kB\u001b[0m \u001b[31m9.0 MB/s\u001b[0m eta \u001b[36m0:00:00\u001b[0m\n",
            "\u001b[2K   \u001b[90m━━━━━━━━━━━━━━━━━━━━━━━━━━━━━━━━━━━━━━━━\u001b[0m \u001b[32m411.6/411.6 kB\u001b[0m \u001b[31m32.7 MB/s\u001b[0m eta \u001b[36m0:00:00\u001b[0m\n",
            "\u001b[2K   \u001b[90m━━━━━━━━━━━━━━━━━━━━━━━━━━━━━━━━━━━━━━━━\u001b[0m \u001b[32m10.0/10.0 MB\u001b[0m \u001b[31m90.4 MB/s\u001b[0m eta \u001b[36m0:00:00\u001b[0m\n",
            "\u001b[2K   \u001b[90m━━━━━━━━━━━━━━━━━━━━━━━━━━━━━━━━━━━━━━━━\u001b[0m \u001b[32m278.6/278.6 kB\u001b[0m \u001b[31m24.5 MB/s\u001b[0m eta \u001b[36m0:00:00\u001b[0m\n",
            "\u001b[2K   \u001b[90m━━━━━━━━━━━━━━━━━━━━━━━━━━━━━━━━━━━━━━━━\u001b[0m \u001b[32m1.9/1.9 MB\u001b[0m \u001b[31m78.7 MB/s\u001b[0m eta \u001b[36m0:00:00\u001b[0m\n",
            "\u001b[2K   \u001b[90m━━━━━━━━━━━━━━━━━━━━━━━━━━━━━━━━━━━━━━━━\u001b[0m \u001b[32m49.3/49.3 kB\u001b[0m \u001b[31m4.5 MB/s\u001b[0m eta \u001b[36m0:00:00\u001b[0m\n",
            "\u001b[2K   \u001b[90m━━━━━━━━━━━━━━━━━━━━━━━━━━━━━━━━━━━━━━━━\u001b[0m \u001b[32m93.2/93.2 kB\u001b[0m \u001b[31m9.2 MB/s\u001b[0m eta \u001b[36m0:00:00\u001b[0m\n",
            "\u001b[2K   \u001b[90m━━━━━━━━━━━━━━━━━━━━━━━━━━━━━━━━━━━━━━━━\u001b[0m \u001b[32m13.3/13.3 MB\u001b[0m \u001b[31m89.7 MB/s\u001b[0m eta \u001b[36m0:00:00\u001b[0m\n",
            "\u001b[2K   \u001b[90m━━━━━━━━━━━━━━━━━━━━━━━━━━━━━━━━━━━━━━━━\u001b[0m \u001b[32m55.8/55.8 kB\u001b[0m \u001b[31m5.6 MB/s\u001b[0m eta \u001b[36m0:00:00\u001b[0m\n",
            "\u001b[2K   \u001b[90m━━━━━━━━━━━━━━━━━━━━━━━━━━━━━━━━━━━━━━━━\u001b[0m \u001b[32m54.8/54.8 kB\u001b[0m \u001b[31m5.2 MB/s\u001b[0m eta \u001b[36m0:00:00\u001b[0m\n",
            "\u001b[2K   \u001b[90m━━━━━━━━━━━━━━━━━━━━━━━━━━━━━━━━━━━━━━━━\u001b[0m \u001b[32m73.2/73.2 kB\u001b[0m \u001b[31m6.6 MB/s\u001b[0m eta \u001b[36m0:00:00\u001b[0m\n",
            "\u001b[2K   \u001b[90m━━━━━━━━━━━━━━━━━━━━━━━━━━━━━━━━━━━━━━━━\u001b[0m \u001b[32m3.0/3.0 MB\u001b[0m \u001b[31m84.5 MB/s\u001b[0m eta \u001b[36m0:00:00\u001b[0m\n",
            "\u001b[2K   \u001b[90m━━━━━━━━━━━━━━━━━━━━━━━━━━━━━━━━━━━━━━━━\u001b[0m \u001b[32m62.3/62.3 kB\u001b[0m \u001b[31m6.1 MB/s\u001b[0m eta \u001b[36m0:00:00\u001b[0m\n",
            "\u001b[2K   \u001b[90m━━━━━━━━━━━━━━━━━━━━━━━━━━━━━━━━━━━━━━━━\u001b[0m \u001b[32m442.1/442.1 kB\u001b[0m \u001b[31m34.8 MB/s\u001b[0m eta \u001b[36m0:00:00\u001b[0m\n",
            "\u001b[2K   \u001b[90m━━━━━━━━━━━━━━━━━━━━━━━━━━━━━━━━━━━━━━━━\u001b[0m \u001b[32m319.7/319.7 kB\u001b[0m \u001b[31m26.4 MB/s\u001b[0m eta \u001b[36m0:00:00\u001b[0m\n",
            "\u001b[2K   \u001b[90m━━━━━━━━━━━━━━━━━━━━━━━━━━━━━━━━━━━━━━━━\u001b[0m \u001b[32m3.8/3.8 MB\u001b[0m \u001b[31m90.3 MB/s\u001b[0m eta \u001b[36m0:00:00\u001b[0m\n",
            "\u001b[2K   \u001b[90m━━━━━━━━━━━━━━━━━━━━━━━━━━━━━━━━━━━━━━━━\u001b[0m \u001b[32m443.8/443.8 kB\u001b[0m \u001b[31m36.1 MB/s\u001b[0m eta \u001b[36m0:00:00\u001b[0m\n",
            "\u001b[2K   \u001b[90m━━━━━━━━━━━━━━━━━━━━━━━━━━━━━━━━━━━━━━━━\u001b[0m \u001b[32m46.0/46.0 kB\u001b[0m \u001b[31m4.3 MB/s\u001b[0m eta \u001b[36m0:00:00\u001b[0m\n",
            "\u001b[2K   \u001b[90m━━━━━━━━━━━━━━━━━━━━━━━━━━━━━━━━━━━━━━━━\u001b[0m \u001b[32m86.8/86.8 kB\u001b[0m \u001b[31m8.8 MB/s\u001b[0m eta \u001b[36m0:00:00\u001b[0m\n",
            "\u001b[?25h  Building wheel for pypika (pyproject.toml) ... \u001b[?25l\u001b[?25hdone\n",
            "\u001b[31mERROR: pip's dependency resolver does not currently take into account all the packages that are installed. This behaviour is the source of the following dependency conflicts.\n",
            "tensorflow 2.17.1 requires protobuf!=4.21.0,!=4.21.1,!=4.21.2,!=4.21.3,!=4.21.4,!=4.21.5,<5.0.0dev,>=3.20.3, but you have protobuf 5.29.2 which is incompatible.\n",
            "tensorflow-metadata 1.13.1 requires protobuf<5,>=3.20.3, but you have protobuf 5.29.2 which is incompatible.\u001b[0m\u001b[31m\n",
            "\u001b[0m"
          ]
        }
      ]
    },
    {
      "cell_type": "markdown",
      "source": [
        "It is highly recommended to add your API tokens for LangChain and Groq to the Google Colab Secrets (left pain), and assign them to the following environment variables:"
      ],
      "metadata": {
        "id": "1IsewAxGN8WC"
      }
    },
    {
      "cell_type": "code",
      "source": [
        "import os\n",
        "from google.colab import userdata\n",
        "for key in ['LANGCHAIN_API_KEY', 'GROQ_API_KEY', \"HF_TOKEN\"]:\n",
        "    os.environ[key] = userdata.get(key)"
      ],
      "metadata": {
        "id": "V7x8EXl10ACu"
      },
      "execution_count": 5,
      "outputs": []
    },
    {
      "cell_type": "markdown",
      "source": [
        "Note that you also need a HuggingFace token in order to apply the BGE model. The PDF-files that we will be loaded are stored in the [MAxSyPy](https://github.com/alouwyck/maxsypy) GitHub repository:"
      ],
      "metadata": {
        "id": "Q0i3UQ-kNk_s"
      }
    },
    {
      "cell_type": "code",
      "source": [
        "import shutil\n",
        "\n",
        "# remove directory 'maxsypy' first if it already exists\n",
        "path = \"maxsypy\"\n",
        "if os.path.exists(path):\n",
        "    shutil.rmtree(path)\n",
        "\n",
        "# clone maxsypy repository from Github\n",
        "!git clone https://github.com/alouwyck/maxsypy\n",
        "\n",
        "# copy data files to current working directory\n",
        "data_folder = './data'\n",
        "if os.path.exists(data_folder):\n",
        "    shutil.rmtree(data_folder)\n",
        "shutil.copytree(\"./maxsypy/seminaries/UM6P_jan_2025/data\", data_folder)\n",
        "\n",
        "# put maxsypy package directory in the current working directory\n",
        "shutil.rmtree(path)"
      ],
      "metadata": {
        "colab": {
          "base_uri": "https://localhost:8080/"
        },
        "id": "MTEm_8160i20",
        "outputId": "f3f35839-e65c-4fb5-a34b-0761d47a6bb7"
      },
      "execution_count": 6,
      "outputs": [
        {
          "output_type": "stream",
          "name": "stdout",
          "text": [
            "Cloning into 'maxsypy'...\n",
            "remote: Enumerating objects: 404, done.\u001b[K\n",
            "remote: Counting objects: 100% (171/171), done.\u001b[K\n",
            "remote: Compressing objects: 100% (165/165), done.\u001b[K\n",
            "remote: Total 404 (delta 68), reused 5 (delta 5), pack-reused 233 (from 2)\u001b[K\n",
            "Receiving objects: 100% (404/404), 33.04 MiB | 20.32 MiB/s, done.\n",
            "Resolving deltas: 100% (175/175), done.\n"
          ]
        }
      ]
    },
    {
      "cell_type": "markdown",
      "source": [
        "Llama3 is instantiated as follows:"
      ],
      "metadata": {
        "id": "hVs0M7C50n4m"
      }
    },
    {
      "cell_type": "code",
      "source": [
        "from langchain_groq import ChatGroq\n",
        "\n",
        "llm = ChatGroq(model=\"llama3-8b-8192\")"
      ],
      "metadata": {
        "id": "xrhlRWbdOvgY"
      },
      "execution_count": 7,
      "outputs": []
    },
    {
      "cell_type": "markdown",
      "source": [
        "Now you can start chatting with the LLM by calling method `invoke`:"
      ],
      "metadata": {
        "id": "Umx4SySEOx-j"
      }
    },
    {
      "cell_type": "code",
      "source": [
        "print(llm.invoke('How are you?').content)"
      ],
      "metadata": {
        "colab": {
          "base_uri": "https://localhost:8080/"
        },
        "id": "CLC49tEQ08TA",
        "outputId": "d6ee82e0-ade1-431d-edb1-e24582895992"
      },
      "execution_count": 9,
      "outputs": [
        {
          "output_type": "stream",
          "name": "stdout",
          "text": [
            "I'm just a language model, I don't have feelings or emotions like humans do. However, I'm functioning properly and ready to assist you with any questions or tasks you may have!\n"
          ]
        }
      ]
    },
    {
      "cell_type": "markdown",
      "source": [
        "## **4. Building a RAG App**"
      ],
      "metadata": {
        "id": "HLXXVAQ6VlcN"
      }
    },
    {
      "cell_type": "markdown",
      "source": [
        "We are now ready to build a simple RAG application using the Llama3 LLM to generate answers to questions about two scientific papers:\n",
        "\n",
        "- [The Radius of Influence Myth](https://www.mdpi.com/2073-4441/14/2/149) (Louwyck et al., 2022)\n",
        "- [The Water Budget Myth and Its Recharge Controversy: Linear vs. Nonlinear Models](https://ngwa.onlinelibrary.wiley.com/doi/abs/10.1111/gwat.13245) (Louwyck et al., 2022)\n",
        "\n",
        "We will store these files in a Chroma vector store, which we will use as a retriever to provide specific content about the papers to the LLM. We expect the LLM to answer questions in English about the papers in French."
      ],
      "metadata": {
        "id": "vEVB--AzUIa1"
      }
    },
    {
      "cell_type": "markdown",
      "source": [
        "### Step 1: Indexing - Load"
      ],
      "metadata": {
        "id": "vyi7H95UixWs"
      }
    },
    {
      "cell_type": "markdown",
      "source": [
        "We load the PDF-files using LangChain's `PyMuPDFLoader`:"
      ],
      "metadata": {
        "id": "PNABBRb6VJ3h"
      }
    },
    {
      "cell_type": "code",
      "source": [
        "from langchain_community.document_loaders import PyMuPDFLoader\n",
        "\n",
        "path = './data'\n",
        "files = ['Groundwater - 2022 - Louwyck et al - The Water Budget Myth.pdf',\n",
        "         'Water - 2022 - Louwyck et al - The Radius of Influence Myth.pdf']\n",
        "\n",
        "all_docs = []\n",
        "for file in files:\n",
        "    loader = PyMuPDFLoader(os.path.join(path, file))\n",
        "    docs = loader.load()\n",
        "    print(len(docs))\n",
        "    all_docs.extend(docs)\n",
        "print(len(all_docs))"
      ],
      "metadata": {
        "id": "s_voMjun5U33",
        "colab": {
          "base_uri": "https://localhost:8080/"
        },
        "outputId": "a3ec5b57-9fea-43f7-854c-7cf316dd2036"
      },
      "execution_count": 10,
      "outputs": [
        {
          "output_type": "stream",
          "name": "stdout",
          "text": [
            "11\n",
            "28\n",
            "39\n"
          ]
        }
      ]
    },
    {
      "cell_type": "markdown",
      "source": [
        "The first paper contains 11 pages, the second 28. In total, there are 39 pages, which are called documents."
      ],
      "metadata": {
        "id": "iutbgM_n2NmE"
      }
    },
    {
      "cell_type": "markdown",
      "source": [
        "### Step 2: Indexing - Split"
      ],
      "metadata": {
        "id": "Qm4eX27T4RAy"
      }
    },
    {
      "cell_type": "markdown",
      "source": [
        "Because our loaded documents are too long to fit in the context window of many models, we split them using the `RecursiveCharacterTextSplitter` in chunks of maximum 1000 characters with 200 characters of overlap between the chunks. The overlap helps mitigate the possibility of separating a statement from important context related to it.\n",
        "\n",
        "Even for those models that could fit the full post in their context window, models can struggle to find information in very long inputs. This should help us retrieve only the most relevant bits of the documents."
      ],
      "metadata": {
        "id": "mft9wEboVUma"
      }
    },
    {
      "cell_type": "code",
      "source": [
        "from langchain_text_splitters import RecursiveCharacterTextSplitter\n",
        "\n",
        "text_splitter = RecursiveCharacterTextSplitter(\n",
        "    chunk_size=1000, chunk_overlap=200, add_start_index=True\n",
        ")\n",
        "all_splits = text_splitter.split_documents(all_docs)\n",
        "\n",
        "len(all_splits)"
      ],
      "metadata": {
        "colab": {
          "base_uri": "https://localhost:8080/"
        },
        "id": "urhHWxMF5C2K",
        "outputId": "a0c74dfb-d005-4183-8956-23e853e7b4e9"
      },
      "execution_count": 11,
      "outputs": [
        {
          "output_type": "execute_result",
          "data": {
            "text/plain": [
              "197"
            ]
          },
          "metadata": {},
          "execution_count": 11
        }
      ]
    },
    {
      "cell_type": "markdown",
      "source": [
        "So, we obtain 197 chunks. Let's check the minimum and maximum number of characters in these chunks:"
      ],
      "metadata": {
        "id": "YLPeJ0d2WruA"
      }
    },
    {
      "cell_type": "code",
      "source": [
        "print('min number of characters:', min(len(split.page_content) for split in all_splits))\n",
        "print('max number of characters:', max(len(split.page_content) for split in all_splits))"
      ],
      "metadata": {
        "colab": {
          "base_uri": "https://localhost:8080/"
        },
        "id": "n96z98Rf5M2U",
        "outputId": "0a99f5e0-9eaf-465c-f1bc-86f3adca51cc"
      },
      "execution_count": 12,
      "outputs": [
        {
          "output_type": "stream",
          "name": "stdout",
          "text": [
            "min number of characters: 207\n",
            "max number of characters: 1000\n"
          ]
        }
      ]
    },
    {
      "cell_type": "markdown",
      "source": [
        "As an example, we get the metadata from the last chunk:"
      ],
      "metadata": {
        "id": "xnv-2ss558ql"
      }
    },
    {
      "cell_type": "code",
      "source": [
        "all_splits[-1].metadata"
      ],
      "metadata": {
        "colab": {
          "base_uri": "https://localhost:8080/"
        },
        "id": "k4oB9nsA5PqT",
        "outputId": "3a0a766e-347f-478e-824d-f9977b6e0425"
      },
      "execution_count": 13,
      "outputs": [
        {
          "output_type": "execute_result",
          "data": {
            "text/plain": [
              "{'source': './data/Water - 2022 - Louwyck et al - The Radius of Influence Myth.pdf',\n",
              " 'file_path': './data/Water - 2022 - Louwyck et al - The Radius of Influence Myth.pdf',\n",
              " 'page': 27,\n",
              " 'total_pages': 28,\n",
              " 'format': 'PDF 1.7',\n",
              " 'title': 'Microsoft Word - water-1482837.docx',\n",
              " 'author': 'MDPI',\n",
              " 'subject': '',\n",
              " 'keywords': '',\n",
              " 'creator': 'PScript5.dll Version 5.2.2',\n",
              " 'producer': 'Acrobat Distiller 17.0 (Windows)',\n",
              " 'creationDate': \"D:20220107175458+08'00'\",\n",
              " 'modDate': \"D:20220107110211+01'00'\",\n",
              " 'trapped': '',\n",
              " 'start_index': 0}"
            ]
          },
          "metadata": {},
          "execution_count": 13
        }
      ]
    },
    {
      "cell_type": "markdown",
      "source": [
        "### Step 3: Indexing - Store"
      ],
      "metadata": {
        "id": "h1KqzFwI6ThF"
      }
    },
    {
      "cell_type": "markdown",
      "source": [
        "Now we need to index our 197 text chunks so that we can search over them at runtime. The most common way to do this is to embed the contents of each document split and insert these embeddings into a vector database (or vector store). When we want to search over our splits, we take a text search query, embed it, and perform some sort of “similarity” search to identify the stored splits with the most similar embeddings to our query embedding. The simplest similarity measure is cosine similarity — we measure the cosine of the angle between each pair of embeddings (which are high dimensional vectors)."
      ],
      "metadata": {
        "id": "offwHMQB6Ouq"
      }
    },
    {
      "cell_type": "markdown",
      "source": [
        "As already explained, we use the BGE model from HugginFace, which is free to use:"
      ],
      "metadata": {
        "id": "9IdsrKzfXHOB"
      }
    },
    {
      "cell_type": "code",
      "source": [
        "from langchain_community.embeddings import HuggingFaceBgeEmbeddings\n",
        "\n",
        "model_name = \"BAAI/bge-large-en\"\n",
        "model_kwargs = {'device': 'cuda'}\n",
        "encode_kwargs = {'normalize_embeddings': True}\n",
        "hf_bge = HuggingFaceBgeEmbeddings(\n",
        "    model_name=model_name,\n",
        "    model_kwargs=model_kwargs,\n",
        "    encode_kwargs=encode_kwargs\n",
        ")"
      ],
      "metadata": {
        "id": "6h1PlRMb6tik",
        "colab": {
          "base_uri": "https://localhost:8080/",
          "height": 425,
          "referenced_widgets": [
            "4c046edc89da46bdaa88861a277445fe",
            "9d17d84f518f47bf9a96ae9fd4264f83",
            "b401517bcda94097866c60633e3b77b3",
            "0d20d8c996a842559b408c7eda93b626",
            "8a735ad9516942448972c9b3eb084b07",
            "8d3cb42d97004886939e9fc9da7e9a69",
            "7cbc00026c8945278b68d89f091d8e53",
            "c3574158106c476ba6419b405fe22a5f",
            "23cd1895495243ab891bb6bbb716fa15",
            "a9d3b360b41c48178deb207b59975e1d",
            "c4282b56d20949b4a6ea4192d08a7a3c",
            "8ce807f96eb54ec08368930600d8f2f3",
            "5381ba3efc9f4da88967a6076a7b80bc",
            "7bd79ace818f426e96b32c9428253a85",
            "b331211d981c45c392afc27eb1755af7",
            "b750b44b1b9a469d846f35208c07675a",
            "5a13d2c36e98434faf63455ee416f5a0",
            "18fc8347a8444cb2888e226351d8004a",
            "e7a6d5863c6b4914adb2b5438f99e91e",
            "bad42e26e7434482b1879f79a7b0e238",
            "f595e42612fd444db1c017c31462ec36",
            "686420f015634eb9998a13a0782952b3",
            "7d5c29e185204bf9ba88d46dcbb4179f",
            "ffb85ab763264599bee7dd96f668731b",
            "266ffe7b4d174b4d8da6fe9c3df8b543",
            "5feebe8b580f4001b6b65fd31a709b9e",
            "1aa2cad8caa04d56a71f2fa007b464ce",
            "fcef638f9f384b5599f6a75e6eeff150",
            "c50be45342b743659c0ca4365ba77169",
            "a774f020f64647e2959913e5baec59b1",
            "4cb794a827b8425b872037c57bc9d4d3",
            "a95514cfc81948cca30185a7394e31b5",
            "9865fe48f59b4b9e8dcd7eb6de62ebea",
            "d89485e307a644c9801a7ddbbbe422ef",
            "655dd2e501b64685a977e290e2f4c494",
            "90287a96a8c9482d96d86d41579f52f0",
            "627dbc1265344adb80db49ed4a41e401",
            "2caafe6179494a56adc0dd2cb71e2d93",
            "ec086f5e34e94ffb9ab0ad07f3f3a7b9",
            "9a3748022ccc410eae365cacd06fd348",
            "fa3b8a746d0f463493a981af2268bd58",
            "1a40e01240f34805a1081fac7f6d1f42",
            "10b46ce35b6b42809cd534229902a008",
            "eb7cfffda7cf4c47ada907a45a777bd1",
            "4b3b8c5b0d4d42be805486f5b777527c",
            "da8dc651c37240318043be7d7df8b895",
            "1e11992758c0420eb4598fdbb2009061",
            "f8e14525e0a248df8d43b22ee2c5a512",
            "8645a88d0fb84c5d87900aaeac80f3e4",
            "3757b72446e9471990af52dfb8c1d0c0",
            "12f510af041641469ffbe7c6fde3e4fc",
            "d4c701d954ca4e1595a384149860a1eb",
            "8ffb7c51dae14bdf9b0b46550187585c",
            "a563087992ca4871bacb84d0267cf7e3",
            "99fccd0b912c415bb8222057c96699e7",
            "5b632ce49b514194bf44a0bc7e22dda8",
            "02cf4d0df4954a53b4a671a19cfcf2d8",
            "38b0cd61fc674d5dac2df88e9a9a204d",
            "4155f38b10434da09e109f0f249a94bd",
            "dbf03c5d79974dc6aeca734935bb74a4",
            "c79b247b3542413285eefbd74cf96915",
            "1fc0a348da2d440dba3be189542522f0",
            "259c8e27db5c42ff9fbe34bd798ddccd",
            "4cbd95cb2d434feda5019364cd54375f",
            "d84eea892c7f41eb9a1ea51b88304043",
            "8d715d0ab56f4acf86db3e39bd145d62",
            "ebdf3f008ce24ab59e7a09932e8c735d",
            "d93b1573dbff4216b1d95f86b9332e38",
            "2876d5fff9a949bca90496c79bafeeab",
            "f067f595065f42b891cc3aa523e0c3fc",
            "55008535f5f04ad3a482bc04cc98e63c",
            "4fed8022c0e24b0ea48d73d6d3589183",
            "bc3dd5d2dd54454eb6ddb9438fda9d8f",
            "09dad874700d4b32b20915d64ab345a0",
            "b482dc9182cd49078cae86ffcaca7682",
            "d56154ffc3f34e0295195a3af3197e3b",
            "8bb8ef961850481fabc8be1b5b1f64e4",
            "491d054ca5bc4588940ead79294cee85",
            "889e70e7f4b04a39bc9ae05c462e5bbf",
            "9313af71e0f3407da0a9436a23ceb595",
            "0aff3b9da1474499a87af8c5753d2cd0",
            "b188c35aad654249a1b4d59cf5a0f7ee",
            "5b577be24f1e4297a1c6c15170983a3f",
            "4e20183f837947d4987014b41eea0f43",
            "78df45352d504fec81087b6c7b1a09f5",
            "193e8d5ec167442991301451e518ebef",
            "98a9b2ea1d3b4a448e1efdaeaacb4f0f",
            "3079c5708ada476892c541c25518b60a",
            "0061443d428744bab8ef4dc7ccb8f4f0",
            "6502053d3f984db49e88de87c2421c65",
            "57d4f88a7b2b411dbf5506a594cb70e7",
            "bab80cd38da04b898935609665cca132",
            "41728f7458024acca73753b25fef75f2",
            "79cc3d81660948bbb63e1d814c272884",
            "494590ebe37147ffb9a4ccc4ad0c423c",
            "0849b1d6ad9048cbbf49d22a6d54fddf",
            "b7101b962b7a40a199465d80c33f9648",
            "bec72e9cec454980adc1fdd68139cd4f",
            "f8961c9ff1e3470b90faaa5679c37c18",
            "ad3c2ad7cc1c4b0694fe97b3a61c9b0f",
            "2ae8abce2bf3423cb8ac07ccd1b5ebc4",
            "b417b8d1febd41ce93c623a8e597589b",
            "50ecb0ae2195484ab27e184e572b7ea0",
            "7f277132bac247b1bf1c9bde9dd088a2",
            "7d214259733947b1a291150b9adfeff5",
            "8c325075bbf54765a24b8351ba4c7ac6",
            "99dfc721058b47888a7f605e1e8b129d",
            "0143a9d5f36d4e23b0befe85ebbadb43",
            "544502b3e08d41a385a6d528b3788421",
            "626e46453a1844938a86c310dfd0c006",
            "8e88f02f624646d6a3f147e1c6010f0f",
            "098c21fdc9f040ac9c868eadf6d73f0e",
            "fae6284cb9b14e6f80ce75f5c7a8dfbc",
            "5aaf0ad07aa844b5836908c9b3915e83",
            "08783368fd194960a739d75053b6e2ab",
            "d4eb4396f2f6416d8c1cc843c3096a49",
            "57b09fea3e324ccca7684afb171839f1",
            "d467fbbdae3e4c17b507480424f7bb89",
            "334be701e373401592c10f40b9b022da",
            "4c828afd6f894b33bbcfd7b24d6a1922",
            "8d0811e6243b4b208824a03a976cca7a"
          ]
        },
        "outputId": "8566ae01-b670-48a3-b0eb-512a0c009b62"
      },
      "execution_count": 14,
      "outputs": [
        {
          "output_type": "stream",
          "name": "stderr",
          "text": [
            "<ipython-input-14-189dfc44917b>:6: LangChainDeprecationWarning: The class `HuggingFaceBgeEmbeddings` was deprecated in LangChain 0.2.2 and will be removed in 1.0. An updated version of the class exists in the :class:`~langchain-huggingface package and should be used instead. To use it run `pip install -U :class:`~langchain-huggingface` and import as `from :class:`~langchain_huggingface import HuggingFaceEmbeddings``.\n",
            "  hf_bge = HuggingFaceBgeEmbeddings(\n"
          ]
        },
        {
          "output_type": "display_data",
          "data": {
            "text/plain": [
              "modules.json:   0%|          | 0.00/349 [00:00<?, ?B/s]"
            ],
            "application/vnd.jupyter.widget-view+json": {
              "version_major": 2,
              "version_minor": 0,
              "model_id": "4c046edc89da46bdaa88861a277445fe"
            }
          },
          "metadata": {}
        },
        {
          "output_type": "display_data",
          "data": {
            "text/plain": [
              "config_sentence_transformers.json:   0%|          | 0.00/124 [00:00<?, ?B/s]"
            ],
            "application/vnd.jupyter.widget-view+json": {
              "version_major": 2,
              "version_minor": 0,
              "model_id": "8ce807f96eb54ec08368930600d8f2f3"
            }
          },
          "metadata": {}
        },
        {
          "output_type": "display_data",
          "data": {
            "text/plain": [
              "README.md:   0%|          | 0.00/90.3k [00:00<?, ?B/s]"
            ],
            "application/vnd.jupyter.widget-view+json": {
              "version_major": 2,
              "version_minor": 0,
              "model_id": "7d5c29e185204bf9ba88d46dcbb4179f"
            }
          },
          "metadata": {}
        },
        {
          "output_type": "display_data",
          "data": {
            "text/plain": [
              "sentence_bert_config.json:   0%|          | 0.00/52.0 [00:00<?, ?B/s]"
            ],
            "application/vnd.jupyter.widget-view+json": {
              "version_major": 2,
              "version_minor": 0,
              "model_id": "d89485e307a644c9801a7ddbbbe422ef"
            }
          },
          "metadata": {}
        },
        {
          "output_type": "display_data",
          "data": {
            "text/plain": [
              "config.json:   0%|          | 0.00/720 [00:00<?, ?B/s]"
            ],
            "application/vnd.jupyter.widget-view+json": {
              "version_major": 2,
              "version_minor": 0,
              "model_id": "4b3b8c5b0d4d42be805486f5b777527c"
            }
          },
          "metadata": {}
        },
        {
          "output_type": "display_data",
          "data": {
            "text/plain": [
              "model.safetensors:   0%|          | 0.00/1.34G [00:00<?, ?B/s]"
            ],
            "application/vnd.jupyter.widget-view+json": {
              "version_major": 2,
              "version_minor": 0,
              "model_id": "5b632ce49b514194bf44a0bc7e22dda8"
            }
          },
          "metadata": {}
        },
        {
          "output_type": "display_data",
          "data": {
            "text/plain": [
              "tokenizer_config.json:   0%|          | 0.00/366 [00:00<?, ?B/s]"
            ],
            "application/vnd.jupyter.widget-view+json": {
              "version_major": 2,
              "version_minor": 0,
              "model_id": "ebdf3f008ce24ab59e7a09932e8c735d"
            }
          },
          "metadata": {}
        },
        {
          "output_type": "display_data",
          "data": {
            "text/plain": [
              "vocab.txt:   0%|          | 0.00/232k [00:00<?, ?B/s]"
            ],
            "application/vnd.jupyter.widget-view+json": {
              "version_major": 2,
              "version_minor": 0,
              "model_id": "491d054ca5bc4588940ead79294cee85"
            }
          },
          "metadata": {}
        },
        {
          "output_type": "display_data",
          "data": {
            "text/plain": [
              "tokenizer.json:   0%|          | 0.00/711k [00:00<?, ?B/s]"
            ],
            "application/vnd.jupyter.widget-view+json": {
              "version_major": 2,
              "version_minor": 0,
              "model_id": "0061443d428744bab8ef4dc7ccb8f4f0"
            }
          },
          "metadata": {}
        },
        {
          "output_type": "display_data",
          "data": {
            "text/plain": [
              "special_tokens_map.json:   0%|          | 0.00/125 [00:00<?, ?B/s]"
            ],
            "application/vnd.jupyter.widget-view+json": {
              "version_major": 2,
              "version_minor": 0,
              "model_id": "ad3c2ad7cc1c4b0694fe97b3a61c9b0f"
            }
          },
          "metadata": {}
        },
        {
          "output_type": "display_data",
          "data": {
            "text/plain": [
              "1_Pooling/config.json:   0%|          | 0.00/191 [00:00<?, ?B/s]"
            ],
            "application/vnd.jupyter.widget-view+json": {
              "version_major": 2,
              "version_minor": 0,
              "model_id": "8e88f02f624646d6a3f147e1c6010f0f"
            }
          },
          "metadata": {}
        }
      ]
    },
    {
      "cell_type": "markdown",
      "source": [
        "Now, we can embed and store all of our document splits in a single command using the Chroma vector store and the BGE model. It is recommended to use GPU, especially when you have to embed a lot of text!"
      ],
      "metadata": {
        "id": "IKUoAlrc63uB"
      }
    },
    {
      "cell_type": "code",
      "source": [
        "from langchain_chroma import Chroma\n",
        "\n",
        "vectorstore = Chroma.from_documents(persist_directory='./chroma',\n",
        "                                    documents=all_splits, embedding=hf_bge)"
      ],
      "metadata": {
        "id": "1G73CXPI6kRx"
      },
      "execution_count": 15,
      "outputs": []
    },
    {
      "cell_type": "markdown",
      "source": [
        "Note that the `VectorStore` is stored locally by setting input parameter `persist_directory`:\n",
        "\n",
        "```python\n",
        "# save to disk\n",
        "db = Chroma.from_documents(docs, embedding_function, persist_directory=\"./chroma_db\")\n",
        "docs = db.similarity_search(query)\n",
        "\n",
        "# load from disk\n",
        "db = Chroma(persist_directory=\"./chroma_db\", embedding_function=embedding_function)\n",
        "docs = db.similarity_search(query)\n",
        "```\n",
        "\n",
        "The content of the `VectorStore` is saved to an SQLite database; hence, `persist_directory` contains a `sqlite3` file. This way, the embedding vectors do not always need to be recreated, but can simply be read from the stored database next time."
      ],
      "metadata": {
        "id": "pVSHf1r46eik"
      }
    },
    {
      "cell_type": "markdown",
      "source": [
        "### Step 4: Retrieval and Generation - Retrieve"
      ],
      "metadata": {
        "id": "vFQ6vXgV7vZ0"
      }
    },
    {
      "cell_type": "markdown",
      "source": [
        "Now let's write the actual application logic. We want to create a simple application that takes a user question, searches for documents relevant to that question, passes the retrieved documents and initial question to a model, and returns an answer.\n",
        "\n",
        "First we need to define our logic for searching over documents. LangChain defines a `Retriever` interface which wraps an index that can return relevant `Document` objects given a string query.\n",
        "\n",
        "The most common type of `Retriever` is the `VectorStoreRetriever`, which uses the similarity search capabilities of a vector store to facilitate retrieval. Any `VectorStore` can easily be turned into a `Retriever` with `VectorStore.as_retriever()`:"
      ],
      "metadata": {
        "id": "zZi-6mB779im"
      }
    },
    {
      "cell_type": "code",
      "source": [
        "retriever = vectorstore.as_retriever(search_type=\"similarity\", search_kwargs={\"k\": 6})\n",
        "retrieved_docs = retriever.invoke(\"What is the radius of influence?\")\n",
        "len(retrieved_docs)"
      ],
      "metadata": {
        "colab": {
          "base_uri": "https://localhost:8080/"
        },
        "id": "W2wVBaQP8kad",
        "outputId": "1be792f2-62bc-4aa6-b2af-7ff70e8517ab"
      },
      "execution_count": 16,
      "outputs": [
        {
          "output_type": "execute_result",
          "data": {
            "text/plain": [
              "6"
            ]
          },
          "metadata": {},
          "execution_count": 16
        }
      ]
    },
    {
      "cell_type": "markdown",
      "source": [
        "As expected, 6 documents are retrieved, because we've set `\"k\"` to 6, meaning we want the 6 most similar documents.\n",
        "\n",
        "Let's read the first retrieved document:"
      ],
      "metadata": {
        "id": "XyGJ3hwB8qna"
      }
    },
    {
      "cell_type": "code",
      "source": [
        "print(retrieved_docs[0].page_content)"
      ],
      "metadata": {
        "colab": {
          "base_uri": "https://localhost:8080/"
        },
        "id": "UAL4FXh_8rhf",
        "outputId": "16eafc9b-e194-45bf-be2c-43e957bedaec"
      },
      "execution_count": 17,
      "outputs": [
        {
          "output_type": "stream",
          "name": "stdout",
          "text": [
            "Water 2022, 13, 149. https://doi.org/10.3390/w14020149 \n",
            "www.mdpi.com/journal/water \n",
            "Article \n",
            "The Radius of Influence Myth \n",
            "Andy Louwyck 1,*, Alexander Vandenbohede 2, Dirk Libbrecht 3, Marc Van Camp 1 and Kristine Walraevens 1 \n",
            "1  Laboratory for Applied Geology and Hydrogeology, Department of Geology, Ghent University,   \n",
            "Krijgslaan 281‐S8, 9000 Ghent, Belgium; Marc.VanCamp@UGent.be (M.V.C.);   \n",
            "Kristine.Walraevens@UGent.be (K.W.) \n",
            "2  De Watergroep, Water Resources and Environment, Vooruitgangstraat 189, 1030 Brussels, Belgium;   \n",
            "Alexander.Vandenbohede@dewatergroep.be \n",
            "3  Arcadis Belgium nv/sa, Gaston Crommenlaan 8, Bus 101, 9050 Ghent, Belgium; Dirk.Libbrecht@arcadis.com \n",
            "*  Correspondence: Andy.Louwyck@gmail.com \n",
            "Abstract: Empirical formulas to estimate the radius of influence, such as the Sichardt formula, oc‐\n",
            "casionally appear in studies assessing the environmental impact of groundwater extractions. As\n"
          ]
        }
      ]
    },
    {
      "cell_type": "markdown",
      "source": [
        "### Step 5: Retrieval and Generation - Generate"
      ],
      "metadata": {
        "id": "tUAi-5uS70I8"
      }
    },
    {
      "cell_type": "markdown",
      "source": [
        "Finally, we create the RAG chain. First, we have to write the system prompt with general instructions for the LLM. The system prompt always precedes the user prompt and contains the context retrieved from the vector store. We use LangChain's `ChatPromptTemplate`:"
      ],
      "metadata": {
        "id": "zTxWfKh1Y2xE"
      }
    },
    {
      "cell_type": "code",
      "source": [
        "from langchain_core.prompts import ChatPromptTemplate\n",
        "\n",
        "system_prompt = (\n",
        "    \"You are a scientific assistant for question-answering tasks. \"\n",
        "    \"Use the following pieces of retrieved context to answer \"\n",
        "    \"the question. If you don't know the answer, say that you \"\n",
        "    \"don't know. Use three sentences maximum and keep the \"\n",
        "    \"answer concise. Questions will be asked in English. \"\n",
        "    \"You have to answer in French.\"\n",
        "    \"\\n\\n\"\n",
        "    \"{context}\"\n",
        ")\n",
        "\n",
        "prompt = ChatPromptTemplate.from_messages(\n",
        "    [\n",
        "        (\"system\", system_prompt),\n",
        "        (\"human\", \"{input}\"),\n",
        "    ]\n",
        ")"
      ],
      "metadata": {
        "id": "5Tgc0ZIgY1jQ"
      },
      "execution_count": 18,
      "outputs": []
    },
    {
      "cell_type": "markdown",
      "source": [
        "LangChain includes convenience functions to implement the RAG chain. We compose two functions:\n",
        "\n",
        "- `create_stuff_documents_chain` specifies how retrieved context is fed into a prompt and LLM. In this case, we will \"stuff\" the contents into the prompt - i.e., we will include all retrieved context without any summarization or other processing.\n",
        "- `create_retrieval_chain` adds the retrieval step and propagates the retrieved context through the chain, providing it alongside the final answer. It has input key `input`, and includes `input`, `context`, and `answer` in its output."
      ],
      "metadata": {
        "id": "QGLCv9vnB7Ev"
      }
    },
    {
      "cell_type": "code",
      "source": [
        "from langchain.chains import create_retrieval_chain\n",
        "from langchain.chains.combine_documents import create_stuff_documents_chain\n",
        "\n",
        "question_answer_chain = create_stuff_documents_chain(llm, prompt)\n",
        "rag_chain = create_retrieval_chain(retriever, question_answer_chain)"
      ],
      "metadata": {
        "id": "Mec0OaBIZv0s"
      },
      "execution_count": 19,
      "outputs": []
    },
    {
      "cell_type": "markdown",
      "source": [
        "Ok, we're ready to ask questions now!"
      ],
      "metadata": {
        "id": "FO7VG6PqZ5GA"
      }
    },
    {
      "cell_type": "code",
      "source": [
        "response = rag_chain.invoke({\"input\": \"What is the radius of influence?\"})\n",
        "print(response[\"answer\"])"
      ],
      "metadata": {
        "colab": {
          "base_uri": "https://localhost:8080/"
        },
        "id": "dQoYliCRCtVr",
        "outputId": "7b9311da-10d7-48d2-fb53-dfe3c62eec8e"
      },
      "execution_count": 20,
      "outputs": [
        {
          "output_type": "stream",
          "name": "stdout",
          "text": [
            "Le rayon d'influence est un concept qui décrit l'aire à partir de laquelle l'extraction d'eau souterraine peut affecter l'environnement et la nappe phréatique. Il représente la distance à partir de laquelle les changements dans la pression et la hauteur de la nappe phréatique peuvent être notés.\n"
          ]
        }
      ]
    },
    {
      "cell_type": "markdown",
      "source": [
        "Let's find out which chunks of text it received from the vector store:"
      ],
      "metadata": {
        "id": "L8WYVTeXaBWQ"
      }
    },
    {
      "cell_type": "code",
      "source": [
        "for document in response[\"context\"]:\n",
        "    print(document)\n",
        "    print()"
      ],
      "metadata": {
        "colab": {
          "base_uri": "https://localhost:8080/"
        },
        "id": "LwwjVIBsC4g2",
        "outputId": "12395c11-abcd-42ff-89d4-cdc82a6d5751"
      },
      "execution_count": 21,
      "outputs": [
        {
          "output_type": "stream",
          "name": "stdout",
          "text": [
            "page_content='Water 2022, 13, 149. https://doi.org/10.3390/w14020149 \n",
            "www.mdpi.com/journal/water \n",
            "Article \n",
            "The Radius of Influence Myth \n",
            "Andy Louwyck 1,*, Alexander Vandenbohede 2, Dirk Libbrecht 3, Marc Van Camp 1 and Kristine Walraevens 1 \n",
            "1  Laboratory for Applied Geology and Hydrogeology, Department of Geology, Ghent University,   \n",
            "Krijgslaan 281‐S8, 9000 Ghent, Belgium; Marc.VanCamp@UGent.be (M.V.C.);   \n",
            "Kristine.Walraevens@UGent.be (K.W.) \n",
            "2  De Watergroep, Water Resources and Environment, Vooruitgangstraat 189, 1030 Brussels, Belgium;   \n",
            "Alexander.Vandenbohede@dewatergroep.be \n",
            "3  Arcadis Belgium nv/sa, Gaston Crommenlaan 8, Bus 101, 9050 Ghent, Belgium; Dirk.Libbrecht@arcadis.com \n",
            "*  Correspondence: Andy.Louwyck@gmail.com \n",
            "Abstract: Empirical formulas to estimate the radius of influence, such as the Sichardt formula, oc‐\n",
            "casionally appear in studies assessing the environmental impact of groundwater extractions. As' metadata={'author': 'MDPI', 'creationDate': \"D:20220107175458+08'00'\", 'creator': 'PScript5.dll Version 5.2.2', 'file_path': './data/Water - 2022 - Louwyck et al - The Radius of Influence Myth.pdf', 'format': 'PDF 1.7', 'keywords': '', 'modDate': \"D:20220107110211+01'00'\", 'page': 0, 'producer': 'Acrobat Distiller 17.0 (Windows)', 'source': './data/Water - 2022 - Louwyck et al - The Radius of Influence Myth.pdf', 'start_index': 8, 'subject': '', 'title': 'Microsoft Word - water-1482837.docx', 'total_pages': 28, 'trapped': ''}\n",
            "\n",
            "page_content='by these approximations is proportional to Q/(KD) [63]. \n",
            "This  maximum  allowable  drawdown  is  the  subject  of  many  discussions  between \n",
            "groundwater practitioners in Flanders, who range its optimal value from 1 mm to 10 cm. \n",
            "Although these discussions are necessary from an ecological point of view, they are point‐\n",
            "less if a radius of influence approach is used as a substitute for a sophisticated mathemat‐\n",
            "ical model. Hence, we believe it is more meaningful to discuss model assumptions and \n",
            "reliability of input data. The formulas presented in this paper may be helpful in these \n",
            "discussions, as they show which parameter combinations are relevant. Results calculated \n",
            "using these formulas, however, may never be interpreted as ground truth data. \n",
            "9. Conclusions \n",
            "The radius of influence myth refers to the use of empirical formulas to assess the \n",
            "environmental impact of groundwater extractions. As an example, the frequently used' metadata={'author': 'MDPI', 'creationDate': \"D:20220107175458+08'00'\", 'creator': 'PScript5.dll Version 5.2.2', 'file_path': './data/Water - 2022 - Louwyck et al - The Radius of Influence Myth.pdf', 'format': 'PDF 1.7', 'keywords': '', 'modDate': \"D:20220107110211+01'00'\", 'page': 16, 'producer': 'Acrobat Distiller 17.0 (Windows)', 'source': './data/Water - 2022 - Louwyck et al - The Radius of Influence Myth.pdf', 'start_index': 800, 'subject': '', 'title': 'Microsoft Word - water-1482837.docx', 'total_pages': 28, 'trapped': ''}\n",
            "\n",
            "page_content='Water 2022, 13, 149 \n",
            "24  of  28 \n",
            " \n",
            " \n",
            "In case of the de Glee equation [71,86] (6),  𝑠௠௔௫\n",
            "∗\n",
            "ൌ0.0766  and  𝑇௠௔௫\n",
            "∗\n",
            "ൌ0.4148. The \n",
            "maximum radius of influence Rmax given a maximum allowable drawdown smax is: \n",
            "𝑅௠௔௫ൌඨ0.0766 𝑄𝑐\n",
            "𝑠௠௔௫\n",
            " \n",
            "(A54)\n",
            "with c the hydraulic resistance [T]. The corresponding maximum transmissivity is: \n",
            "𝑇௠௔௫ൌ0.0318 𝑄\n",
            "𝑠௠௔௫\n",
            " \n",
            "(A55)\n",
            "In the case of the Theis equation [72] (9),  𝑠௠௔௫\n",
            "∗\n",
            "ൌ0.0896  and  𝑇௠௔௫\n",
            "∗\n",
            "ൌ2.2998. The \n",
            "maximum radius of influence Rmax given a maximum allowable drawdown smax at time t \n",
            "[L] is: \n",
            "𝑅௠௔௫ൌඨ0.0896 𝑄𝑡\n",
            "𝑠௠௔௫𝑆\n",
            " \n",
            "(A56)\n",
            "with S the storage coefficient [–]. The corresponding maximum transmissivity is: \n",
            "𝑇௠௔௫ൌ0.0515 𝑄\n",
            "𝑠௠௔௫\n",
            " \n",
            "(A57)\n",
            "References \n",
            "1. \n",
            "Zhai, Y.; Cao, X.; Jiang, Y.; Sun, K.; Hu, L.; Teng, Y.; Wang, J.; Li, J. Further Discussion on the Influence Radius of a Pumping \n",
            "Well:  A  Parameter  with  Little  Scientific  and  Practical  Significance  That  Can  Easily  Be  Misleading.  Water  2021,  13,  2050. \n",
            "https://doi.org/10.3390/w13152050. \n",
            "2.' metadata={'author': 'MDPI', 'creationDate': \"D:20220107175458+08'00'\", 'creator': 'PScript5.dll Version 5.2.2', 'file_path': './data/Water - 2022 - Louwyck et al - The Radius of Influence Myth.pdf', 'format': 'PDF 1.7', 'keywords': '', 'modDate': \"D:20220107110211+01'00'\", 'page': 23, 'producer': 'Acrobat Distiller 17.0 (Windows)', 'source': './data/Water - 2022 - Louwyck et al - The Radius of Influence Myth.pdf', 'start_index': 0, 'subject': '', 'title': 'Microsoft Word - water-1482837.docx', 'total_pages': 28, 'trapped': ''}\n",
            "\n",
            "page_content='1993, 31, 774–780. https://doi.org/10.1111/j.1745‐6584.1993.tb00850.x. \n",
            "58. \n",
            "Gefell, M.J.; Thomas, G.M.; Rossello, S.J. Maximum Water‐Table Drawdown at a Fully Penetrating Pumping Well. Ground Water \n",
            "1994, 32, 411–419. https://doi.org/10.1111/j.1745‐6584.1994.tb00658.x. \n",
            "59. \n",
            "Chu,  S.T.  Transient  Radius  of  Influence  Model.  J.  Irrig.  Drain.  Eng.  1994,  120,  964–969.  https://doi.org/10.1061/(ASCE)0733‐\n",
            "9437(1994)120:5(964). \n",
            "60. \n",
            "Soni, A.K.; Sahoo, L.K.; Ghosh, U.K.; Khond, M.V. Importance of Radius of Influence and Its Estimation in a Limestone Quarry. \n",
            "J. Inst. Eng. India Ser. D 2015, 96, 77–83. https://doi.org/10.1007/s40033‐014‐0059‐z. \n",
            "61. \n",
            "Castellazzi, P.; Martel, R.; Galloway, D.L.; Longuevergne, L.; Rivera, A. Assessing Groundwater Depletion and Dynamics Using \n",
            "GRACE and InSAR: Potential and Limitations. Groundwater 2016, 54, 768–780. https://doi.org/10.1111/gwat.12453. \n",
            "62.' metadata={'author': 'MDPI', 'creationDate': \"D:20220107175458+08'00'\", 'creator': 'PScript5.dll Version 5.2.2', 'file_path': './data/Water - 2022 - Louwyck et al - The Radius of Influence Myth.pdf', 'format': 'PDF 1.7', 'keywords': '', 'modDate': \"D:20220107110211+01'00'\", 'page': 25, 'producer': 'Acrobat Distiller 17.0 (Windows)', 'source': './data/Water - 2022 - Louwyck et al - The Radius of Influence Myth.pdf', 'start_index': 1534, 'subject': '', 'title': 'Microsoft Word - water-1482837.docx', 'total_pages': 28, 'trapped': ''}\n",
            "\n",
            "page_content='sion of aquifers separated by relatively less permeable aquitards, and a complete under‐\n",
            "standing of flow in the pumped aquifer without analyzing the multi‐aquifer system as a \n",
            "whole is impossible [56]. These arguments may lead to the conclusion of abandoning the \n",
            "radius of influence concept [1], although it is a well‐known and useful concept [33,57–63]. \n",
            "Moreover, approaches applying this concept to groundwater management have proven \n",
            "to be valuable, provided that they are theoretically justified [35,46,64]. \n",
            "In this paper, it is shown that the radius of influence is a parameter that can be de‐\n",
            "rived from well‐known one‐dimensional axisymmetric models. These and other analyti‐\n",
            "cal models are still useful, not only in an educational context [65] but also because they \n",
            "have some advantages over numerical models [66]. In practice, groundwater studies are \n",
            "constrained by time and budget, often impeding the setup of data hungry numerical mod‐' metadata={'author': 'MDPI', 'creationDate': \"D:20220107175458+08'00'\", 'creator': 'PScript5.dll Version 5.2.2', 'file_path': './data/Water - 2022 - Louwyck et al - The Radius of Influence Myth.pdf', 'format': 'PDF 1.7', 'keywords': '', 'modDate': \"D:20220107110211+01'00'\", 'page': 2, 'producer': 'Acrobat Distiller 17.0 (Windows)', 'source': './data/Water - 2022 - Louwyck et al - The Radius of Influence Myth.pdf', 'start_index': 776, 'subject': '', 'title': 'Microsoft Word - water-1482837.docx', 'total_pages': 28, 'trapped': ''}\n",
            "\n",
            "page_content='Abstract: Empirical formulas to estimate the radius of influence, such as the Sichardt formula, oc‐\n",
            "casionally appear in studies assessing the environmental impact of groundwater extractions. As \n",
            "they are inconsistent with fundamental hydrogeological principles, the term “radius of influence \n",
            "myth” is used by analogy with the water budget myth. Alternative formulations based on the well‐\n",
            "known de Glee and Theis equations are presented, and the contested formula that estimates the \n",
            "radius of influence by balancing pumping and infiltration rate is derived from an asymptotic solu‐\n",
            "tion of an analytical model developed by Ernst in 1971. The transient state solution of this model is \n",
            "developed applying the Laplace transform, and it is verified against the finite‐difference solution. \n",
            "Examining drawdown and total storage change reveals the relations between the presented one‐\n",
            "dimensional radial flow solutions. The assumptions underlying these solutions are discussed in de‐' metadata={'author': 'MDPI', 'creationDate': \"D:20220107175458+08'00'\", 'creator': 'PScript5.dll Version 5.2.2', 'file_path': './data/Water - 2022 - Louwyck et al - The Radius of Influence Myth.pdf', 'format': 'PDF 1.7', 'keywords': '', 'modDate': \"D:20220107110211+01'00'\", 'page': 0, 'producer': 'Acrobat Distiller 17.0 (Windows)', 'source': './data/Water - 2022 - Louwyck et al - The Radius of Influence Myth.pdf', 'start_index': 734, 'subject': '', 'title': 'Microsoft Word - water-1482837.docx', 'total_pages': 28, 'trapped': ''}\n",
            "\n"
          ]
        }
      ]
    },
    {
      "cell_type": "markdown",
      "source": [
        "## **5. Using the RAG App**"
      ],
      "metadata": {
        "id": "Tmy84RIs51Uq"
      }
    },
    {
      "cell_type": "markdown",
      "source": [
        "We define a function to make asking questions to the RAG app easier and to wrap up the answer:"
      ],
      "metadata": {
        "id": "8O3H_LIvaRML"
      }
    },
    {
      "cell_type": "code",
      "source": [
        "import textwrap\n",
        "\n",
        "def ask_question(question, print_sources=False):\n",
        "    response = rag_chain.invoke({\"input\": question})\n",
        "\n",
        "    # Wrap the answer to fit the window width\n",
        "    wrapped_answer = textwrap.fill(response[\"answer\"], width=80)\n",
        "    print(wrapped_answer)\n",
        "\n",
        "    if print_sources:\n",
        "        print('\\n\\nSOURCES:\\n')\n",
        "        for document in response[\"context\"]:\n",
        "            # Wrap the document content to fit the window width\n",
        "            wrapped_doc = textwrap.fill(document.page_content, width=80)\n",
        "            print(wrapped_doc)\n",
        "            print()"
      ],
      "metadata": {
        "id": "ssPhkDO-lJJq"
      },
      "execution_count": 22,
      "outputs": []
    },
    {
      "cell_type": "markdown",
      "source": [
        "Let's ask some questions about the papers:"
      ],
      "metadata": {
        "id": "GhLHFK1_3WVU"
      }
    },
    {
      "cell_type": "code",
      "source": [
        "ask_question(\"What is the water budget myth?\")"
      ],
      "metadata": {
        "id": "jOGZGYNZsJY3",
        "colab": {
          "base_uri": "https://localhost:8080/"
        },
        "outputId": "804f4648-05c1-485b-87bf-eefd9863b32c"
      },
      "execution_count": 23,
      "outputs": [
        {
          "output_type": "stream",
          "name": "stdout",
          "text": [
            "La mythe du budget d'eau est l'idée selon laquelle la pompage d'eau souterraine\n",
            "est considérée comme durable si elle ne dépasse pas le taux d'alimentation\n",
            "initiale.\n"
          ]
        }
      ]
    },
    {
      "cell_type": "code",
      "source": [
        "ask_question(\"Is applying the Sichardt formula a good way of determining the radius of influence?\",\n",
        "             print_sources=True)"
      ],
      "metadata": {
        "colab": {
          "base_uri": "https://localhost:8080/"
        },
        "id": "0aDvui2_7sCC",
        "outputId": "aba4b057-b1ac-4175-e7fa-5765a10003ba"
      },
      "execution_count": 24,
      "outputs": [
        {
          "output_type": "stream",
          "name": "stdout",
          "text": [
            "Non, l'application de la formule de Sichardt n'est pas un bon moyen de\n",
            "déterminer le rayon d'influence.\n",
            "\n",
            "\n",
            "SOURCES:\n",
            "\n",
            "Water 2022, 13, 149. https://doi.org/10.3390/w14020149 \n",
            "www.mdpi.com/journal/water  Article  The Radius of Influence Myth  Andy Louwyck \n",
            "1,*, Alexander Vandenbohede 2, Dirk Libbrecht 3, Marc Van Camp 1 and Kristine Wa\n",
            "lraevens 1  1  Laboratory for Applied Geology and Hydrogeology, Department of Ge\n",
            "ology, Ghent University,   \n",
            "Krijgslaan 281‐S8, 9000 Ghent, Belgium; Marc.VanCamp@UGent.be (M.V.C.);   \n",
            "Kristine.Walraevens@UGent.be (K.W.)  2  De Watergroep, Water Resources and Envir\n",
            "onment, Vooruitgangstraat 189, 1030 Brussels, Belgium;   \n",
            "Alexander.Vandenbohede@dewatergroep.be  3  Arcadis Belgium nv/sa, Gaston Crommen\n",
            "laan 8, Bus 101, 9050 Ghent, Belgium; Dirk.Libbrecht@arcadis.com  * \n",
            "Correspondence: Andy.Louwyck@gmail.com  Abstract: Empirical formulas to estimate\n",
            " the radius of influence, such as the Sichardt formula, oc‐ casionally appear in\n",
            " studies assessing the environmental impact of groundwater extractions. As\n",
            "\n",
            "1. Introduction  This paper stems from our concern about the use of empirical fo\n",
            "rmulas to assess the  impact of groundwater extractions. Zhai et al. [1] give an\n",
            " overview of different empirical  relations that are in use. This study focuses \n",
            "on the formula of Sichardt as it is frequently  applied by groundwater consultan\n",
            "ts in Flanders and the Netherlands to estimate the ra‐ dius of influence in case\n",
            " of pumping or dewatering [2–7]. Since the formula and its vari‐ ants are recomm\n",
            "ended in many textbooks on geotechnical engineering [8–22] and applied  in dewat\n",
            "ering and groundwater studies published in peer‐reviewed journals [23–32], we  m\n",
            "ay conclude its use is worldwide, although some researchers advise against it [1\n",
            ",33–35].  The formula was published first by Kyrieleis and Sichardt in 1930 [36]\n",
            ", but they men‐ tion Sichardt as the discoverer, unfortunately without citation.\n",
            " Some authors refer to [37],  and although the problem concerning the radius of \n",
            "influence is addressed in Sichardt’s\n",
            "\n",
            "Water 2022, 13, 149  2  of  28      Sichardt formula [36] is applied without cit\n",
            "ation, which may indicate it has become a  standard tool in dewatering studies. \n",
            "Since empirical formulas such as the Sichardt equation [36] are widely used, yet\n",
            " not  in agreement with some of the fundamental principles of groundwater flow [\n",
            "1], we con‐ sider the term “radius of influence myth” well placed by analogy wit\n",
            "h the groundwater  budget myth introduced by Bredehoeft et al. [40] and revisite\n",
            "d by Bredehoeft [41]. The  main objective of this paper is to debunk the myth an\n",
            "d to present alternative formulas  that are consistent with fundamental laws and\n",
            " principles applied in hydrogeology. In fact,  the work of Bredehoeft et al. [40\n",
            "] and Bredehoeft [41] is highly relevant, as it addresses  sustainable groundwat\n",
            "er development and brings up the fundamental hydrological prin‐ ciples that were\n",
            " stated first by Theis in 1940 [42] and revisited recently by Konikow and\n",
            "\n",
            "9. Conclusions  The radius of influence myth refers to the use of empirical form\n",
            "ulas to assess the  environmental impact of groundwater extractions. As an examp\n",
            "le, the frequently used  Sichardt formula [36] was examined, which estimates the\n",
            " radius of influence merely con‐ sidering the aquifer conductivity and drawdown \n",
            "in the pumping well. It is shown that the  Sichardt formula [36] is not consiste\n",
            "nt with the fundamental Thiem equation [70]. It also  tends to underestimate the\n",
            " extent of the cone of depression, and therefore, its use must be  discouraged. \n",
            "A distinction must be made between sustainable pumping and sustainability [50], \n",
            "the latter being a much broader concept that in many cases requires advanced num\n",
            "erical  modelling.  Concerning  sustainable  pumping,  the  fundamental \n",
            "hydrological  principles  that were stated first by Theis [42] must be kept in m\n",
            "ind. The extraction causes a cone of  depression, which is determined by the cha\n",
            "nge of aquifer storage and the sources and\n",
            "\n",
            "The  Sichardt  formula  [36]  determines  the  radius  of  influence  of  an \n",
            "extraction  by  merely considering the aquifer conductivity and the lowering of \n",
            "the water level in the  well. The radius of influence is defined as the boundary\n",
            " of the cone of depression, i.e., the  radial distance from the center of the we\n",
            "ll to the point where there is no lowering of the  water table or potentiometric\n",
            " surface [53] or beyond which drawdown is negligible or  unobservable [54]. This\n",
            " definition implies the assumption of axial symmetry around the  axis of the wel\n",
            "l. Axisymmetric models simulating flow to a well are frequently applied to  anal\n",
            "yze aquifer tests [55], in which case this assumption is justified because of th\n",
            "e limited\n",
            "\n",
            "Abstract: Empirical formulas to estimate the radius of influence, such as the Si\n",
            "chardt formula, oc‐ casionally appear in studies assessing the environmental imp\n",
            "act of groundwater extractions. As  they are inconsistent with fundamental hydro\n",
            "geological principles, the term “radius of influence  myth” is used by analogy w\n",
            "ith the water budget myth. Alternative formulations based on the well‐ known de \n",
            "Glee and Theis equations are presented, and the contested formula that estimates\n",
            " the  radius of influence by balancing pumping and infiltration rate is derived \n",
            "from an asymptotic solu‐ tion of an analytical model developed by Ernst in 1971.\n",
            " The transient state solution of this model is  developed applying the Laplace t\n",
            "ransform, and it is verified against the finite‐difference solution.  Examining \n",
            "drawdown and total storage change reveals the relations between the presented on\n",
            "e‐ dimensional radial flow solutions. The assumptions underlying these solutions\n",
            " are discussed in de‐\n",
            "\n"
          ]
        }
      ]
    },
    {
      "cell_type": "markdown",
      "source": [
        "It seems the answers the LLM generates from the retrieved context are acceptable, although some technical terms are not translated correctly into French."
      ],
      "metadata": {
        "id": "gwuSyyoc7rqm"
      }
    },
    {
      "cell_type": "markdown",
      "source": [
        "---"
      ],
      "metadata": {
        "id": "Rp9H_5M83mQl"
      }
    }
  ]
}