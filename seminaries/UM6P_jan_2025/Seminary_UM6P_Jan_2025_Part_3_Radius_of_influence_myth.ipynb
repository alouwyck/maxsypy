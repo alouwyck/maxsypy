{
  "nbformat": 4,
  "nbformat_minor": 0,
  "metadata": {
    "colab": {
      "provenance": [],
      "authorship_tag": "ABX9TyMz+8ocj7BuVR9D4aJ0FQoD",
      "include_colab_link": true
    },
    "kernelspec": {
      "name": "python3",
      "display_name": "Python 3"
    },
    "language_info": {
      "name": "python"
    }
  },
  "cells": [
    {
      "cell_type": "markdown",
      "metadata": {
        "id": "view-in-github",
        "colab_type": "text"
      },
      "source": [
        "<a href=\"https://colab.research.google.com/github/alouwyck/maxsypy/blob/main/seminaries/UM6P_jan_2025/Seminary_UM6P_Jan_2025_Part_3_Radius_of_influence_myth.ipynb\" target=\"_parent\"><img src=\"https://colab.research.google.com/assets/colab-badge.svg\" alt=\"Open In Colab\"/></a>"
      ]
    },
    {
      "cell_type": "markdown",
      "source": [
        "<img src=\"data:image/png;base64,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\" align=\"right\" /><br>\n",
        "\n",
        "\n",
        "**Axisymmetric Flow in Multilayer Aquifer Systems**<br>\n",
        "Seminary on Groundwater Modeling<br>\n",
        "University Mohammed VI Polytechnic<br>\n",
        "January 6, 2025<br>\n",
        "Dr. Andy Louwyck\n",
        "\n",
        "---\n",
        "\n",
        "\n",
        "\n",
        "---"
      ],
      "metadata": {
        "id": "9Swt1i8gtQr_"
      }
    },
    {
      "cell_type": "markdown",
      "source": [
        "# **Part 3 - The Radius of Influence Myth**"
      ],
      "metadata": {
        "id": "yswE9hdQSUcb"
      }
    },
    {
      "cell_type": "markdown",
      "source": [
        "This notebook contains some code examples to illustrate \"the radius of influence myth\" discussed in the third part of the presentation. The explanation provided with each example is relatively concise. If you want to get a good understanding of what's going on, I recommend reading the notebook side by side with the slides. For a full comprehension of the discussed formulas, I refer to [my PhD thesis](https://github.com/alouwyck/PhD) (Louwyck, 2023)."
      ],
      "metadata": {
        "id": "EFvYz3KykdTm"
      }
    },
    {
      "cell_type": "markdown",
      "source": [
        "## 0. Import statements"
      ],
      "metadata": {
        "id": "sBmtYhet-NLJ"
      }
    },
    {
      "cell_type": "markdown",
      "source": [
        "We need the following libraries:\n",
        "- [NumPy](https://numpy.org/)\n",
        "- [Matplotlib](https://matplotlib.org/)"
      ],
      "metadata": {
        "id": "yO57RJnu-SwK"
      }
    },
    {
      "cell_type": "code",
      "source": [
        "import numpy as np\n",
        "import matplotlib.pyplot as plt"
      ],
      "metadata": {
        "id": "J7PGsbbv-kK8"
      },
      "execution_count": 1,
      "outputs": []
    },
    {
      "cell_type": "markdown",
      "source": [
        "We also clone the MAxSyPy package from GitHub for simulating axisymmetric groundwater flow:"
      ],
      "metadata": {
        "id": "Uduin5Lb-oOh"
      }
    },
    {
      "cell_type": "code",
      "source": [
        "import os, shutil\n",
        "\n",
        "# remove directory 'maxsypy' first if it already exists\n",
        "path = \"maxsypy\"\n",
        "if os.path.exists(path):\n",
        "    shutil.rmtree(path)\n",
        "\n",
        "# clone maxsypy repository from Github\n",
        "!git clone https://github.com/alouwyck/maxsypy\n",
        "\n",
        "\n",
        "# put maxsypy package directory in the current working directory\n",
        "os.rename(path, 'temp')\n",
        "shutil.copytree(os.path.join('temp', path), path);\n",
        "shutil.rmtree('temp')"
      ],
      "metadata": {
        "colab": {
          "base_uri": "https://localhost:8080/"
        },
        "id": "y0Y-YtP9oT_J",
        "outputId": "60376e5f-568b-4c50-b1db-64a641366ae8"
      },
      "execution_count": 2,
      "outputs": [
        {
          "output_type": "stream",
          "name": "stdout",
          "text": [
            "Cloning into 'maxsypy'...\n",
            "remote: Enumerating objects: 132, done.\u001b[K\n",
            "remote: Counting objects: 100% (72/72), done.\u001b[K\n",
            "remote: Compressing objects: 100% (67/67), done.\u001b[K\n",
            "remote: Total 132 (delta 29), reused 0 (delta 0), pack-reused 60 (from 1)\u001b[K\n",
            "Receiving objects: 100% (132/132), 6.13 MiB | 9.71 MiB/s, done.\n",
            "Resolving deltas: 100% (63/63), done.\n"
          ]
        }
      ]
    },
    {
      "cell_type": "markdown",
      "source": [
        "The [MAxSyPy](https://github.com/alouwyck/maxsypy) package implements several analytical and semi-analytical solutions discussed in my PhD thesis (Louwyck, 2023)."
      ],
      "metadata": {
        "id": "THKmzKd8-2rS"
      }
    },
    {
      "cell_type": "markdown",
      "source": [
        "## 1. The Sichardt formula"
      ],
      "metadata": {
        "id": "JsdlmChGKQ8z"
      }
    },
    {
      "cell_type": "markdown",
      "source": [
        "The Sichardt is an empirical formula to estimate the radius of influence $R$:\n",
        "\n",
        "> $R = 3000 s_w \\sqrt{K}$\n",
        "\n",
        "with $s_w$ the drawdown (m) in the pumping well and $K$ the aquifer conductivity (m/s). Usually, the calculated radius of influence is introduced in the Thiem or the Dupuit equation to estimate the pumping rate $Q$ that is required to obtain drawdown $s_w$ in the well.\n",
        "\n",
        "Here, we'll combine the Sichardt formula with the Thiem-Dupuit equations to simulate the cone of depression when $Q$ is given, which is a bit more challenging."
      ],
      "metadata": {
        "id": "lHe_RDgzXVbo"
      }
    },
    {
      "cell_type": "markdown",
      "source": [
        "Let's get back to the running example from previous notebooks to illustrate this:"
      ],
      "metadata": {
        "id": "BNf1IlHEfBhB"
      }
    },
    {
      "cell_type": "code",
      "source": [
        "Q  = -1000   # pumping rate (m³/d): Q < 0 -> extraction\n",
        "R  = 500     # radius of influence (m)\n",
        "K  = 10      # conductivity (m/d)\n",
        "h0 = 20      # initial head = initial aquifer thickness (m)\n",
        "T  = K * h0  # aquifer transmissivity (m²/d)\n",
        "rw = 0.1     # well-radius (m)"
      ],
      "metadata": {
        "id": "ol-rNpgFeO8N"
      },
      "execution_count": 3,
      "outputs": []
    },
    {
      "cell_type": "markdown",
      "source": [
        "We define the empirical Sichardt formula as a function `sichardt` using `lambda`:"
      ],
      "metadata": {
        "id": "eS3nn8umfJs9"
      }
    },
    {
      "cell_type": "code",
      "source": [
        "sichardt = lambda K, sw: 3000 * sw * np.sqrt(K / 24 / 3600)"
      ],
      "metadata": {
        "id": "TFBHcxRtXfZ-"
      },
      "execution_count": 4,
      "outputs": []
    },
    {
      "cell_type": "markdown",
      "source": [
        "Note that conductivity `K` in the original Sichardt formula is expressed in m/s instead of m/d!"
      ],
      "metadata": {
        "id": "g2JJp2KxfOC-"
      }
    },
    {
      "cell_type": "markdown",
      "source": [
        "Let's calculate the radius of influence according to the Sichardt formula when the Dupuit and the Thiem equations are applied:"
      ],
      "metadata": {
        "id": "HvIhyzfffVi3"
      }
    },
    {
      "cell_type": "code",
      "source": [
        "# Dupuit\n",
        "from maxsypy.special import dupuit\n",
        "\n",
        "sw = h0 - dupuit(r=rw, K=K, h0=h0, Q=Q, r_out=R)  # drawdown (m) in the well\n",
        "sichardt(K, sw)  # radius (m) of influence according to Sichardt"
      ],
      "metadata": {
        "colab": {
          "base_uri": "https://localhost:8080/"
        },
        "id": "o0JJ7csuKTTt",
        "outputId": "27ccbbc4-613a-4076-cc1a-fad39ef745c0"
      },
      "execution_count": 5,
      "outputs": [
        {
          "output_type": "execute_result",
          "data": {
            "text/plain": [
              "279.08255651720174"
            ]
          },
          "metadata": {},
          "execution_count": 5
        }
      ]
    },
    {
      "cell_type": "code",
      "source": [
        "# Thiem\n",
        "from maxsypy.special import thiem\n",
        "\n",
        "sw = h0 - thiem(r=rw, T=T, Q=Q, r_out=R, h_out=h0)  # drawdown (m) in the well\n",
        "sichardt(K, sw)  # radius (m) of influence according to Sichardt"
      ],
      "metadata": {
        "colab": {
          "base_uri": "https://localhost:8080/"
        },
        "id": "p3ge02erLfZ5",
        "outputId": "c08f46fd-93cf-456f-c757-00cb37196b5d"
      },
      "execution_count": 6,
      "outputs": [
        {
          "output_type": "execute_result",
          "data": {
            "text/plain": [
              "218.75148892163827"
            ]
          },
          "metadata": {},
          "execution_count": 6
        }
      ]
    },
    {
      "cell_type": "markdown",
      "source": [
        "The problem is that the Dupuit and Thiem equations return a different drawdown `sw` in the well. For instance, check the Thiem result:"
      ],
      "metadata": {
        "id": "3zNW4eLhfmTB"
      }
    },
    {
      "cell_type": "code",
      "source": [
        "# drawdown sw introduced the Sichardt formule\n",
        "print(sw)\n",
        "# drawdown sw according to the Thiem equation using R according to Sichardt\n",
        "print(h0 - thiem(r=rw, T=T, Q=Q, r_out=sichardt(K, sw), h_out=h0))"
      ],
      "metadata": {
        "colab": {
          "base_uri": "https://localhost:8080/"
        },
        "id": "uaEgPIaGY1VV",
        "outputId": "8f40c697-b256-4adc-db31-8c44ab6483b1"
      },
      "execution_count": 7,
      "outputs": [
        {
          "output_type": "stream",
          "name": "stdout",
          "text": [
            "6.777766988412651\n",
            "6.119922498481639\n"
          ]
        }
      ]
    },
    {
      "cell_type": "markdown",
      "source": [
        "We need to find a value for `R` that gives the same result! Mathematically, we need to find the intersect of the two equations. To illustrate this, let's plot drawdown in the well `sw` as a function of radius of influence `R`. To do that, we need to rearrange the Sichardt equation as follows:\n",
        "\n",
        "> $s_w = \\dfrac{R}{3000\\sqrt{K}}$"
      ],
      "metadata": {
        "id": "07ZMIe78gSiL"
      }
    },
    {
      "cell_type": "code",
      "source": [
        "R = np.logspace(0, 4, 100)  # values for R\n",
        "sw1 = [h0 - thiem(r=rw, T=T, Q=Q, r_out=R, h_out=h0) for R in R]  # sw according to Thiem\n",
        "sw2 = [R / 3000 / np.sqrt(K / 24 / 3600) for R in R]  # sw according to Sichardt\n",
        "\n",
        "plt.loglog(R, sw1, 'b-', R, sw2, 'r-');\n",
        "plt.legend(['Thiem', 'Sichardt']);\n",
        "plt.xlabel('$R$ (m)');\n",
        "plt.ylabel('$s_w$ (m)')\n",
        "plt.grid();"
      ],
      "metadata": {
        "colab": {
          "base_uri": "https://localhost:8080/",
          "height": 456
        },
        "id": "yFUFHT5ZoVwR",
        "outputId": "78634909-a7f9-4fb8-bd21-dc89c8fe5b10"
      },
      "execution_count": 8,
      "outputs": [
        {
          "output_type": "display_data",
          "data": {
            "text/plain": [
              "<Figure size 640x480 with 1 Axes>"
            ],
            "image/png": "[encoded data removed]"
          },
          "metadata": {}
        }
      ]
    },
    {
      "cell_type": "markdown",
      "source": [
        "It's difficult to see the value of `R` that corresponds to the point where the two curves intersect. Fortunately, it is possible to find that value by applying an iterative solver. First, we define a function that calculates the difference between a given value for `R` and the value calculated by the Sichardt formula:"
      ],
      "metadata": {
        "id": "L3kiHwuVuzY0"
      }
    },
    {
      "cell_type": "code",
      "source": [
        "def func(logR):\n",
        "    # logR = log10(R)\n",
        "    sw = h0 - thiem(r=rw, T=T, Q=Q, h_out=h0, r_out=10**logR)\n",
        "    R = sichardt(K=K, sw=sw)\n",
        "    return R - 10**logR"
      ],
      "metadata": {
        "id": "QFGMGlhuccvn"
      },
      "execution_count": 9,
      "outputs": []
    },
    {
      "cell_type": "markdown",
      "source": [
        "Note that the given value is log-transformed. That's not required, but it avoids negative values for `R`.\n",
        "\n",
        "Now it is possible to apply Scipy function `root_scalar` from module `scipy.optimize` that finds the root of a scalar function. In this case, it will find the root of function `func`, which corresponds to the case where the given value for `R` and the calculated value according to Sichardt are the same!"
      ],
      "metadata": {
        "id": "uC6AHoiQhKOe"
      }
    },
    {
      "cell_type": "code",
      "source": [
        "from scipy.optimize import root_scalar\n",
        "\n",
        "result = root_scalar(func, x0=2)  # x0 is initial guess for logR\n",
        "print(result)\n",
        "R_sich = 10**result.root\n",
        "print('R:', R_sich)"
      ],
      "metadata": {
        "colab": {
          "base_uri": "https://localhost:8080/"
        },
        "id": "mbvCQkspaz8f",
        "outputId": "3a9d8a3f-a09d-4939-ec3c-44fa517faa54"
      },
      "execution_count": 10,
      "outputs": [
        {
          "output_type": "stream",
          "name": "stdout",
          "text": [
            "      converged: True\n",
            "           flag: converged\n",
            " function_calls: 12\n",
            "     iterations: 6\n",
            "           root: 2.288924053159003\n",
            "         method: newton\n",
            "R: 194.50199183430985\n"
          ]
        }
      ]
    },
    {
      "cell_type": "markdown",
      "source": [
        "Checking whether the derived value for `R` is consistent:"
      ],
      "metadata": {
        "id": "XiPzHMzMhs8o"
      }
    },
    {
      "cell_type": "code",
      "source": [
        "sw = h0 - thiem(r=rw, T=T, Q=Q, r_out=R_sich, h_out=h0)\n",
        "print(sichardt(K=K, sw=sw))"
      ],
      "metadata": {
        "colab": {
          "base_uri": "https://localhost:8080/"
        },
        "id": "HC3xEwL0c9Y1",
        "outputId": "cefc611f-c085-4059-f8fa-5ef7873d9102"
      },
      "execution_count": 11,
      "outputs": [
        {
          "output_type": "stream",
          "name": "stdout",
          "text": [
            "194.5019918343098\n"
          ]
        }
      ]
    },
    {
      "cell_type": "markdown",
      "source": [
        "We get the same value for `R` indeed! There are cases, however, for which it is mathematically impossible to solve the system of two equations as the Sichardt formula is not consistent with the Thiem-Dupuit equations."
      ],
      "metadata": {
        "id": "gQzFy3cJh19S"
      }
    },
    {
      "cell_type": "markdown",
      "source": [
        "As an example, consider the following parameters:"
      ],
      "metadata": {
        "id": "1kzNBMAu3mjP"
      }
    },
    {
      "cell_type": "code",
      "source": [
        "K = 1 # m/d\n",
        "h0 = 10 # m\n",
        "T = K * h0 # m²/d\n",
        "Q = -1 # m³/d\n",
        "rw = 0.1 # m"
      ],
      "metadata": {
        "id": "GgDBL2fe3r6k"
      },
      "execution_count": 25,
      "outputs": []
    },
    {
      "cell_type": "markdown",
      "source": [
        "In this case, the Sichardt curve (red) and the Thiem curve (blue) do not intersect. This means there is no mathematical solution, although the given parameters are realistic!"
      ],
      "metadata": {
        "id": "nt1fncrb32qJ"
      }
    },
    {
      "cell_type": "code",
      "source": [
        "R = np.logspace(np.log10(rw), 2, 100)  # values for R\n",
        "sw1 = [h0 - thiem(r=rw, T=T, Q=Q, r_out=R, h_out=h0) for R in R]  # sw according to Thiem\n",
        "sw2 = [R / 3000 / np.sqrt(K / 24 / 3600) for R in R]  # sw according to Sichardt\n",
        "\n",
        "plt.loglog(R, sw1, 'b-', R, sw2, 'r-');\n",
        "plt.legend(['Thiem', 'Sichardt']);\n",
        "plt.xlabel('$R$ (m)');\n",
        "plt.ylabel('$s_w$ (m)')\n",
        "plt.grid();"
      ],
      "metadata": {
        "colab": {
          "base_uri": "https://localhost:8080/",
          "height": 456
        },
        "id": "Kd8ySgAe2jLP",
        "outputId": "45807690-0271-49d0-f8f8-e02d3c22def6"
      },
      "execution_count": 26,
      "outputs": [
        {
          "output_type": "display_data",
          "data": {
            "text/plain": [
              "<Figure size 640x480 with 1 Axes>"
            ],
            "image/png": "[encoded data removed]"
          },
          "metadata": {}
        }
      ]
    },
    {
      "cell_type": "markdown",
      "source": [
        "This example illustrates that the Sichardt formula is non consistent with fundamental hydrogeological principles indeed! Moreover, it may underestimate the extent of the cone of depression."
      ],
      "metadata": {
        "id": "zh1N0I_v4lC5"
      }
    },
    {
      "cell_type": "markdown",
      "source": [
        "## 2. Alternatives"
      ],
      "metadata": {
        "id": "86Fto0es11-l"
      }
    },
    {
      "cell_type": "markdown",
      "source": [
        "The previous notebook discussed well-known one-dimensional axisymmetric models that provide alternative formulas to estimate the radius of influence:\n",
        "\n",
        "- de Glee (1930)\n",
        "- Theis (1935)\n",
        "- Hantush-Jacob (1955)\n",
        "- Ernst (1971)\n",
        "\n",
        "As these formulas are consistent with fundamental hydrogeological principles, they are better alternatives to the empirical Sichardt formula."
      ],
      "metadata": {
        "id": "ITLklIwH14nb"
      }
    },
    {
      "cell_type": "markdown",
      "source": [
        "---"
      ],
      "metadata": {
        "id": "jU4dPtYEzzHt"
      }
    }
  ]
}